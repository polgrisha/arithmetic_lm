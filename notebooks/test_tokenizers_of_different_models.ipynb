{
 "cells": [
  {
   "cell_type": "markdown",
   "metadata": {},
   "source": [
    "Let's test how different models tokenize digits and numbers"
   ]
  },
  {
   "cell_type": "code",
   "execution_count": null,
   "metadata": {},
   "outputs": [
    {
     "name": "stdout",
     "output_type": "stream",
     "text": [
      "The token has not been saved to the git credentials helper. Pass `add_to_git_credential=True` in this function directly or `--add-to-git-credential` if using via `huggingface-cli` if you want to set the git credential as well.\n",
      "Token is valid (permission: write).\n",
      "Your token has been saved to /mnt/qb/work/eickhoff/esx208/.cache/huggingface/token\n",
      "Login successful\n"
     ]
    },
    {
     "data": {
      "application/vnd.jupyter.widget-view+json": {
       "model_id": "2995804218c340008bb1525a00736c08",
       "version_major": 2,
       "version_minor": 0
      },
      "text/plain": [
       "tokenizer_config.json:   0%|          | 0.00/2.28k [00:00<?, ?B/s]"
      ]
     },
     "metadata": {},
     "output_type": "display_data"
    },
    {
     "data": {
      "application/vnd.jupyter.widget-view+json": {
       "model_id": "8e5eadda09814f2a94820c62de7748cc",
       "version_major": 2,
       "version_minor": 0
      },
      "text/plain": [
       "tokenizer.model:   0%|          | 0.00/500k [00:00<?, ?B/s]"
      ]
     },
     "metadata": {},
     "output_type": "display_data"
    },
    {
     "data": {
      "application/vnd.jupyter.widget-view+json": {
       "model_id": "04867565747b48da8b149618c83f46bd",
       "version_major": 2,
       "version_minor": 0
      },
      "text/plain": [
       "tokenizer.json:   0%|          | 0.00/1.84M [00:00<?, ?B/s]"
      ]
     },
     "metadata": {},
     "output_type": "display_data"
    },
    {
     "data": {
      "application/vnd.jupyter.widget-view+json": {
       "model_id": "4cc2740d2cbf48d1b94a8cf9f8fd79c1",
       "version_major": 2,
       "version_minor": 0
      },
      "text/plain": [
       "special_tokens_map.json:   0%|          | 0.00/411 [00:00<?, ?B/s]"
      ]
     },
     "metadata": {},
     "output_type": "display_data"
    },
    {
     "name": "stderr",
     "output_type": "stream",
     "text": [
      "You are using the default legacy behaviour of the <class 'transformers.models.llama.tokenization_llama_fast.LlamaTokenizerFast'>. This is expected, and simply means that the `legacy` (previous) behavior will be used so nothing changes for you. If you want to use the new behaviour, set `legacy=False`. This should only be set if you understand what it means, and thoroughly read the reason why this was added as explained in https://github.com/huggingface/transformers/pull/24565 - if you loaded a llama tokenizer from a GGUF file you can ignore this message.\n",
      "/home/scratch_local/esx208-835201/ir_mech_interp/lib/python3.9/site-packages/transformers/tokenization_utils_base.py:1601: FutureWarning: `clean_up_tokenization_spaces` was not set. It will be set to `True` by default. This behavior will be depracted in transformers v4.45, and will be then set to `False` by default. For more details check this issue: https://github.com/huggingface/transformers/issues/31884\n",
      "  warnings.warn(\n"
     ]
    }
   ],
   "source": [
    "from transformers import AutoTokenizer, AutoModelForCausalLM\n",
    "import torch\n",
    "import random\n",
    "import yaml\n",
    "from omegaconf import DictConfig, OmegaConf\n",
    "from interventions import three_operands\n",
    "from tqdm.notebook import tqdm\n",
    "import numpy as np\n",
    "\n",
    "from huggingface_hub import login\n",
    "\n",
    "seed = 0\n",
    "random.seed(seed)\n",
    "torch.manual_seed(seed)\n",
    "\n",
    "torch.set_grad_enabled(False)\n",
    "\n",
    "\n",
    "# model_name = 'Qwen/Qwen2-1.5B'\n",
    "# # model_name = 'meta-llama/Llama-2-7b-hf'\n",
    "# tokenizer = AutoTokenizer.from_pretrained(model_name)\n",
    "# model = AutoModelForCausalLM.from_pretrained(\n",
    "#     model_name,\n",
    "#     torch_dtype=torch.float16,\n",
    "#     device_map=\"auto\"\n",
    "# )\n",
    "tokenizer_qwen_2 = AutoTokenizer.from_pretrained('Qwen/Qwen2-1.5B')\n",
    "tokenizer_llama_2 = AutoTokenizer.from_pretrained('meta-llama/Llama-2-7b-hf')\n",
    "tokenizer_llama = AutoTokenizer.from_pretrained('huggyllama/llama-7b')\n",
    "tokenizer_pythia = AutoTokenizer.from_pretrained('EleutherAI/pythia-6.9b-deduped-v0')\n",
    "tokenizer_mistral = AutoTokenizer.from_pretrained('mistralai/Mistral-7B-v0.3')\n",
    "tokenizer_opt = AutoTokenizer.from_pretrained('facebook/opt-6.7b')\n",
    "tokenizer_gemma = AutoTokenizer.from_pretrained('google/gemma-2-2b')"
   ]
  },
  {
   "cell_type": "code",
   "execution_count": 2,
   "metadata": {},
   "outputs": [
    {
     "name": "stdout",
     "output_type": "stream",
     "text": [
      "['0']\n",
      "['1']\n",
      "['2']\n",
      "['3']\n",
      "['4']\n",
      "['5']\n",
      "['6']\n",
      "['7']\n",
      "['8']\n",
      "['9']\n",
      "['1', '0']\n",
      "['1', '1']\n",
      "['1', '2']\n",
      "['1', '3']\n",
      "['1', '4']\n",
      "['1', '5']\n",
      "['1', '6']\n",
      "['1', '7']\n",
      "['1', '8']\n",
      "['1', '9']\n"
     ]
    }
   ],
   "source": [
    "numbers = [str(i) for i in range(20)]\n",
    "for item in numbers:\n",
    "    print(tokenizer_qwen_2.tokenize(item, add_special_tokens=False))"
   ]
  },
  {
   "cell_type": "code",
   "execution_count": 3,
   "metadata": {},
   "outputs": [
    {
     "name": "stdout",
     "output_type": "stream",
     "text": [
      "['▁', '0']\n",
      "['▁', '1']\n",
      "['▁', '2']\n",
      "['▁', '3']\n",
      "['▁', '4']\n",
      "['▁', '5']\n",
      "['▁', '6']\n",
      "['▁', '7']\n",
      "['▁', '8']\n",
      "['▁', '9']\n",
      "['▁', '1', '0']\n",
      "['▁', '1', '1']\n",
      "['▁', '1', '2']\n",
      "['▁', '1', '3']\n",
      "['▁', '1', '4']\n",
      "['▁', '1', '5']\n",
      "['▁', '1', '6']\n",
      "['▁', '1', '7']\n",
      "['▁', '1', '8']\n",
      "['▁', '1', '9']\n"
     ]
    }
   ],
   "source": [
    "for item in numbers:\n",
    "    print(tokenizer_llama_2.tokenize(item, add_special_tokens=False))"
   ]
  },
  {
   "cell_type": "code",
   "execution_count": 24,
   "metadata": {},
   "outputs": [
    {
     "name": "stdout",
     "output_type": "stream",
     "text": [
      "['▁', '0']\n",
      "['▁', '1']\n",
      "['▁', '2']\n",
      "['▁', '3']\n",
      "['▁', '4']\n",
      "['▁', '5']\n",
      "['▁', '6']\n",
      "['▁', '7']\n",
      "['▁', '8']\n",
      "['▁', '9']\n",
      "['▁', '1', '0']\n",
      "['▁', '1', '1']\n",
      "['▁', '1', '2']\n",
      "['▁', '1', '3']\n",
      "['▁', '1', '4']\n",
      "['▁', '1', '5']\n",
      "['▁', '1', '6']\n",
      "['▁', '1', '7']\n",
      "['▁', '1', '8']\n",
      "['▁', '1', '9']\n"
     ]
    }
   ],
   "source": [
    "for item in numbers:\n",
    "    print(tokenizer_llama.tokenize(item, add_special_tokens=False))"
   ]
  },
  {
   "cell_type": "code",
   "execution_count": 16,
   "metadata": {},
   "outputs": [
    {
     "data": {
      "text/plain": [
       "['▁', '1', '1', '▁', '1', '2']"
      ]
     },
     "execution_count": 16,
     "metadata": {},
     "output_type": "execute_result"
    }
   ],
   "source": [
    "tokenizer_llama_2.tokenize('11 12')"
   ]
  },
  {
   "cell_type": "code",
   "execution_count": 25,
   "metadata": {},
   "outputs": [
    {
     "data": {
      "text/plain": [
       "['▁The',\n",
       " '▁result',\n",
       " '▁of',\n",
       " '▁(',\n",
       " '▁',\n",
       " '4',\n",
       " '9',\n",
       " '▁-',\n",
       " '▁',\n",
       " '4',\n",
       " '7',\n",
       " '▁)',\n",
       " '▁*',\n",
       " '▁',\n",
       " '2',\n",
       " '▁=',\n",
       " '▁',\n",
       " '4',\n",
       " '.',\n",
       " '▁The',\n",
       " '▁result',\n",
       " '▁of',\n",
       " '▁(',\n",
       " '▁',\n",
       " '1',\n",
       " '0',\n",
       " '▁-',\n",
       " '▁',\n",
       " '8',\n",
       " '▁)',\n",
       " '▁*',\n",
       " '▁',\n",
       " '3',\n",
       " '▁=']"
      ]
     },
     "execution_count": 25,
     "metadata": {},
     "output_type": "execute_result"
    }
   ],
   "source": [
    "tokenizer_llama_2.tokenize('The result of ( 49 - 47 ) * 2 = 4. The result of ( 10 - 8 ) * 3 =')"
   ]
  },
  {
   "cell_type": "code",
   "execution_count": 4,
   "metadata": {},
   "outputs": [
    {
     "name": "stdout",
     "output_type": "stream",
     "text": [
      "['0']\n",
      "['1']\n",
      "['2']\n",
      "['3']\n",
      "['4']\n",
      "['5']\n",
      "['6']\n",
      "['7']\n",
      "['8']\n",
      "['9']\n",
      "['10']\n",
      "['11']\n",
      "['12']\n",
      "['13']\n",
      "['14']\n",
      "['15']\n",
      "['16']\n",
      "['17']\n",
      "['18']\n",
      "['19']\n"
     ]
    }
   ],
   "source": [
    "for item in numbers:\n",
    "    print(tokenizer_pythia.tokenize(item, add_special_tokens=False))"
   ]
  },
  {
   "cell_type": "code",
   "execution_count": 5,
   "metadata": {},
   "outputs": [
    {
     "name": "stdout",
     "output_type": "stream",
     "text": [
      "['▁', '0']\n",
      "['▁', '1']\n",
      "['▁', '2']\n",
      "['▁', '3']\n",
      "['▁', '4']\n",
      "['▁', '5']\n",
      "['▁', '6']\n",
      "['▁', '7']\n",
      "['▁', '8']\n",
      "['▁', '9']\n",
      "['▁', '1', '0']\n",
      "['▁', '1', '1']\n",
      "['▁', '1', '2']\n",
      "['▁', '1', '3']\n",
      "['▁', '1', '4']\n",
      "['▁', '1', '5']\n",
      "['▁', '1', '6']\n",
      "['▁', '1', '7']\n",
      "['▁', '1', '8']\n",
      "['▁', '1', '9']\n"
     ]
    }
   ],
   "source": [
    "for item in numbers:\n",
    "    print(tokenizer_mistral.tokenize(item, add_special_tokens=False))"
   ]
  },
  {
   "cell_type": "code",
   "execution_count": 6,
   "metadata": {},
   "outputs": [
    {
     "name": "stdout",
     "output_type": "stream",
     "text": [
      "['0']\n",
      "['1']\n",
      "['2']\n",
      "['3']\n",
      "['4']\n",
      "['5']\n",
      "['6']\n",
      "['7']\n",
      "['8']\n",
      "['9']\n",
      "['10']\n",
      "['11']\n",
      "['12']\n",
      "['13']\n",
      "['14']\n",
      "['15']\n",
      "['16']\n",
      "['17']\n",
      "['18']\n",
      "['19']\n"
     ]
    }
   ],
   "source": [
    "for item in numbers:\n",
    "    print(tokenizer_opt.tokenize(item, add_special_tokens=False))"
   ]
  },
  {
   "cell_type": "code",
   "execution_count": null,
   "metadata": {},
   "outputs": [
    {
     "data": {
      "text/plain": [
       "['1', '2', '▁', '1', '3', '▁', '1', '4', '▁', '1', '5']"
      ]
     },
     "execution_count": 19,
     "metadata": {},
     "output_type": "execute_result"
    }
   ],
   "source": [
    "tokenizer_gemma.tokenize('12 13 14 15')"
   ]
  },
  {
   "cell_type": "code",
   "execution_count": 20,
   "metadata": {},
   "outputs": [
    {
     "data": {
      "text/plain": [
       "['1', '2']"
      ]
     },
     "execution_count": 20,
     "metadata": {},
     "output_type": "execute_result"
    }
   ],
   "source": [
    "tokenizer_gemma.tokenize('12')"
   ]
  },
  {
   "cell_type": "markdown",
   "metadata": {},
   "source": [
    "Let's now try to create datasets using Christian's code for Llama, OPT and Qwen\n",
    "\n",
    "Llama:"
   ]
  },
  {
   "cell_type": "code",
   "execution_count": 7,
   "metadata": {},
   "outputs": [],
   "source": [
    "from omegaconf import DictConfig, OmegaConf\n",
    "from interventions import three_operands"
   ]
  },
  {
   "cell_type": "code",
   "execution_count": 8,
   "metadata": {},
   "outputs": [
    {
     "name": "stderr",
     "output_type": "stream",
     "text": [
      "  0%|                                                                                                                                                                                                                                        | 0/210 [00:00<?, ?it/s]"
     ]
    },
    {
     "name": "stdout",
     "output_type": "stream",
     "text": [
      "res base: 7\n",
      "res base wo whitespace: \n",
      "res base with prefix: 7\n",
      "res base tok: ['▁', '7']\n",
      "operands_base:  ('2', '2', '3')\n",
      "base string tok list:  [29871, 29906, 718, 29871, 29906, 718, 29871, 29946, 353, 29871, 29947, 29889, 29871, 29906, 718, 29871, 29906, 718, 29871, 29941, 353, 29871]\n",
      "z_base_tok:  29941\n",
      "y_base_tok:  29906\n",
      "x_base_tok:  29906\n"
     ]
    },
    {
     "name": "stderr",
     "output_type": "stream",
     "text": [
      "  1%|██▏                                                                                                                                                                                                                             | 2/210 [00:00<01:22,  2.52it/s]"
     ]
    },
    {
     "name": "stdout",
     "output_type": "stream",
     "text": [
      "res base: 8\n",
      "res base wo whitespace: \n",
      "res base with prefix: 8\n",
      "res base tok: ['▁', '8']\n",
      "operands_base:  ('3', '3', '2')\n",
      "base string tok list:  [29871, 29941, 718, 29871, 29941, 718, 29871, 29906, 353, 29871, 29947, 29889, 29871, 29941, 718, 29871, 29941, 718, 29871, 29906, 353, 29871]\n",
      "z_base_tok:  29906\n",
      "y_base_tok:  29941\n",
      "x_base_tok:  29941\n",
      "res base: 8\n",
      "res base wo whitespace: \n",
      "res base with prefix: 8\n",
      "res base tok: ['▁', '8']\n",
      "operands_base:  ('4', '2', '2')\n",
      "base string tok list:  [29871, 29906, 718, 29871, 29906, 718, 29871, 29906, 353, 29871, 29953, 29889, 29871, 29946, 718, 29871, 29906, 718, 29871, 29906, 353, 29871]\n",
      "z_base_tok:  29906\n",
      "y_base_tok:  29906\n",
      "x_base_tok:  29946\n"
     ]
    },
    {
     "name": "stderr",
     "output_type": "stream",
     "text": [
      "  2%|█████▎                                                                                                                                                                                                                          | 5/210 [00:01<00:49,  4.12it/s]"
     ]
    },
    {
     "name": "stdout",
     "output_type": "stream",
     "text": [
      "res base: 6\n",
      "res base wo whitespace: \n",
      "res base with prefix: 6\n",
      "res base tok: ['▁', '6']\n",
      "operands_base:  ('2', '2', '2')\n",
      "base string tok list:  [29871, 29906, 718, 29871, 29906, 718, 29871, 29906, 353, 29871, 29953, 29889, 29871, 29906, 718, 29871, 29906, 718, 29871, 29906, 353, 29871]\n",
      "z_base_tok:  29906\n",
      "y_base_tok:  29906\n",
      "x_base_tok:  29906\n",
      "res base: 8\n",
      "res base wo whitespace: \n",
      "res base with prefix: 8\n",
      "res base tok: ['▁', '8']\n",
      "operands_base:  ('2', '2', '4')\n",
      "base string tok list:  [29871, 29906, 718, 29871, 29941, 718, 29871, 29906, 353, 29871, 29955, 29889, 29871, 29906, 718, 29871, 29906, 718, 29871, 29946, 353, 29871]\n",
      "z_base_tok:  29946\n",
      "y_base_tok:  29906\n",
      "x_base_tok:  29906\n"
     ]
    },
    {
     "name": "stderr",
     "output_type": "stream",
     "text": [
      "  3%|██████▍                                                                                                                                                                                                                         | 6/210 [00:01<00:57,  3.54it/s]"
     ]
    },
    {
     "name": "stdout",
     "output_type": "stream",
     "text": [
      "res base: 8\n",
      "res base wo whitespace: \n",
      "res base with prefix: 8\n",
      "res base tok: ['▁', '8']\n",
      "operands_base:  ('3', '3', '2')\n",
      "base string tok list:  [29871, 29941, 718, 29871, 29906, 718, 29871, 29941, 353, 29871, 29947, 29889, 29871, 29941, 718, 29871, 29941, 718, 29871, 29906, 353, 29871]\n",
      "z_base_tok:  29906\n",
      "y_base_tok:  29941\n",
      "x_base_tok:  29941\n"
     ]
    },
    {
     "name": "stderr",
     "output_type": "stream",
     "text": [
      "  3%|███████▍                                                                                                                                                                                                                        | 7/210 [00:01<00:55,  3.64it/s]"
     ]
    },
    {
     "name": "stdout",
     "output_type": "stream",
     "text": [
      "res base: 8\n",
      "res base wo whitespace: \n",
      "res base with prefix: 8\n",
      "res base tok: ['▁', '8']\n",
      "operands_base:  ('3', '3', '2')\n",
      "base string tok list:  [29871, 29906, 718, 29871, 29906, 718, 29871, 29941, 353, 29871, 29955, 29889, 29871, 29941, 718, 29871, 29941, 718, 29871, 29906, 353, 29871]\n",
      "z_base_tok:  29906\n",
      "y_base_tok:  29941\n",
      "x_base_tok:  29941\n"
     ]
    },
    {
     "name": "stderr",
     "output_type": "stream",
     "text": [
      "  4%|████████▌                                                                                                                                                                                                                       | 8/210 [00:02<01:01,  3.30it/s]"
     ]
    },
    {
     "name": "stdout",
     "output_type": "stream",
     "text": [
      "res base: 8\n",
      "res base wo whitespace: \n",
      "res base with prefix: 8\n",
      "res base tok: ['▁', '8']\n",
      "operands_base:  ('3', '3', '2')\n",
      "base string tok list:  [29871, 29946, 718, 29871, 29906, 718, 29871, 29906, 353, 29871, 29947, 29889, 29871, 29941, 718, 29871, 29941, 718, 29871, 29906, 353, 29871]\n",
      "z_base_tok:  29906\n",
      "y_base_tok:  29941\n",
      "x_base_tok:  29941\n"
     ]
    },
    {
     "name": "stderr",
     "output_type": "stream",
     "text": [
      "  5%|██████████▌                                                                                                                                                                                                                    | 10/210 [00:02<00:51,  3.89it/s]"
     ]
    },
    {
     "name": "stdout",
     "output_type": "stream",
     "text": [
      "res base: 7\n",
      "res base wo whitespace: \n",
      "res base with prefix: 7\n",
      "res base tok: ['▁', '7']\n",
      "operands_base:  ('2', '3', '2')\n",
      "base string tok list:  [29871, 29941, 718, 29871, 29906, 718, 29871, 29941, 353, 29871, 29947, 29889, 29871, 29906, 718, 29871, 29941, 718, 29871, 29906, 353, 29871]\n",
      "z_base_tok:  29906\n",
      "y_base_tok:  29941\n",
      "x_base_tok:  29906\n",
      "res base: 6\n",
      "res base wo whitespace: \n",
      "res base with prefix: 6\n",
      "res base tok: ['▁', '6']\n",
      "operands_base:  ('2', '2', '2')\n",
      "base string tok list:  [29871, 29946, 718, 29871, 29906, 718, 29871, 29906, 353, 29871, 29947, 29889, 29871, 29906, 718, 29871, 29906, 718, 29871, 29906, 353, 29871]\n",
      "z_base_tok:  29906\n",
      "y_base_tok:  29906\n",
      "x_base_tok:  29906\n",
      "res base: 8\n",
      "res base wo whitespace: \n",
      "res base with prefix: 8\n",
      "res base tok: ['▁', '8']\n",
      "operands_base:  ('4', '2', '2')\n",
      "base string tok list:  [29871, 29906, 718, 29871, 29906, 718, 29871, 29906, 353, 29871, 29953, 29889, 29871, 29946, 718, 29871, 29906, 718, 29871, 29906, 353, 29871]\n",
      "z_base_tok:  29906\n",
      "y_base_tok:  29906\n",
      "x_base_tok:  29946\n"
     ]
    },
    {
     "name": "stderr",
     "output_type": "stream",
     "text": [
      "  6%|████████████▋                                                                                                                                                                                                                  | 12/210 [00:03<00:58,  3.36it/s]"
     ]
    },
    {
     "name": "stdout",
     "output_type": "stream",
     "text": [
      "res base: 8\n",
      "res base wo whitespace: \n",
      "res base with prefix: 8\n",
      "res base tok: ['▁', '8']\n",
      "operands_base:  ('3', '3', '2')\n",
      "base string tok list:  [29871, 29906, 718, 29871, 29906, 718, 29871, 29946, 353, 29871, 29947, 29889, 29871, 29941, 718, 29871, 29941, 718, 29871, 29906, 353, 29871]\n",
      "z_base_tok:  29906\n",
      "y_base_tok:  29941\n",
      "x_base_tok:  29941\n"
     ]
    },
    {
     "name": "stderr",
     "output_type": "stream",
     "text": [
      "  6%|█████████████▊                                                                                                                                                                                                                 | 13/210 [00:04<01:09,  2.82it/s]"
     ]
    },
    {
     "name": "stdout",
     "output_type": "stream",
     "text": [
      "res base: 7\n",
      "res base wo whitespace: \n",
      "res base with prefix: 7\n",
      "res base tok: ['▁', '7']\n",
      "operands_base:  ('2', '2', '3')\n",
      "base string tok list:  [29871, 29941, 718, 29871, 29906, 718, 29871, 29941, 353, 29871, 29947, 29889, 29871, 29906, 718, 29871, 29906, 718, 29871, 29941, 353, 29871]\n",
      "z_base_tok:  29941\n",
      "y_base_tok:  29906\n",
      "x_base_tok:  29906\n"
     ]
    },
    {
     "name": "stderr",
     "output_type": "stream",
     "text": [
      "  7%|██████████████▊                                                                                                                                                                                                                | 14/210 [00:04<01:09,  2.83it/s]"
     ]
    },
    {
     "name": "stdout",
     "output_type": "stream",
     "text": [
      "res base: 8\n",
      "res base wo whitespace: \n",
      "res base with prefix: 8\n",
      "res base tok: ['▁', '8']\n",
      "operands_base:  ('2', '4', '2')\n",
      "base string tok list:  [29871, 29906, 718, 29871, 29946, 718, 29871, 29906, 353, 29871, 29947, 29889, 29871, 29906, 718, 29871, 29946, 718, 29871, 29906, 353, 29871]\n",
      "z_base_tok:  29906\n",
      "y_base_tok:  29946\n",
      "x_base_tok:  29906\n"
     ]
    },
    {
     "name": "stderr",
     "output_type": "stream",
     "text": [
      "  7%|███████████████▉                                                                                                                                                                                                               | 15/210 [00:04<01:19,  2.45it/s]"
     ]
    },
    {
     "name": "stdout",
     "output_type": "stream",
     "text": [
      "res base: 8\n",
      "res base wo whitespace: \n",
      "res base with prefix: 8\n",
      "res base tok: ['▁', '8']\n",
      "operands_base:  ('4', '2', '2')\n",
      "base string tok list:  [29871, 29941, 718, 29871, 29906, 718, 29871, 29941, 353, 29871, 29947, 29889, 29871, 29946, 718, 29871, 29906, 718, 29871, 29906, 353, 29871]\n",
      "z_base_tok:  29906\n",
      "y_base_tok:  29906\n",
      "x_base_tok:  29946\n"
     ]
    },
    {
     "name": "stderr",
     "output_type": "stream",
     "text": [
      "  8%|████████████████▉                                                                                                                                                                                                              | 16/210 [00:05<01:09,  2.79it/s]"
     ]
    },
    {
     "name": "stdout",
     "output_type": "stream",
     "text": [
      "res base: 7\n",
      "res base wo whitespace: \n",
      "res base with prefix: 7\n",
      "res base tok: ['▁', '7']\n",
      "operands_base:  ('2', '3', '2')\n",
      "base string tok list:  [29871, 29906, 718, 29871, 29906, 718, 29871, 29941, 353, 29871, 29955, 29889, 29871, 29906, 718, 29871, 29941, 718, 29871, 29906, 353, 29871]\n",
      "z_base_tok:  29906\n",
      "y_base_tok:  29941\n",
      "x_base_tok:  29906\n"
     ]
    },
    {
     "name": "stderr",
     "output_type": "stream",
     "text": [
      "  9%|███████████████████                                                                                                                                                                                                            | 18/210 [00:05<00:58,  3.28it/s]"
     ]
    },
    {
     "name": "stdout",
     "output_type": "stream",
     "text": [
      "res base: 6\n",
      "res base wo whitespace: \n",
      "res base with prefix: 6\n",
      "res base tok: ['▁', '6']\n",
      "operands_base:  ('2', '2', '2')\n",
      "base string tok list:  [29871, 29941, 718, 29871, 29906, 718, 29871, 29941, 353, 29871, 29947, 29889, 29871, 29906, 718, 29871, 29906, 718, 29871, 29906, 353, 29871]\n",
      "z_base_tok:  29906\n",
      "y_base_tok:  29906\n",
      "x_base_tok:  29906\n",
      "res base: 7\n",
      "res base wo whitespace: \n",
      "res base with prefix: 7\n",
      "res base tok: ['▁', '7']\n",
      "operands_base:  ('3', '2', '2')\n",
      "base string tok list:  [29871, 29946, 718, 29871, 29906, 718, 29871, 29906, 353, 29871, 29947, 29889, 29871, 29941, 718, 29871, 29906, 718, 29871, 29906, 353, 29871]\n",
      "z_base_tok:  29906\n",
      "y_base_tok:  29906\n",
      "x_base_tok:  29941\n"
     ]
    },
    {
     "name": "stderr",
     "output_type": "stream",
     "text": [
      "  9%|████████████████████▏                                                                                                                                                                                                          | 19/210 [00:05<00:57,  3.33it/s]"
     ]
    },
    {
     "name": "stdout",
     "output_type": "stream",
     "text": [
      "res base: 8\n",
      "res base wo whitespace: \n",
      "res base with prefix: 8\n",
      "res base tok: ['▁', '8']\n",
      "operands_base:  ('2', '2', '4')\n",
      "base string tok list:  [29871, 29906, 718, 29871, 29906, 718, 29871, 29941, 353, 29871, 29955, 29889, 29871, 29906, 718, 29871, 29906, 718, 29871, 29946, 353, 29871]\n",
      "z_base_tok:  29946\n",
      "y_base_tok:  29906\n",
      "x_base_tok:  29906\n",
      "res base: 7\n",
      "res base wo whitespace: \n",
      "res base with prefix: 7\n",
      "res base tok: ['▁', '7']\n",
      "operands_base:  ('3', '2', '2')\n",
      "base string tok list:  [29871, 29941, 718, 29871, 29906, 718, 29871, 29941, 353, 29871, 29947, 29889, 29871, 29941, 718, 29871, 29906, 718, 29871, 29906, 353, 29871]\n",
      "z_base_tok:  29906\n",
      "y_base_tok:  29906\n",
      "x_base_tok:  29941\n"
     ]
    },
    {
     "name": "stderr",
     "output_type": "stream",
     "text": [
      " 10%|██████████████████████▎                                                                                                                                                                                                        | 21/210 [00:06<00:42,  4.49it/s]"
     ]
    },
    {
     "name": "stdout",
     "output_type": "stream",
     "text": [
      "res base: 7\n",
      "res base wo whitespace: \n",
      "res base with prefix: 7\n",
      "res base tok: ['▁', '7']\n",
      "operands_base:  ('2', '3', '2')\n",
      "base string tok list:  [29871, 29941, 718, 29871, 29906, 718, 29871, 29941, 353, 29871, 29947, 29889, 29871, 29906, 718, 29871, 29941, 718, 29871, 29906, 353, 29871]\n",
      "z_base_tok:  29906\n",
      "y_base_tok:  29941\n",
      "x_base_tok:  29906\n"
     ]
    },
    {
     "name": "stderr",
     "output_type": "stream",
     "text": [
      " 10%|███████████████████████▎                                                                                                                                                                                                       | 22/210 [00:06<00:41,  4.53it/s]"
     ]
    },
    {
     "name": "stdout",
     "output_type": "stream",
     "text": [
      "res base: 8\n",
      "res base wo whitespace: \n",
      "res base with prefix: 8\n",
      "res base tok: ['▁', '8']\n",
      "operands_base:  ('3', '2', '3')\n",
      "base string tok list:  [29871, 29906, 718, 29871, 29906, 718, 29871, 29946, 353, 29871, 29947, 29889, 29871, 29941, 718, 29871, 29906, 718, 29871, 29941, 353, 29871]\n",
      "z_base_tok:  29941\n",
      "y_base_tok:  29906\n",
      "x_base_tok:  29941\n"
     ]
    },
    {
     "name": "stderr",
     "output_type": "stream",
     "text": [
      " 11%|█████████████████████████▍                                                                                                                                                                                                     | 24/210 [00:06<00:38,  4.88it/s]"
     ]
    },
    {
     "name": "stdout",
     "output_type": "stream",
     "text": [
      "res base: 7\n",
      "res base wo whitespace: \n",
      "res base with prefix: 7\n",
      "res base tok: ['▁', '7']\n",
      "operands_base:  ('2', '2', '3')\n",
      "base string tok list:  [29871, 29941, 718, 29871, 29906, 718, 29871, 29941, 353, 29871, 29947, 29889, 29871, 29906, 718, 29871, 29906, 718, 29871, 29941, 353, 29871]\n",
      "z_base_tok:  29941\n",
      "y_base_tok:  29906\n",
      "x_base_tok:  29906\n",
      "res base: 7\n",
      "res base wo whitespace: \n",
      "res base with prefix: 7\n",
      "res base tok: ['▁', '7']\n",
      "operands_base:  ('2', '2', '3')\n",
      "base string tok list:  [29871, 29906, 718, 29871, 29941, 718, 29871, 29906, 353, 29871, 29955, 29889, 29871, 29906, 718, 29871, 29906, 718, 29871, 29941, 353, 29871]\n",
      "z_base_tok:  29941\n",
      "y_base_tok:  29906\n",
      "x_base_tok:  29906\n"
     ]
    },
    {
     "name": "stderr",
     "output_type": "stream",
     "text": [
      " 12%|██████████████████████████▌                                                                                                                                                                                                    | 25/210 [00:07<00:36,  5.13it/s]"
     ]
    },
    {
     "name": "stdout",
     "output_type": "stream",
     "text": [
      "res base: 7\n",
      "res base wo whitespace: \n",
      "res base with prefix: 7\n",
      "res base tok: ['▁', '7']\n",
      "operands_base:  ('2', '3', '2')\n",
      "base string tok list:  [29871, 29906, 718, 29871, 29946, 718, 29871, 29906, 353, 29871, 29947, 29889, 29871, 29906, 718, 29871, 29941, 718, 29871, 29906, 353, 29871]\n",
      "z_base_tok:  29906\n",
      "y_base_tok:  29941\n",
      "x_base_tok:  29906\n"
     ]
    },
    {
     "name": "stderr",
     "output_type": "stream",
     "text": [
      " 12%|███████████████████████████▌                                                                                                                                                                                                   | 26/210 [00:07<00:54,  3.37it/s]"
     ]
    },
    {
     "name": "stdout",
     "output_type": "stream",
     "text": [
      "res base: 8\n",
      "res base wo whitespace: \n",
      "res base with prefix: 8\n",
      "res base tok: ['▁', '8']\n",
      "operands_base:  ('3', '2', '3')\n",
      "base string tok list:  [29871, 29946, 718, 29871, 29906, 718, 29871, 29906, 353, 29871, 29947, 29889, 29871, 29941, 718, 29871, 29906, 718, 29871, 29941, 353, 29871]\n",
      "z_base_tok:  29941\n",
      "y_base_tok:  29906\n",
      "x_base_tok:  29941\n"
     ]
    },
    {
     "name": "stderr",
     "output_type": "stream",
     "text": [
      " 13%|████████████████████████████▋                                                                                                                                                                                                  | 27/210 [00:08<01:03,  2.90it/s]"
     ]
    },
    {
     "name": "stdout",
     "output_type": "stream",
     "text": [
      "res base: 8\n",
      "res base wo whitespace: \n",
      "res base with prefix: 8\n",
      "res base tok: ['▁', '8']\n",
      "operands_base:  ('3', '2', '3')\n",
      "base string tok list:  [29871, 29906, 718, 29871, 29906, 718, 29871, 29941, 353, 29871, 29955, 29889, 29871, 29941, 718, 29871, 29906, 718, 29871, 29941, 353, 29871]\n",
      "z_base_tok:  29941\n",
      "y_base_tok:  29906\n",
      "x_base_tok:  29941\n"
     ]
    },
    {
     "name": "stderr",
     "output_type": "stream",
     "text": [
      " 14%|██████████████████████████████▊                                                                                                                                                                                                | 29/210 [00:08<00:56,  3.19it/s]"
     ]
    },
    {
     "name": "stdout",
     "output_type": "stream",
     "text": [
      "res base: 8\n",
      "res base wo whitespace: \n",
      "res base with prefix: 8\n",
      "res base tok: ['▁', '8']\n",
      "operands_base:  ('3', '3', '2')\n",
      "base string tok list:  [29871, 29906, 718, 29871, 29906, 718, 29871, 29906, 353, 29871, 29953, 29889, 29871, 29941, 718, 29871, 29941, 718, 29871, 29906, 353, 29871]\n",
      "z_base_tok:  29906\n",
      "y_base_tok:  29941\n",
      "x_base_tok:  29941\n",
      "res base: 8\n",
      "res base wo whitespace: \n",
      "res base with prefix: 8\n",
      "res base tok: ['▁', '8']\n",
      "operands_base:  ('2', '3', '3')\n",
      "base string tok list:  [29871, 29941, 718, 29871, 29906, 718, 29871, 29906, 353, 29871, 29955, 29889, 29871, 29906, 718, 29871, 29941, 718, 29871, 29941, 353, 29871]\n",
      "z_base_tok:  29941\n",
      "y_base_tok:  29941\n",
      "x_base_tok:  29906\n"
     ]
    },
    {
     "name": "stderr",
     "output_type": "stream",
     "text": [
      " 14%|███████████████████████████████▊                                                                                                                                                                                               | 30/210 [00:09<01:12,  2.48it/s]"
     ]
    },
    {
     "name": "stdout",
     "output_type": "stream",
     "text": [
      "res base: 8\n",
      "res base wo whitespace: \n",
      "res base with prefix: 8\n",
      "res base tok: ['▁', '8']\n",
      "operands_base:  ('4', '2', '2')\n",
      "base string tok list:  [29871, 29906, 718, 29871, 29946, 718, 29871, 29906, 353, 29871, 29947, 29889, 29871, 29946, 718, 29871, 29906, 718, 29871, 29906, 353, 29871]\n",
      "z_base_tok:  29906\n",
      "y_base_tok:  29906\n",
      "x_base_tok:  29946\n"
     ]
    },
    {
     "name": "stderr",
     "output_type": "stream",
     "text": [
      " 15%|████████████████████████████████▉                                                                                                                                                                                              | 31/210 [00:10<01:40,  1.78it/s]"
     ]
    },
    {
     "name": "stdout",
     "output_type": "stream",
     "text": [
      "res base: 8\n",
      "res base wo whitespace: \n",
      "res base with prefix: 8\n",
      "res base tok: ['▁', '8']\n",
      "operands_base:  ('4', '2', '2')\n",
      "base string tok list:  [450, 1121, 310, 29871, 29941, 718, 29871, 29906, 718, 29871, 29941, 353, 29871, 29947, 29889, 450, 1121, 310, 29871, 29946, 718, 29871, 29906, 718, 29871, 29906, 353, 29871]\n",
      "z_base_tok:  29906\n",
      "y_base_tok:  29906\n",
      "x_base_tok:  29946\n"
     ]
    },
    {
     "name": "stderr",
     "output_type": "stream",
     "text": [
      " 15%|█████████████████████████████████▉                                                                                                                                                                                             | 32/210 [00:10<01:30,  1.96it/s]"
     ]
    },
    {
     "name": "stdout",
     "output_type": "stream",
     "text": [
      "res base: 8\n",
      "res base wo whitespace: \n",
      "res base with prefix: 8\n",
      "res base tok: ['▁', '8']\n",
      "operands_base:  ('4', '2', '2')\n",
      "base string tok list:  [450, 1121, 310, 29871, 29906, 718, 29871, 29941, 718, 29871, 29906, 353, 29871, 29955, 29889, 450, 1121, 310, 29871, 29946, 718, 29871, 29906, 718, 29871, 29906, 353, 29871]\n",
      "z_base_tok:  29906\n",
      "y_base_tok:  29906\n",
      "x_base_tok:  29946\n"
     ]
    },
    {
     "name": "stderr",
     "output_type": "stream",
     "text": [
      " 16%|████████████████████████████████████                                                                                                                                                                                           | 34/210 [00:11<01:14,  2.37it/s]"
     ]
    },
    {
     "name": "stdout",
     "output_type": "stream",
     "text": [
      "res base: 8\n",
      "res base wo whitespace: \n",
      "res base with prefix: 8\n",
      "res base tok: ['▁', '8']\n",
      "operands_base:  ('2', '2', '4')\n",
      "base string tok list:  [450, 1121, 310, 29871, 29906, 718, 29871, 29906, 718, 29871, 29906, 353, 29871, 29953, 29889, 450, 1121, 310, 29871, 29906, 718, 29871, 29906, 718, 29871, 29946, 353, 29871]\n",
      "z_base_tok:  29946\n",
      "y_base_tok:  29906\n",
      "x_base_tok:  29906\n",
      "res base: 8\n",
      "res base wo whitespace: \n",
      "res base with prefix: 8\n",
      "res base tok: ['▁', '8']\n",
      "operands_base:  ('2', '2', '4')\n",
      "base string tok list:  [450, 1121, 310, 29871, 29906, 718, 29871, 29946, 718, 29871, 29906, 353, 29871, 29947, 29889, 450, 1121, 310, 29871, 29906, 718, 29871, 29906, 718, 29871, 29946, 353, 29871]\n",
      "z_base_tok:  29946\n",
      "y_base_tok:  29906\n",
      "x_base_tok:  29906\n"
     ]
    },
    {
     "name": "stderr",
     "output_type": "stream",
     "text": [
      " 17%|█████████████████████████████████████▏                                                                                                                                                                                         | 35/210 [00:11<01:21,  2.15it/s]"
     ]
    },
    {
     "name": "stdout",
     "output_type": "stream",
     "text": [
      "res base: 8\n",
      "res base wo whitespace: \n",
      "res base with prefix: 8\n",
      "res base tok: ['▁', '8']\n",
      "operands_base:  ('2', '4', '2')\n",
      "base string tok list:  [450, 1121, 310, 29871, 29941, 718, 29871, 29941, 718, 29871, 29906, 353, 29871, 29947, 29889, 450, 1121, 310, 29871, 29906, 718, 29871, 29946, 718, 29871, 29906, 353, 29871]\n",
      "z_base_tok:  29906\n",
      "y_base_tok:  29946\n",
      "x_base_tok:  29906\n"
     ]
    },
    {
     "name": "stderr",
     "output_type": "stream",
     "text": [
      " 17%|██████████████████████████████████████▏                                                                                                                                                                                        | 36/210 [00:12<01:10,  2.46it/s]"
     ]
    },
    {
     "name": "stdout",
     "output_type": "stream",
     "text": [
      "res base: 7\n",
      "res base wo whitespace: \n",
      "res base with prefix: 7\n",
      "res base tok: ['▁', '7']\n",
      "operands_base:  ('2', '2', '3')\n",
      "base string tok list:  [450, 1121, 310, 29871, 29946, 718, 29871, 29906, 718, 29871, 29906, 353, 29871, 29947, 29889, 450, 1121, 310, 29871, 29906, 718, 29871, 29906, 718, 29871, 29941, 353, 29871]\n",
      "z_base_tok:  29941\n",
      "y_base_tok:  29906\n",
      "x_base_tok:  29906\n"
     ]
    },
    {
     "name": "stderr",
     "output_type": "stream",
     "text": [
      " 18%|███████████████████████████████████████▎                                                                                                                                                                                       | 37/210 [00:12<01:08,  2.53it/s]"
     ]
    },
    {
     "name": "stdout",
     "output_type": "stream",
     "text": [
      "res base: 8\n",
      "res base wo whitespace: \n",
      "res base with prefix: 8\n",
      "res base tok: ['▁', '8']\n",
      "operands_base:  ('3', '3', '2')\n",
      "base string tok list:  [450, 1121, 310, 29871, 29941, 718, 29871, 29906, 718, 29871, 29906, 353, 29871, 29955, 29889, 450, 1121, 310, 29871, 29941, 718, 29871, 29941, 718, 29871, 29906, 353, 29871]\n",
      "z_base_tok:  29906\n",
      "y_base_tok:  29941\n",
      "x_base_tok:  29941\n"
     ]
    },
    {
     "name": "stderr",
     "output_type": "stream",
     "text": [
      " 18%|████████████████████████████████████████▎                                                                                                                                                                                      | 38/210 [00:12<00:58,  2.92it/s]"
     ]
    },
    {
     "name": "stdout",
     "output_type": "stream",
     "text": [
      "res base: 7\n",
      "res base wo whitespace: \n",
      "res base with prefix: 7\n",
      "res base tok: ['▁', '7']\n",
      "operands_base:  ('2', '3', '2')\n",
      "base string tok list:  [450, 1121, 310, 29871, 29946, 718, 29871, 29906, 718, 29871, 29906, 353, 29871, 29947, 29889, 450, 1121, 310, 29871, 29906, 718, 29871, 29941, 718, 29871, 29906, 353, 29871]\n",
      "z_base_tok:  29906\n",
      "y_base_tok:  29941\n",
      "x_base_tok:  29906\n"
     ]
    },
    {
     "name": "stderr",
     "output_type": "stream",
     "text": [
      " 19%|█████████████████████████████████████████▍                                                                                                                                                                                     | 39/210 [00:13<01:03,  2.68it/s]"
     ]
    },
    {
     "name": "stdout",
     "output_type": "stream",
     "text": [
      "res base: 7\n",
      "res base wo whitespace: \n",
      "res base with prefix: 7\n",
      "res base tok: ['▁', '7']\n",
      "operands_base:  ('2', '3', '2')\n",
      "base string tok list:  [450, 1121, 310, 29871, 29906, 718, 29871, 29946, 718, 29871, 29906, 353, 29871, 29947, 29889, 450, 1121, 310, 29871, 29906, 718, 29871, 29941, 718, 29871, 29906, 353, 29871]\n",
      "z_base_tok:  29906\n",
      "y_base_tok:  29941\n",
      "x_base_tok:  29906\n"
     ]
    },
    {
     "name": "stderr",
     "output_type": "stream",
     "text": [
      " 19%|██████████████████████████████████████████▍                                                                                                                                                                                    | 40/210 [00:13<00:55,  3.04it/s]"
     ]
    },
    {
     "name": "stdout",
     "output_type": "stream",
     "text": [
      "res base: 8\n",
      "res base wo whitespace: \n",
      "res base with prefix: 8\n",
      "res base tok: ['▁', '8']\n",
      "operands_base:  ('3', '3', '2')\n",
      "base string tok list:  [450, 1121, 310, 29871, 29906, 718, 29871, 29906, 718, 29871, 29946, 353, 29871, 29947, 29889, 450, 1121, 310, 29871, 29941, 718, 29871, 29941, 718, 29871, 29906, 353, 29871]\n",
      "z_base_tok:  29906\n",
      "y_base_tok:  29941\n",
      "x_base_tok:  29941\n"
     ]
    },
    {
     "name": "stderr",
     "output_type": "stream",
     "text": [
      " 20%|███████████████████████████████████████████▌                                                                                                                                                                                   | 41/210 [00:13<00:51,  3.31it/s]"
     ]
    },
    {
     "name": "stdout",
     "output_type": "stream",
     "text": [
      "res base: 8\n",
      "res base wo whitespace: \n",
      "res base with prefix: 8\n",
      "res base tok: ['▁', '8']\n",
      "operands_base:  ('2', '4', '2')\n",
      "base string tok list:  [450, 1121, 310, 29871, 29906, 718, 29871, 29906, 718, 29871, 29906, 353, 29871, 29953, 29889, 450, 1121, 310, 29871, 29906, 718, 29871, 29946, 718, 29871, 29906, 353, 29871]\n",
      "z_base_tok:  29906\n",
      "y_base_tok:  29946\n",
      "x_base_tok:  29906\n"
     ]
    },
    {
     "name": "stderr",
     "output_type": "stream",
     "text": [
      " 20%|████████████████████████████████████████████▌                                                                                                                                                                                  | 42/210 [00:13<00:49,  3.37it/s]"
     ]
    },
    {
     "name": "stdout",
     "output_type": "stream",
     "text": [
      "res base: 7\n",
      "res base wo whitespace: \n",
      "res base with prefix: 7\n",
      "res base tok: ['▁', '7']\n",
      "operands_base:  ('2', '3', '2')\n",
      "base string tok list:  [450, 1121, 310, 29871, 29941, 718, 29871, 29906, 718, 29871, 29941, 353, 29871, 29947, 29889, 450, 1121, 310, 29871, 29906, 718, 29871, 29941, 718, 29871, 29906, 353, 29871]\n",
      "z_base_tok:  29906\n",
      "y_base_tok:  29941\n",
      "x_base_tok:  29906\n",
      "res base: 8\n",
      "res base wo whitespace: \n",
      "res base with prefix: 8\n",
      "res base tok: ['▁', '8']\n",
      "operands_base:  ('2', '4', '2')\n",
      "base string tok list:  [450, 1121, 310, 29871, 29941, 718, 29871, 29906, 718, 29871, 29941, 353, 29871, 29947, 29889, 450, 1121, 310, 29871, 29906, 718, 29871, 29946, 718, 29871, 29906, 353, 29871]\n",
      "z_base_tok:  29906\n",
      "y_base_tok:  29946\n",
      "x_base_tok:  29906\n"
     ]
    },
    {
     "name": "stderr",
     "output_type": "stream",
     "text": [
      " 21%|██████████████████████████████████████████████▋                                                                                                                                                                                | 44/210 [00:14<00:37,  4.38it/s]"
     ]
    },
    {
     "name": "stdout",
     "output_type": "stream",
     "text": [
      "res base: 7\n",
      "res base wo whitespace: \n",
      "res base with prefix: 7\n",
      "res base tok: ['▁', '7']\n",
      "operands_base:  ('3', '2', '2')\n",
      "base string tok list:  [450, 1121, 310, 29871, 29906, 718, 29871, 29906, 718, 29871, 29906, 353, 29871, 29953, 29889, 450, 1121, 310, 29871, 29941, 718, 29871, 29906, 718, 29871, 29906, 353, 29871]\n",
      "z_base_tok:  29906\n",
      "y_base_tok:  29906\n",
      "x_base_tok:  29941\n"
     ]
    },
    {
     "name": "stderr",
     "output_type": "stream",
     "text": [
      " 21%|███████████████████████████████████████████████▊                                                                                                                                                                               | 45/210 [00:14<00:40,  4.11it/s]"
     ]
    },
    {
     "name": "stdout",
     "output_type": "stream",
     "text": [
      "res base: 8\n",
      "res base wo whitespace: \n",
      "res base with prefix: 8\n",
      "res base tok: ['▁', '8']\n",
      "operands_base:  ('2', '4', '2')\n",
      "base string tok list:  [450, 1121, 310, 29871, 29941, 718, 29871, 29941, 718, 29871, 29906, 353, 29871, 29947, 29889, 450, 1121, 310, 29871, 29906, 718, 29871, 29946, 718, 29871, 29906, 353, 29871]\n",
      "z_base_tok:  29906\n",
      "y_base_tok:  29946\n",
      "x_base_tok:  29906\n"
     ]
    },
    {
     "name": "stderr",
     "output_type": "stream",
     "text": [
      " 22%|████████████████████████████████████████████████▊                                                                                                                                                                              | 46/210 [00:14<00:44,  3.68it/s]"
     ]
    },
    {
     "name": "stdout",
     "output_type": "stream",
     "text": [
      "res base: 8\n",
      "res base wo whitespace: \n",
      "res base with prefix: 8\n",
      "res base tok: ['▁', '8']\n",
      "operands_base:  ('4', '2', '2')\n",
      "base string tok list:  [450, 1121, 310, 29871, 29906, 718, 29871, 29941, 718, 29871, 29941, 353, 29871, 29947, 29889, 450, 1121, 310, 29871, 29946, 718, 29871, 29906, 718, 29871, 29906, 353, 29871]\n",
      "z_base_tok:  29906\n",
      "y_base_tok:  29906\n",
      "x_base_tok:  29946\n"
     ]
    },
    {
     "name": "stderr",
     "output_type": "stream",
     "text": [
      " 22%|█████████████████████████████████████████████████▉                                                                                                                                                                             | 47/210 [00:15<00:44,  3.63it/s]"
     ]
    },
    {
     "name": "stdout",
     "output_type": "stream",
     "text": [
      "res base: 7\n",
      "res base wo whitespace: \n",
      "res base with prefix: 7\n",
      "res base tok: ['▁', '7']\n",
      "operands_base:  ('2', '2', '3')\n",
      "base string tok list:  [450, 1121, 310, 29871, 29906, 718, 29871, 29946, 718, 29871, 29906, 353, 29871, 29947, 29889, 450, 1121, 310, 29871, 29906, 718, 29871, 29906, 718, 29871, 29941, 353, 29871]\n",
      "z_base_tok:  29941\n",
      "y_base_tok:  29906\n",
      "x_base_tok:  29906\n"
     ]
    },
    {
     "name": "stderr",
     "output_type": "stream",
     "text": [
      " 23%|████████████████████████████████████████████████████                                                                                                                                                                           | 49/210 [00:15<00:45,  3.54it/s]"
     ]
    },
    {
     "name": "stdout",
     "output_type": "stream",
     "text": [
      "res base: 8\n",
      "res base wo whitespace: \n",
      "res base with prefix: 8\n",
      "res base tok: ['▁', '8']\n",
      "operands_base:  ('2', '2', '4')\n",
      "base string tok list:  [450, 1121, 310, 29871, 29906, 718, 29871, 29946, 718, 29871, 29906, 353, 29871, 29947, 29889, 450, 1121, 310, 29871, 29906, 718, 29871, 29906, 718, 29871, 29946, 353, 29871]\n",
      "z_base_tok:  29946\n",
      "y_base_tok:  29906\n",
      "x_base_tok:  29906\n",
      "res base: 8\n",
      "res base wo whitespace: \n",
      "res base with prefix: 8\n",
      "res base tok: ['▁', '8']\n",
      "operands_base:  ('2', '2', '4')\n",
      "base string tok list:  [450, 1121, 310, 29871, 29946, 718, 29871, 29906, 718, 29871, 29906, 353, 29871, 29947, 29889, 450, 1121, 310, 29871, 29906, 718, 29871, 29906, 718, 29871, 29946, 353, 29871]\n",
      "z_base_tok:  29946\n",
      "y_base_tok:  29906\n",
      "x_base_tok:  29906\n"
     ]
    },
    {
     "name": "stderr",
     "output_type": "stream",
     "text": [
      " 24%|█████████████████████████████████████████████████████                                                                                                                                                                          | 50/210 [00:16<00:55,  2.91it/s]"
     ]
    },
    {
     "name": "stdout",
     "output_type": "stream",
     "text": [
      "res base: 7\n",
      "res base wo whitespace: \n",
      "res base with prefix: 7\n",
      "res base tok: ['▁', '7']\n",
      "operands_base:  ('3', '2', '2')\n",
      "base string tok list:  [450, 1121, 310, 29871, 29906, 718, 29871, 29906, 718, 29871, 29941, 353, 29871, 29955, 29889, 450, 1121, 310, 29871, 29941, 718, 29871, 29906, 718, 29871, 29906, 353, 29871]\n",
      "z_base_tok:  29906\n",
      "y_base_tok:  29906\n",
      "x_base_tok:  29941\n"
     ]
    },
    {
     "name": "stderr",
     "output_type": "stream",
     "text": [
      " 24%|██████████████████████████████████████████████████████▏                                                                                                                                                                        | 51/210 [00:16<00:52,  3.05it/s]"
     ]
    },
    {
     "name": "stdout",
     "output_type": "stream",
     "text": [
      "res base: 8\n",
      "res base wo whitespace: \n",
      "res base with prefix: 8\n",
      "res base tok: ['▁', '8']\n",
      "operands_base:  ('3', '3', '2')\n",
      "base string tok list:  [450, 1121, 310, 29871, 29946, 718, 29871, 29906, 718, 29871, 29906, 353, 29871, 29947, 29889, 450, 1121, 310, 29871, 29941, 718, 29871, 29941, 718, 29871, 29906, 353, 29871]\n",
      "z_base_tok:  29906\n",
      "y_base_tok:  29941\n",
      "x_base_tok:  29941\n"
     ]
    },
    {
     "name": "stderr",
     "output_type": "stream",
     "text": [
      " 25%|███████████████████████████████████████████████████████▏                                                                                                                                                                       | 52/210 [00:16<00:51,  3.08it/s]"
     ]
    },
    {
     "name": "stdout",
     "output_type": "stream",
     "text": [
      "res base: 7\n",
      "res base wo whitespace: \n",
      "res base with prefix: 7\n",
      "res base tok: ['▁', '7']\n",
      "operands_base:  ('2', '3', '2')\n",
      "base string tok list:  [450, 1121, 310, 29871, 29906, 718, 29871, 29906, 718, 29871, 29906, 353, 29871, 29953, 29889, 450, 1121, 310, 29871, 29906, 718, 29871, 29941, 718, 29871, 29906, 353, 29871]\n",
      "z_base_tok:  29906\n",
      "y_base_tok:  29941\n",
      "x_base_tok:  29906\n"
     ]
    },
    {
     "name": "stderr",
     "output_type": "stream",
     "text": [
      " 25%|████████████████████████████████████████████████████████▎                                                                                                                                                                      | 53/210 [00:17<01:10,  2.24it/s]"
     ]
    },
    {
     "name": "stdout",
     "output_type": "stream",
     "text": [
      "res base: 7\n",
      "res base wo whitespace: \n",
      "res base with prefix: 7\n",
      "res base tok: ['▁', '7']\n",
      "operands_base:  ('3', '2', '2')\n",
      "base string tok list:  [450, 1121, 310, 29871, 29906, 718, 29871, 29946, 718, 29871, 29906, 353, 29871, 29947, 29889, 450, 1121, 310, 29871, 29941, 718, 29871, 29906, 718, 29871, 29906, 353, 29871]\n",
      "z_base_tok:  29906\n",
      "y_base_tok:  29906\n",
      "x_base_tok:  29941\n"
     ]
    },
    {
     "name": "stderr",
     "output_type": "stream",
     "text": [
      " 26%|█████████████████████████████████████████████████████████▎                                                                                                                                                                     | 54/210 [00:17<00:59,  2.63it/s]"
     ]
    },
    {
     "name": "stdout",
     "output_type": "stream",
     "text": [
      "res base: 8\n",
      "res base wo whitespace: \n",
      "res base with prefix: 8\n",
      "res base tok: ['▁', '8']\n",
      "operands_base:  ('4', '2', '2')\n",
      "base string tok list:  [450, 1121, 310, 29871, 29906, 718, 29871, 29946, 718, 29871, 29906, 353, 29871, 29947, 29889, 450, 1121, 310, 29871, 29946, 718, 29871, 29906, 718, 29871, 29906, 353, 29871]\n",
      "z_base_tok:  29906\n",
      "y_base_tok:  29906\n",
      "x_base_tok:  29946\n"
     ]
    },
    {
     "name": "stderr",
     "output_type": "stream",
     "text": [
      " 26%|██████████████████████████████████████████████████████████▍                                                                                                                                                                    | 55/210 [00:18<00:53,  2.91it/s]"
     ]
    },
    {
     "name": "stdout",
     "output_type": "stream",
     "text": [
      "res base: 8\n",
      "res base wo whitespace: \n",
      "res base with prefix: 8\n",
      "res base tok: ['▁', '8']\n",
      "operands_base:  ('2', '3', '3')\n",
      "base string tok list:  [450, 1121, 310, 29871, 29941, 718, 29871, 29906, 718, 29871, 29941, 353, 29871, 29947, 29889, 450, 1121, 310, 29871, 29906, 718, 29871, 29941, 718, 29871, 29941, 353, 29871]\n",
      "z_base_tok:  29941\n",
      "y_base_tok:  29941\n",
      "x_base_tok:  29906\n"
     ]
    },
    {
     "name": "stderr",
     "output_type": "stream",
     "text": [
      " 27%|███████████████████████████████████████████████████████████▍                                                                                                                                                                   | 56/210 [00:18<00:47,  3.22it/s]"
     ]
    },
    {
     "name": "stdout",
     "output_type": "stream",
     "text": [
      "res base: 8\n",
      "res base wo whitespace: \n",
      "res base with prefix: 8\n",
      "res base tok: ['▁', '8']\n",
      "operands_base:  ('2', '3', '3')\n",
      "base string tok list:  [450, 1121, 310, 29871, 29906, 718, 29871, 29906, 718, 29871, 29906, 353, 29871, 29953, 29889, 450, 1121, 310, 29871, 29906, 718, 29871, 29941, 718, 29871, 29941, 353, 29871]\n",
      "z_base_tok:  29941\n",
      "y_base_tok:  29941\n",
      "x_base_tok:  29906\n"
     ]
    },
    {
     "name": "stderr",
     "output_type": "stream",
     "text": [
      " 27%|████████████████████████████████████████████████████████████▌                                                                                                                                                                  | 57/210 [00:18<00:49,  3.10it/s]"
     ]
    },
    {
     "name": "stdout",
     "output_type": "stream",
     "text": [
      "res base: 8\n",
      "res base wo whitespace: \n",
      "res base with prefix: 8\n",
      "res base tok: ['▁', '8']\n",
      "operands_base:  ('2', '2', '4')\n",
      "base string tok list:  [450, 1121, 310, 29871, 29941, 718, 29871, 29906, 718, 29871, 29906, 353, 29871, 29955, 29889, 450, 1121, 310, 29871, 29906, 718, 29871, 29906, 718, 29871, 29946, 353, 29871]\n",
      "z_base_tok:  29946\n",
      "y_base_tok:  29906\n",
      "x_base_tok:  29906\n",
      "res base: 8\n",
      "res base wo whitespace: \n",
      "res base with prefix: 8\n",
      "res base tok: ['▁', '8']\n",
      "operands_base:  ('3', '3', '2')\n",
      "base string tok list:  [450, 1121, 310, 29871, 29941, 718, 29871, 29941, 718, 29871, 29906, 353, 29871, 29947, 29889, 450, 1121, 310, 29871, 29941, 718, 29871, 29941, 718, 29871, 29906, 353, 29871]\n",
      "z_base_tok:  29906\n",
      "y_base_tok:  29941\n",
      "x_base_tok:  29941\n"
     ]
    },
    {
     "name": "stderr",
     "output_type": "stream",
     "text": [
      " 29%|███████████████████████████████████████████████████████████████▋                                                                                                                                                               | 60/210 [00:19<00:31,  4.75it/s]"
     ]
    },
    {
     "name": "stdout",
     "output_type": "stream",
     "text": [
      "res base: 6\n",
      "res base wo whitespace: \n",
      "res base with prefix: 6\n",
      "res base tok: ['▁', '6']\n",
      "operands_base:  ('2', '2', '2')\n",
      "base string tok list:  [450, 1121, 310, 29871, 29906, 718, 29871, 29941, 718, 29871, 29906, 353, 29871, 29955, 29889, 450, 1121, 310, 29871, 29906, 718, 29871, 29906, 718, 29871, 29906, 353, 29871]\n",
      "z_base_tok:  29906\n",
      "y_base_tok:  29906\n",
      "x_base_tok:  29906\n",
      "res base: 8\n",
      "res base wo whitespace: \n",
      "res base with prefix: 8\n",
      "res base tok: ['▁', '8']\n",
      "operands_base:  ('2', '3', '3')\n",
      "base string tok list:  [450, 1121, 310, 29871, 29906, 718, 29871, 29906, 718, 29871, 29941, 353, 29871, 29955, 29889, 450, 1121, 310, 29871, 29906, 718, 29871, 29941, 718, 29871, 29941, 353, 29871]\n",
      "z_base_tok:  29941\n",
      "y_base_tok:  29941\n",
      "x_base_tok:  29906\n",
      "res base: 7\n",
      "res base wo whitespace: \n",
      "res base with prefix: 7\n",
      "res base tok: ['▁', '7']\n",
      "operands_base:  ('40', '5', '28')\n",
      "base string tok list:  [450, 1121, 310, 29871, 29946, 29946, 26134, 29871, 29906, 26134, 29871, 29941, 29946, 338, 29871, 29947, 29889, 450, 1121, 310, 29871, 29946, 29900, 26134, 29871, 29945, 26134, 29871, 29906, 29947, 338, 29871]\n",
      "z_base_tok:  29947\n",
      "y_base_tok:  29945\n",
      "x_base_tok:  29900\n",
      "res base: 3\n",
      "res base wo whitespace: \n",
      "res base with prefix: 3\n",
      "res base tok: ['▁', '3']\n",
      "operands_base:  ('35', '22', '10')\n",
      "base string tok list:  [450, 1121, 310, 29871, 29906, 29896, 26134, 29871, 29896, 29945, 26134, 29871, 29946, 338, 29871, 29906, 29889, 450, 1121, 310, 29871, 29941, 29945, 26134, 29871, 29906, 29906, 26134, 29871, 29896, 29900, 338, 29871]\n",
      "z_base_tok:  29900\n",
      "y_base_tok:  29906\n",
      "x_base_tok:  29945\n",
      "res base: 3\n",
      "res base wo whitespace: \n",
      "res base with prefix: 3\n",
      "res base tok: ['▁', '3']\n",
      "operands_base:  ('29', '17', '9')\n",
      "base string tok list:  [450, 1121, 310, 29871, 29946, 29900, 26134, 29871, 29941, 26134, 29871, 29906, 29929, 338, 29871, 29947, 29889, 450, 1121, 310, 29871, 29906, 29929, 26134, 29871, 29896, 29955, 26134, 29871, 29929, 338, 29871]\n",
      "z_base_tok:  29929\n",
      "y_base_tok:  29955\n",
      "x_base_tok:  29929\n",
      "res base: 5\n",
      "res base wo whitespace: \n",
      "res base with prefix: 5\n",
      "res base tok: ['▁', '5']\n",
      "operands_base:  ('25', '13', '7')\n",
      "base string tok list:  [450, 1121, 310, 29871, 29946, 29906, 26134, 29871, 29941, 29941, 26134, 29871, 29947, 338, 29871, 29896, 29889, 450, 1121, 310, 29871, 29906, 29945, 26134, 29871, 29896, 29941, 26134, 29871, 29955, 338, 29871]\n",
      "z_base_tok:  29955\n",
      "y_base_tok:  29941\n",
      "x_base_tok:  29945\n",
      "res base: 3\n",
      "res base wo whitespace: \n",
      "res base with prefix: 3\n",
      "res base tok: ['▁', '3']\n",
      "operands_base:  ('45', '17', '25')\n",
      "base string tok list:  [450, 1121, 310, 29871, 29945, 29900, 26134, 29871, 29896, 29947, 26134, 29871, 29906, 29953, 338, 29871, 29953, 29889, 450, 1121, 310, 29871, 29946, 29945, 26134, 29871, 29896, 29955, 26134, 29871, 29906, 29945, 338, 29871]\n",
      "z_base_tok:  29945\n",
      "y_base_tok:  29955\n",
      "x_base_tok:  29945\n",
      "res base: 2\n",
      "res base wo whitespace: \n",
      "res base with prefix: 2\n",
      "res base tok: ['▁', '2']\n",
      "operands_base:  ('41', '34', '5')\n",
      "base string tok list:  [450, 1121, 310, 29871, 29946, 29955, 26134, 29871, 29896, 29896, 26134, 29871, 29941, 29896, 338, 29871, 29945, 29889, 450, 1121, 310, 29871, 29946, 29896, 26134, 29871, 29941, 29946, 26134, 29871, 29945, 338, 29871]\n",
      "z_base_tok:  29945\n",
      "y_base_tok:  29946\n",
      "x_base_tok:  29896\n",
      "res base: 6\n",
      "res base wo whitespace: \n",
      "res base with prefix: 6\n",
      "res base tok: ['▁', '6']\n",
      "operands_base:  ('34', '21', '7')\n",
      "base string tok list:  [450, 1121, 310, 29871, 29941, 29947, 26134, 29871, 29896, 29900, 26134, 29871, 29906, 29941, 338, 29871, 29945, 29889, 450, 1121, 310, 29871, 29941, 29946, 26134, 29871, 29906, 29896, 26134, 29871, 29955, 338, 29871]\n",
      "z_base_tok:  29955\n",
      "y_base_tok:  29896\n",
      "x_base_tok:  29946\n",
      "res base: 4\n",
      "res base wo whitespace: \n",
      "res base with prefix: 4\n",
      "res base tok: ['▁', '4']\n",
      "operands_base:  ('21', '10', '7')\n",
      "base string tok list:  [450, 1121, 310, 29871, 29906, 29906, 26134, 29871, 29929, 26134, 29871, 29955, 338, 29871, 29953, 29889, 450, 1121, 310, 29871, 29906, 29896, 26134, 29871, 29896, 29900, 26134, 29871, 29955, 338, 29871]\n",
      "z_base_tok:  29955\n",
      "y_base_tok:  29900\n",
      "x_base_tok:  29896\n",
      "res base: 5\n",
      "res base wo whitespace: \n",
      "res base with prefix: 5\n",
      "res base tok: ['▁', '5']\n",
      "operands_base:  ('42', '22', '15')\n",
      "base string tok list:  [450, 1121, 310, 29871, 29941, 29946, 26134, 29871, 29906, 29896, 26134, 29871, 29896, 29906, 338, 29871, 29896, 29889, 450, 1121, 310, 29871, 29946, 29906, 26134, 29871, 29906, 29906, 26134, 29871, 29896, 29945, 338, 29871]\n",
      "z_base_tok:  29945\n",
      "y_base_tok:  29906\n",
      "x_base_tok:  29906\n",
      "res base: 3\n",
      "res base wo whitespace: \n",
      "res base with prefix: 3\n",
      "res base tok: ['▁', '3']\n",
      "operands_base:  ('43', '17', '23')\n",
      "base string tok list:  [450, 1121, 310, 29871, 29941, 29955, 26134, 29871, 29896, 29947, 26134, 29871, 29896, 29946, 338, 29871, 29945, 29889, 450, 1121, 310, 29871, 29946, 29941, 26134, 29871, 29896, 29955, 26134, 29871, 29906, 29941, 338, 29871]\n",
      "z_base_tok:  29941\n",
      "y_base_tok:  29955\n",
      "x_base_tok:  29941\n",
      "res base: 1\n",
      "res base wo whitespace: \n",
      "res base with prefix: 1\n",
      "res base tok: ['▁', '1']\n",
      "operands_base:  ('34', '2', '31')\n",
      "base string tok list:  [450, 1121, 310, 29871, 29946, 29946, 26134, 29871, 29941, 26134, 29871, 29941, 29946, 338, 29871, 29955, 29889, 450, 1121, 310, 29871, 29941, 29946, 26134, 29871, 29906, 26134, 29871, 29941, 29896, 338, 29871]\n",
      "z_base_tok:  29896\n",
      "y_base_tok:  29906\n",
      "x_base_tok:  29946\n",
      "res base: 3\n",
      "res base wo whitespace: \n",
      "res base with prefix: 3\n",
      "res base tok: ['▁', '3']\n",
      "operands_base:  ('48', '37', '8')\n",
      "base string tok list:  [450, 1121, 310, 29871, 29946, 29953, 26134, 29871, 29906, 29896, 26134, 29871, 29896, 29955, 338, 29871, 29947, 29889, 450, 1121, 310, 29871, 29946, 29947, 26134, 29871, 29941, 29955, 26134, 29871, 29947, 338, 29871]\n",
      "z_base_tok:  29947\n",
      "y_base_tok:  29955\n",
      "x_base_tok:  29947\n",
      "res base: 2\n",
      "res base wo whitespace: \n",
      "res base with prefix: 2\n",
      "res base tok: ['▁', '2']\n",
      "operands_base:  ('48', '27', '19')\n",
      "base string tok list:  [450, 1121, 310, 29871, 29941, 29929, 26134, 29871, 29929, 26134, 29871, 29906, 29947, 338, 29871, 29906, 29889, 450, 1121, 310, 29871, 29946, 29947, 26134, 29871, 29906, 29955, 26134, 29871, 29896, 29929, 338, 29871]\n",
      "z_base_tok:  29929\n",
      "y_base_tok:  29955\n",
      "x_base_tok:  29947\n",
      "res base: 4\n",
      "res base wo whitespace: \n",
      "res base with prefix: 4\n",
      "res base tok: ['▁', '4']\n",
      "operands_base:  ('46', '19', '23')\n",
      "base string tok list:  [450, 1121, 310, 29871, 29906, 29929, 26134, 29871, 29896, 29929, 26134, 29871, 29946, 338, 29871, 29953, 29889, 450, 1121, 310, 29871, 29946, 29953, 26134, 29871, 29896, 29929, 26134, 29871, 29906, 29941, 338, 29871]\n",
      "z_base_tok:  29941\n",
      "y_base_tok:  29929\n",
      "x_base_tok:  29953\n",
      "res base: 4\n",
      "res base wo whitespace: \n",
      "res base with prefix: 4\n",
      "res base tok: ['▁', '4']\n",
      "operands_base:  ('32', '24', '4')\n",
      "base string tok list:  [450, 1121, 310, 29871, 29946, 29896, 26134, 29871, 29906, 29906, 26134, 29871, 29896, 29896, 338, 29871, 29947, 29889, 450, 1121, 310, 29871, 29941, 29906, 26134, 29871, 29906, 29946, 26134, 29871, 29946, 338, 29871]\n",
      "z_base_tok:  29946\n",
      "y_base_tok:  29946\n",
      "x_base_tok:  29906\n",
      "res base: 7\n",
      "res base wo whitespace: \n",
      "res base with prefix: 7\n",
      "res base tok: ['▁', '7']\n",
      "operands_base:  ('40', '24', '9')\n",
      "base string tok list:  [450, 1121, 310, 29871, 29946, 29953, 26134, 29871, 29946, 29896, 26134, 29871, 29906, 338, 29871, 29941, 29889, 450, 1121, 310, 29871, 29946, 29900, 26134, 29871, 29906, 29946, 26134, 29871, 29929, 338, 29871]\n",
      "z_base_tok:  29929\n",
      "y_base_tok:  29946\n",
      "x_base_tok:  29900\n",
      "res base: 5\n",
      "res base wo whitespace: \n",
      "res base with prefix: 5\n",
      "res base tok: ['▁', '5']\n",
      "operands_base:  ('41', '26', '10')\n",
      "base string tok list:  [450, 1121, 310, 29871, 29906, 29953, 26134, 29871, 29896, 29955, 26134, 29871, 29946, 338, 29871, 29945, 29889, 450, 1121, 310, 29871, 29946, 29896, 26134, 29871, 29906, 29953, 26134, 29871, 29896, 29900, 338, 29871]\n",
      "z_base_tok:  29900\n",
      "y_base_tok:  29953\n",
      "x_base_tok:  29896\n",
      "res base: 3\n",
      "res base wo whitespace: \n",
      "res base with prefix: 3\n",
      "res base tok: ['▁', '3']\n",
      "operands_base:  ('43', '36', '4')\n",
      "base string tok list:  [450, 1121, 310, 29871, 29941, 29955, 26134, 29871, 29896, 29953, 26134, 29871, 29896, 29941, 338, 29871, 29947, 29889, 450, 1121, 310, 29871, 29946, 29941, 26134, 29871, 29941, 29953, 26134, 29871, 29946, 338, 29871]\n",
      "z_base_tok:  29946\n",
      "y_base_tok:  29953\n",
      "x_base_tok:  29941\n",
      "res base: 1\n",
      "res base wo whitespace: \n",
      "res base with prefix: 1\n",
      "res base tok: ['▁', '1']\n",
      "operands_base:  ('35', '4', '30')\n",
      "base string tok list:  [450, 1121, 310, 29871, 29906, 29900, 26134, 29871, 29896, 29896, 26134, 29871, 29953, 338, 29871, 29941, 29889, 450, 1121, 310, 29871, 29941, 29945, 26134, 29871, 29946, 26134, 29871, 29941, 29900, 338, 29871]\n",
      "z_base_tok:  29900\n",
      "y_base_tok:  29946\n",
      "x_base_tok:  29945\n",
      "res base: 8\n",
      "res base wo whitespace: \n",
      "res base with prefix: 8\n",
      "res base tok: ['▁', '8']\n",
      "operands_base:  ('47', '34', '5')\n",
      "base string tok list:  [450, 1121, 310, 29871, 29896, 29955, 26134, 29871, 29946, 26134, 29871, 29945, 338, 29871, 29947, 29889, 450, 1121, 310, 29871, 29946, 29955, 26134, 29871, 29941, 29946, 26134, 29871, 29945, 338, 29871]\n",
      "z_base_tok:  29945\n",
      "y_base_tok:  29946\n",
      "x_base_tok:  29955\n",
      "res base: 5\n",
      "res base wo whitespace: \n",
      "res base with prefix: 5\n",
      "res base tok: ['▁', '5']\n",
      "operands_base:  ('43', '32', '6')\n",
      "base string tok list:  [450, 1121, 310, 29871, 29945, 29900, 26134, 29871, 29906, 29896, 26134, 29871, 29906, 29947, 338, 29871, 29896, 29889, 450, 1121, 310, 29871, 29946, 29941, 26134, 29871, 29941, 29906, 26134, 29871, 29953, 338, 29871]\n",
      "z_base_tok:  29953\n",
      "y_base_tok:  29906\n",
      "x_base_tok:  29941\n",
      "res base: 6\n",
      "res base wo whitespace: \n",
      "res base with prefix: 6\n",
      "res base tok: ['▁', '6']\n",
      "operands_base:  ('50', '11', '33')\n",
      "base string tok list:  [450, 1121, 310, 29871, 29941, 29945, 26134, 29871, 29896, 29946, 26134, 29871, 29896, 29929, 338, 29871, 29906, 29889, 450, 1121, 310, 29871, 29945, 29900, 26134, 29871, 29896, 29896, 26134, 29871, 29941, 29941, 338, 29871]\n",
      "z_base_tok:  29941\n",
      "y_base_tok:  29896\n",
      "x_base_tok:  29900\n",
      "res base: 6\n",
      "res base wo whitespace: \n",
      "res base with prefix: 6\n",
      "res base tok: ['▁', '6']\n",
      "operands_base:  ('49', '28', '15')\n",
      "base string tok list:  [450, 1121, 310, 29871, 29941, 29947, 26134, 29871, 29906, 29906, 26134, 29871, 29947, 338, 29871, 29947, 29889, 450, 1121, 310, 29871, 29946, 29929, 26134, 29871, 29906, 29947, 26134, 29871, 29896, 29945, 338, 29871]\n",
      "z_base_tok:  29945\n",
      "y_base_tok:  29947\n",
      "x_base_tok:  29929\n",
      "res base: 5\n",
      "res base wo whitespace: \n",
      "res base with prefix: 5\n",
      "res base tok: ['▁', '5']\n",
      "operands_base:  ('47', '17', '25')\n",
      "base string tok list:  [450, 1121, 310, 29871, 29946, 29946, 26134, 29871, 29896, 29947, 26134, 29871, 29906, 29946, 338, 29871, 29906, 29889, 450, 1121, 310, 29871, 29946, 29955, 26134, 29871, 29896, 29955, 26134, 29871, 29906, 29945, 338, 29871]\n",
      "z_base_tok:  29945\n",
      "y_base_tok:  29955\n",
      "x_base_tok:  29955\n",
      "res base: 1\n",
      "res base wo whitespace: \n",
      "res base with prefix: 1\n",
      "res base tok: ['▁', '1']\n",
      "operands_base:  ('38', '9', '28')\n",
      "base string tok list:  [450, 1121, 310, 29871, 29941, 29900, 26134, 29871, 29896, 29955, 26134, 29871, 29945, 338, 29871, 29947, 29889, 450, 1121, 310, 29871, 29941, 29947, 26134, 29871, 29929, 26134, 29871, 29906, 29947, 338, 29871]\n",
      "z_base_tok:  29947\n",
      "y_base_tok:  29929\n",
      "x_base_tok:  29947\n",
      "res base: 4\n",
      "res base wo whitespace: \n",
      "res base with prefix: 4\n",
      "res base tok: ['▁', '4']\n",
      "operands_base:  ('43', '29', '10')\n",
      "base string tok list:  [450, 1121, 310, 29871, 29941, 29896, 26134, 29871, 29906, 29953, 26134, 29871, 29946, 338, 29871, 29896, 29889, 450, 1121, 310, 29871, 29946, 29941, 26134, 29871, 29906, 29929, 26134, 29871, 29896, 29900, 338, 29871]\n",
      "z_base_tok:  29900\n",
      "y_base_tok:  29929\n",
      "x_base_tok:  29941\n",
      "res base: 7\n",
      "res base wo whitespace: \n",
      "res base with prefix: 7\n",
      "res base tok: ['▁', '7']\n",
      "operands_base:  ('44', '22', '15')\n",
      "base string tok list:  [450, 1121, 310, 29871, 29896, 29953, 26134, 29871, 29946, 26134, 29871, 29896, 29900, 338, 29871, 29906, 29889, 450, 1121, 310, 29871, 29946, 29946, 26134, 29871, 29906, 29906, 26134, 29871, 29896, 29945, 338, 29871]\n",
      "z_base_tok:  29945\n",
      "y_base_tok:  29906\n",
      "x_base_tok:  29946\n",
      "res base: 2\n",
      "res base wo whitespace: \n",
      "res base with prefix: 2\n",
      "res base tok: ['▁', '2']\n",
      "operands_base:  ('40', '11', '27')\n",
      "base string tok list:  [450, 1121, 310, 29871, 29896, 29906, 26134, 29871, 29941, 26134, 29871, 29946, 338, 29871, 29945, 29889, 450, 1121, 310, 29871, 29946, 29900, 26134, 29871, 29896, 29896, 26134, 29871, 29906, 29955, 338, 29871]\n",
      "z_base_tok:  29955\n",
      "y_base_tok:  29896\n",
      "x_base_tok:  29900\n",
      "res base: 3\n",
      "res base wo whitespace: \n",
      "res base with prefix: 3\n",
      "res base tok: ['▁', '3']\n",
      "operands_base:  ('20', '5', '12')\n",
      "base string tok list:  [450, 1121, 310, 29871, 29946, 29947, 26134, 29871, 29906, 29955, 26134, 29871, 29896, 29953, 338, 29871, 29945, 29889, 450, 1121, 310, 29871, 29906, 29900, 26134, 29871, 29945, 26134, 29871, 29896, 29906, 338, 29871]\n",
      "z_base_tok:  29906\n",
      "y_base_tok:  29945\n",
      "x_base_tok:  29900\n",
      "res base: 8\n",
      "res base wo whitespace: \n",
      "res base with prefix: 8\n",
      "res base tok: ['▁', '8']\n",
      "operands_base:  ('48', '8', '32')\n",
      "base string tok list:  [450, 1121, 310, 29871, 29906, 29900, 26134, 29871, 29946, 26134, 29871, 29896, 29941, 338, 29871, 29941, 29889, 450, 1121, 310, 29871, 29946, 29947, 26134, 29871, 29947, 26134, 29871, 29941, 29906, 338, 29871]\n",
      "z_base_tok:  29906\n",
      "y_base_tok:  29947\n",
      "x_base_tok:  29947\n"
     ]
    },
    {
     "name": "stderr",
     "output_type": "stream",
     "text": [
      " 43%|████████████████████████████████████████████████████████████████████████████████████████████████▋                                                                                                                              | 91/210 [00:20<00:08, 14.08it/s]"
     ]
    },
    {
     "name": "stdout",
     "output_type": "stream",
     "text": [
      "res base: 8\n",
      "res base wo whitespace: \n",
      "res base with prefix: 8\n",
      "res base tok: ['▁', '8']\n",
      "operands_base:  ('2', '2', '2')\n",
      "base string tok list:  [450, 1121, 310, 29871, 29906, 334, 29871, 29906, 334, 29871, 29906, 353, 29871, 29947, 29889, 450, 1121, 310, 29871, 29906, 334, 29871, 29906, 334, 29871, 29906, 353, 29871]\n",
      "z_base_tok:  29906\n",
      "y_base_tok:  29906\n",
      "x_base_tok:  29906\n"
     ]
    },
    {
     "name": "stderr",
     "output_type": "stream",
     "text": [
      " 44%|█████████████████████████████████████████████████████████████████████████████████████████████████▋                                                                                                                             | 92/210 [00:24<00:26,  4.46it/s]"
     ]
    },
    {
     "name": "stdout",
     "output_type": "stream",
     "text": [
      "res base: 8\n",
      "res base wo whitespace: \n",
      "res base with prefix: 8\n",
      "res base tok: ['▁', '8']\n",
      "operands_base:  ('2', '2', '2')\n",
      "base string tok list:  [450, 1121, 310, 29871, 29906, 334, 29871, 29906, 334, 29871, 29906, 353, 29871, 29947, 29889, 450, 1121, 310, 29871, 29906, 334, 29871, 29906, 334, 29871, 29906, 353, 29871]\n",
      "z_base_tok:  29906\n",
      "y_base_tok:  29906\n",
      "x_base_tok:  29906\n"
     ]
    },
    {
     "name": "stderr",
     "output_type": "stream",
     "text": [
      " 44%|██████████████████████████████████████████████████████████████████████████████████████████████████▊                                                                                                                            | 93/210 [00:25<00:31,  3.70it/s]"
     ]
    },
    {
     "name": "stdout",
     "output_type": "stream",
     "text": [
      "res base: 8\n",
      "res base wo whitespace: \n",
      "res base with prefix: 8\n",
      "res base tok: ['▁', '8']\n",
      "operands_base:  ('2', '2', '2')\n",
      "base string tok list:  [450, 1121, 310, 29871, 29906, 334, 29871, 29906, 334, 29871, 29906, 353, 29871, 29947, 29889, 450, 1121, 310, 29871, 29906, 334, 29871, 29906, 334, 29871, 29906, 353, 29871]\n",
      "z_base_tok:  29906\n",
      "y_base_tok:  29906\n",
      "x_base_tok:  29906\n"
     ]
    },
    {
     "name": "stderr",
     "output_type": "stream",
     "text": [
      " 45%|███████████████████████████████████████████████████████████████████████████████████████████████████▊                                                                                                                           | 94/210 [00:26<00:34,  3.32it/s]"
     ]
    },
    {
     "name": "stdout",
     "output_type": "stream",
     "text": [
      "res base: 8\n",
      "res base wo whitespace: \n",
      "res base with prefix: 8\n",
      "res base tok: ['▁', '8']\n",
      "operands_base:  ('2', '2', '2')\n",
      "base string tok list:  [450, 1121, 310, 29871, 29906, 334, 29871, 29906, 334, 29871, 29906, 353, 29871, 29947, 29889, 450, 1121, 310, 29871, 29906, 334, 29871, 29906, 334, 29871, 29906, 353, 29871]\n",
      "z_base_tok:  29906\n",
      "y_base_tok:  29906\n",
      "x_base_tok:  29906\n"
     ]
    },
    {
     "name": "stderr",
     "output_type": "stream",
     "text": [
      " 45%|████████████████████████████████████████████████████████████████████████████████████████████████████▉                                                                                                                          | 95/210 [00:31<01:21,  1.41it/s]"
     ]
    },
    {
     "name": "stdout",
     "output_type": "stream",
     "text": [
      "res base: 8\n",
      "res base wo whitespace: \n",
      "res base with prefix: 8\n",
      "res base tok: ['▁', '8']\n",
      "operands_base:  ('2', '2', '2')\n",
      "base string tok list:  [450, 1121, 310, 29871, 29906, 334, 29871, 29906, 334, 29871, 29906, 353, 29871, 29947, 29889, 450, 1121, 310, 29871, 29906, 334, 29871, 29906, 334, 29871, 29906, 353, 29871]\n",
      "z_base_tok:  29906\n",
      "y_base_tok:  29906\n",
      "x_base_tok:  29906\n"
     ]
    },
    {
     "name": "stderr",
     "output_type": "stream",
     "text": [
      " 46%|█████████████████████████████████████████████████████████████████████████████████████████████████████▉                                                                                                                         | 96/210 [00:32<01:27,  1.31it/s]"
     ]
    },
    {
     "name": "stdout",
     "output_type": "stream",
     "text": [
      "res base: 8\n",
      "res base wo whitespace: \n",
      "res base with prefix: 8\n",
      "res base tok: ['▁', '8']\n",
      "operands_base:  ('2', '2', '2')\n",
      "base string tok list:  [450, 1121, 310, 29871, 29906, 334, 29871, 29906, 334, 29871, 29906, 353, 29871, 29947, 29889, 450, 1121, 310, 29871, 29906, 334, 29871, 29906, 334, 29871, 29906, 353, 29871]\n",
      "z_base_tok:  29906\n",
      "y_base_tok:  29906\n",
      "x_base_tok:  29906\n"
     ]
    },
    {
     "name": "stderr",
     "output_type": "stream",
     "text": [
      " 46%|███████████████████████████████████████████████████████████████████████████████████████████████████████                                                                                                                        | 97/210 [00:33<01:32,  1.23it/s]"
     ]
    },
    {
     "name": "stdout",
     "output_type": "stream",
     "text": [
      "res base: 8\n",
      "res base wo whitespace: \n",
      "res base with prefix: 8\n",
      "res base tok: ['▁', '8']\n",
      "operands_base:  ('2', '2', '2')\n",
      "base string tok list:  [450, 1121, 310, 29871, 29906, 334, 29871, 29906, 334, 29871, 29906, 353, 29871, 29947, 29889, 450, 1121, 310, 29871, 29906, 334, 29871, 29906, 334, 29871, 29906, 353, 29871]\n",
      "z_base_tok:  29906\n",
      "y_base_tok:  29906\n",
      "x_base_tok:  29906\n"
     ]
    },
    {
     "name": "stderr",
     "output_type": "stream",
     "text": [
      " 47%|████████████████████████████████████████████████████████████████████████████████████████████████████████                                                                                                                       | 98/210 [00:35<02:01,  1.09s/it]"
     ]
    },
    {
     "name": "stdout",
     "output_type": "stream",
     "text": [
      "res base: 8\n",
      "res base wo whitespace: \n",
      "res base with prefix: 8\n",
      "res base tok: ['▁', '8']\n",
      "operands_base:  ('2', '2', '2')\n",
      "base string tok list:  [450, 1121, 310, 29871, 29906, 334, 29871, 29906, 334, 29871, 29906, 353, 29871, 29947, 29889, 450, 1121, 310, 29871, 29906, 334, 29871, 29906, 334, 29871, 29906, 353, 29871]\n",
      "z_base_tok:  29906\n",
      "y_base_tok:  29906\n",
      "x_base_tok:  29906\n"
     ]
    },
    {
     "name": "stderr",
     "output_type": "stream",
     "text": [
      " 47%|█████████████████████████████████████████████████████████████████████████████████████████████████████████▏                                                                                                                     | 99/210 [00:40<03:21,  1.82s/it]"
     ]
    },
    {
     "name": "stdout",
     "output_type": "stream",
     "text": [
      "res base: 8\n",
      "res base wo whitespace: \n",
      "res base with prefix: 8\n",
      "res base tok: ['▁', '8']\n",
      "operands_base:  ('2', '2', '2')\n",
      "base string tok list:  [450, 1121, 310, 29871, 29906, 334, 29871, 29906, 334, 29871, 29906, 353, 29871, 29947, 29889, 450, 1121, 310, 29871, 29906, 334, 29871, 29906, 334, 29871, 29906, 353, 29871]\n",
      "z_base_tok:  29906\n",
      "y_base_tok:  29906\n",
      "x_base_tok:  29906\n"
     ]
    },
    {
     "name": "stderr",
     "output_type": "stream",
     "text": [
      " 48%|█████████████████████████████████████████████████████████████████████████████████████████████████████████▋                                                                                                                    | 100/210 [00:42<03:09,  1.72s/it]"
     ]
    },
    {
     "name": "stdout",
     "output_type": "stream",
     "text": [
      "res base: 8\n",
      "res base wo whitespace: \n",
      "res base with prefix: 8\n",
      "res base tok: ['▁', '8']\n",
      "operands_base:  ('2', '2', '2')\n",
      "base string tok list:  [450, 1121, 310, 29871, 29906, 334, 29871, 29906, 334, 29871, 29906, 353, 29871, 29947, 29889, 450, 1121, 310, 29871, 29906, 334, 29871, 29906, 334, 29871, 29906, 353, 29871]\n",
      "z_base_tok:  29906\n",
      "y_base_tok:  29906\n",
      "x_base_tok:  29906\n"
     ]
    },
    {
     "name": "stderr",
     "output_type": "stream",
     "text": [
      " 48%|██████████████████████████████████████████████████████████████████████████████████████████████████████████▊                                                                                                                   | 101/210 [00:43<03:07,  1.72s/it]"
     ]
    },
    {
     "name": "stdout",
     "output_type": "stream",
     "text": [
      "res base: 8\n",
      "res base wo whitespace: \n",
      "res base with prefix: 8\n",
      "res base tok: ['▁', '8']\n",
      "operands_base:  ('2', '2', '2')\n",
      "base string tok list:  [450, 1121, 310, 29871, 29906, 334, 29871, 29906, 334, 29871, 29906, 353, 29871, 29947, 29889, 450, 1121, 310, 29871, 29906, 334, 29871, 29906, 334, 29871, 29906, 353, 29871]\n",
      "z_base_tok:  29906\n",
      "y_base_tok:  29906\n",
      "x_base_tok:  29906\n"
     ]
    },
    {
     "name": "stderr",
     "output_type": "stream",
     "text": [
      " 49%|███████████████████████████████████████████████████████████████████████████████████████████████████████████▊                                                                                                                  | 102/210 [00:47<04:10,  2.31s/it]"
     ]
    },
    {
     "name": "stdout",
     "output_type": "stream",
     "text": [
      "res base: 8\n",
      "res base wo whitespace: \n",
      "res base with prefix: 8\n",
      "res base tok: ['▁', '8']\n",
      "operands_base:  ('2', '2', '2')\n",
      "base string tok list:  [450, 1121, 310, 29871, 29906, 334, 29871, 29906, 334, 29871, 29906, 353, 29871, 29947, 29889, 450, 1121, 310, 29871, 29906, 334, 29871, 29906, 334, 29871, 29906, 353, 29871]\n",
      "z_base_tok:  29906\n",
      "y_base_tok:  29906\n",
      "x_base_tok:  29906\n"
     ]
    },
    {
     "name": "stderr",
     "output_type": "stream",
     "text": [
      " 49%|████████████████████████████████████████████████████████████████████████████████████████████████████████████▉                                                                                                                 | 103/210 [00:48<03:30,  1.96s/it]"
     ]
    },
    {
     "name": "stdout",
     "output_type": "stream",
     "text": [
      "res base: 8\n",
      "res base wo whitespace: \n",
      "res base with prefix: 8\n",
      "res base tok: ['▁', '8']\n",
      "operands_base:  ('2', '2', '2')\n",
      "base string tok list:  [450, 1121, 310, 29871, 29906, 334, 29871, 29906, 334, 29871, 29906, 353, 29871, 29947, 29889, 450, 1121, 310, 29871, 29906, 334, 29871, 29906, 334, 29871, 29906, 353, 29871]\n",
      "z_base_tok:  29906\n",
      "y_base_tok:  29906\n",
      "x_base_tok:  29906\n"
     ]
    },
    {
     "name": "stderr",
     "output_type": "stream",
     "text": [
      " 50%|█████████████████████████████████████████████████████████████████████████████████████████████████████████████▉                                                                                                                | 104/210 [00:53<05:00,  2.83s/it]"
     ]
    },
    {
     "name": "stdout",
     "output_type": "stream",
     "text": [
      "res base: 8\n",
      "res base wo whitespace: \n",
      "res base with prefix: 8\n",
      "res base tok: ['▁', '8']\n",
      "operands_base:  ('2', '2', '2')\n",
      "base string tok list:  [450, 1121, 310, 29871, 29906, 334, 29871, 29906, 334, 29871, 29906, 353, 29871, 29947, 29889, 450, 1121, 310, 29871, 29906, 334, 29871, 29906, 334, 29871, 29906, 353, 29871]\n",
      "z_base_tok:  29906\n",
      "y_base_tok:  29906\n",
      "x_base_tok:  29906\n"
     ]
    },
    {
     "name": "stderr",
     "output_type": "stream",
     "text": [
      " 50%|███████████████████████████████████████████████████████████████████████████████████████████████████████████████                                                                                                               | 105/210 [00:58<05:53,  3.36s/it]"
     ]
    },
    {
     "name": "stdout",
     "output_type": "stream",
     "text": [
      "res base: 8\n",
      "res base wo whitespace: \n",
      "res base with prefix: 8\n",
      "res base tok: ['▁', '8']\n",
      "operands_base:  ('2', '2', '2')\n",
      "base string tok list:  [450, 1121, 310, 29871, 29906, 334, 29871, 29906, 334, 29871, 29906, 353, 29871, 29947, 29889, 450, 1121, 310, 29871, 29906, 334, 29871, 29906, 334, 29871, 29906, 353, 29871]\n",
      "z_base_tok:  29906\n",
      "y_base_tok:  29906\n",
      "x_base_tok:  29906\n"
     ]
    },
    {
     "name": "stderr",
     "output_type": "stream",
     "text": [
      " 50%|████████████████████████████████████████████████████████████████████████████████████████████████████████████████                                                                                                              | 106/210 [01:00<04:54,  2.84s/it]"
     ]
    },
    {
     "name": "stdout",
     "output_type": "stream",
     "text": [
      "res base: 8\n",
      "res base wo whitespace: \n",
      "res base with prefix: 8\n",
      "res base tok: ['▁', '8']\n",
      "operands_base:  ('2', '2', '2')\n",
      "base string tok list:  [450, 1121, 310, 29871, 29906, 334, 29871, 29906, 334, 29871, 29906, 353, 29871, 29947, 29889, 450, 1121, 310, 29871, 29906, 334, 29871, 29906, 334, 29871, 29906, 353, 29871]\n",
      "z_base_tok:  29906\n",
      "y_base_tok:  29906\n",
      "x_base_tok:  29906\n"
     ]
    },
    {
     "name": "stderr",
     "output_type": "stream",
     "text": [
      " 51%|█████████████████████████████████████████████████████████████████████████████████████████████████████████████████                                                                                                             | 107/210 [01:02<04:34,  2.66s/it]"
     ]
    },
    {
     "name": "stdout",
     "output_type": "stream",
     "text": [
      "res base: 8\n",
      "res base wo whitespace: \n",
      "res base with prefix: 8\n",
      "res base tok: ['▁', '8']\n",
      "operands_base:  ('2', '2', '2')\n",
      "base string tok list:  [450, 1121, 310, 29871, 29906, 334, 29871, 29906, 334, 29871, 29906, 353, 29871, 29947, 29889, 450, 1121, 310, 29871, 29906, 334, 29871, 29906, 334, 29871, 29906, 353, 29871]\n",
      "z_base_tok:  29906\n",
      "y_base_tok:  29906\n",
      "x_base_tok:  29906\n"
     ]
    },
    {
     "name": "stderr",
     "output_type": "stream",
     "text": [
      " 51%|██████████████████████████████████████████████████████████████████████████████████████████████████████████████████▏                                                                                                           | 108/210 [01:04<04:19,  2.54s/it]"
     ]
    },
    {
     "name": "stdout",
     "output_type": "stream",
     "text": [
      "res base: 8\n",
      "res base wo whitespace: \n",
      "res base with prefix: 8\n",
      "res base tok: ['▁', '8']\n",
      "operands_base:  ('2', '2', '2')\n",
      "base string tok list:  [450, 1121, 310, 29871, 29906, 334, 29871, 29906, 334, 29871, 29906, 353, 29871, 29947, 29889, 450, 1121, 310, 29871, 29906, 334, 29871, 29906, 334, 29871, 29906, 353, 29871]\n",
      "z_base_tok:  29906\n",
      "y_base_tok:  29906\n",
      "x_base_tok:  29906\n"
     ]
    },
    {
     "name": "stderr",
     "output_type": "stream",
     "text": [
      " 52%|███████████████████████████████████████████████████████████████████████████████████████████████████████████████████▏                                                                                                          | 109/210 [01:08<04:54,  2.92s/it]"
     ]
    },
    {
     "name": "stdout",
     "output_type": "stream",
     "text": [
      "res base: 8\n",
      "res base wo whitespace: \n",
      "res base with prefix: 8\n",
      "res base tok: ['▁', '8']\n",
      "operands_base:  ('2', '2', '2')\n",
      "base string tok list:  [450, 1121, 310, 29871, 29906, 334, 29871, 29906, 334, 29871, 29906, 353, 29871, 29947, 29889, 450, 1121, 310, 29871, 29906, 334, 29871, 29906, 334, 29871, 29906, 353, 29871]\n",
      "z_base_tok:  29906\n",
      "y_base_tok:  29906\n",
      "x_base_tok:  29906\n"
     ]
    },
    {
     "name": "stderr",
     "output_type": "stream",
     "text": [
      " 52%|████████████████████████████████████████████████████████████████████████████████████████████████████████████████████▎                                                                                                         | 110/210 [01:08<03:39,  2.19s/it]"
     ]
    },
    {
     "name": "stdout",
     "output_type": "stream",
     "text": [
      "res base: 8\n",
      "res base wo whitespace: \n",
      "res base with prefix: 8\n",
      "res base tok: ['▁', '8']\n",
      "operands_base:  ('2', '2', '2')\n",
      "base string tok list:  [450, 1121, 310, 29871, 29906, 334, 29871, 29906, 334, 29871, 29906, 353, 29871, 29947, 29889, 450, 1121, 310, 29871, 29906, 334, 29871, 29906, 334, 29871, 29906, 353, 29871]\n",
      "z_base_tok:  29906\n",
      "y_base_tok:  29906\n",
      "x_base_tok:  29906\n"
     ]
    },
    {
     "name": "stderr",
     "output_type": "stream",
     "text": [
      " 53%|█████████████████████████████████████████████████████████████████████████████████████████████████████████████████████▎                                                                                                        | 111/210 [01:10<03:06,  1.89s/it]"
     ]
    },
    {
     "name": "stdout",
     "output_type": "stream",
     "text": [
      "res base: 8\n",
      "res base wo whitespace: \n",
      "res base with prefix: 8\n",
      "res base tok: ['▁', '8']\n",
      "operands_base:  ('2', '2', '2')\n",
      "base string tok list:  [450, 1121, 310, 29871, 29906, 334, 29871, 29906, 334, 29871, 29906, 353, 29871, 29947, 29889, 450, 1121, 310, 29871, 29906, 334, 29871, 29906, 334, 29871, 29906, 353, 29871]\n",
      "z_base_tok:  29906\n",
      "y_base_tok:  29906\n",
      "x_base_tok:  29906\n"
     ]
    },
    {
     "name": "stderr",
     "output_type": "stream",
     "text": [
      " 53%|██████████████████████████████████████████████████████████████████████████████████████████████████████████████████████▍                                                                                                       | 112/210 [01:12<03:15,  2.00s/it]"
     ]
    },
    {
     "name": "stdout",
     "output_type": "stream",
     "text": [
      "res base: 8\n",
      "res base wo whitespace: \n",
      "res base with prefix: 8\n",
      "res base tok: ['▁', '8']\n",
      "operands_base:  ('2', '2', '2')\n",
      "base string tok list:  [450, 1121, 310, 29871, 29906, 334, 29871, 29906, 334, 29871, 29906, 353, 29871, 29947, 29889, 450, 1121, 310, 29871, 29906, 334, 29871, 29906, 334, 29871, 29906, 353, 29871]\n",
      "z_base_tok:  29906\n",
      "y_base_tok:  29906\n",
      "x_base_tok:  29906\n"
     ]
    },
    {
     "name": "stderr",
     "output_type": "stream",
     "text": [
      " 54%|███████████████████████████████████████████████████████████████████████████████████████████████████████████████████████▍                                                                                                      | 113/210 [01:14<03:09,  1.96s/it]"
     ]
    },
    {
     "name": "stdout",
     "output_type": "stream",
     "text": [
      "res base: 8\n",
      "res base wo whitespace: \n",
      "res base with prefix: 8\n",
      "res base tok: ['▁', '8']\n",
      "operands_base:  ('2', '2', '2')\n",
      "base string tok list:  [450, 1121, 310, 29871, 29906, 334, 29871, 29906, 334, 29871, 29906, 353, 29871, 29947, 29889, 450, 1121, 310, 29871, 29906, 334, 29871, 29906, 334, 29871, 29906, 353, 29871]\n",
      "z_base_tok:  29906\n",
      "y_base_tok:  29906\n",
      "x_base_tok:  29906\n"
     ]
    },
    {
     "name": "stderr",
     "output_type": "stream",
     "text": [
      " 54%|████████████████████████████████████████████████████████████████████████████████████████████████████████████████████████▌                                                                                                     | 114/210 [01:16<03:04,  1.92s/it]"
     ]
    },
    {
     "name": "stdout",
     "output_type": "stream",
     "text": [
      "res base: 8\n",
      "res base wo whitespace: \n",
      "res base with prefix: 8\n",
      "res base tok: ['▁', '8']\n",
      "operands_base:  ('2', '2', '2')\n",
      "base string tok list:  [450, 1121, 310, 29871, 29906, 334, 29871, 29906, 334, 29871, 29906, 353, 29871, 29947, 29889, 450, 1121, 310, 29871, 29906, 334, 29871, 29906, 334, 29871, 29906, 353, 29871]\n",
      "z_base_tok:  29906\n",
      "y_base_tok:  29906\n",
      "x_base_tok:  29906\n"
     ]
    },
    {
     "name": "stderr",
     "output_type": "stream",
     "text": [
      " 55%|█████████████████████████████████████████████████████████████████████████████████████████████████████████████████████████▌                                                                                                    | 115/210 [01:16<02:29,  1.58s/it]"
     ]
    },
    {
     "name": "stdout",
     "output_type": "stream",
     "text": [
      "res base: 8\n",
      "res base wo whitespace: \n",
      "res base with prefix: 8\n",
      "res base tok: ['▁', '8']\n",
      "operands_base:  ('2', '2', '2')\n",
      "base string tok list:  [450, 1121, 310, 29871, 29906, 334, 29871, 29906, 334, 29871, 29906, 353, 29871, 29947, 29889, 450, 1121, 310, 29871, 29906, 334, 29871, 29906, 334, 29871, 29906, 353, 29871]\n",
      "z_base_tok:  29906\n",
      "y_base_tok:  29906\n",
      "x_base_tok:  29906\n"
     ]
    },
    {
     "name": "stderr",
     "output_type": "stream",
     "text": [
      " 55%|██████████████████████████████████████████████████████████████████████████████████████████████████████████████████████████▋                                                                                                   | 116/210 [01:20<03:19,  2.12s/it]"
     ]
    },
    {
     "name": "stdout",
     "output_type": "stream",
     "text": [
      "res base: 8\n",
      "res base wo whitespace: \n",
      "res base with prefix: 8\n",
      "res base tok: ['▁', '8']\n",
      "operands_base:  ('2', '2', '2')\n",
      "base string tok list:  [450, 1121, 310, 29871, 29906, 334, 29871, 29906, 334, 29871, 29906, 353, 29871, 29947, 29889, 450, 1121, 310, 29871, 29906, 334, 29871, 29906, 334, 29871, 29906, 353, 29871]\n",
      "z_base_tok:  29906\n",
      "y_base_tok:  29906\n",
      "x_base_tok:  29906\n"
     ]
    },
    {
     "name": "stderr",
     "output_type": "stream",
     "text": [
      " 56%|███████████████████████████████████████████████████████████████████████████████████████████████████████████████████████████▋                                                                                                  | 117/210 [01:22<03:23,  2.19s/it]"
     ]
    },
    {
     "name": "stdout",
     "output_type": "stream",
     "text": [
      "res base: 8\n",
      "res base wo whitespace: \n",
      "res base with prefix: 8\n",
      "res base tok: ['▁', '8']\n",
      "operands_base:  ('2', '2', '2')\n",
      "base string tok list:  [450, 1121, 310, 29871, 29906, 334, 29871, 29906, 334, 29871, 29906, 353, 29871, 29947, 29889, 450, 1121, 310, 29871, 29906, 334, 29871, 29906, 334, 29871, 29906, 353, 29871]\n",
      "z_base_tok:  29906\n",
      "y_base_tok:  29906\n",
      "x_base_tok:  29906\n"
     ]
    },
    {
     "name": "stderr",
     "output_type": "stream",
     "text": [
      " 56%|████████████████████████████████████████████████████████████████████████████████████████████████████████████████████████████▋                                                                                                 | 118/210 [01:24<03:03,  2.00s/it]"
     ]
    },
    {
     "name": "stdout",
     "output_type": "stream",
     "text": [
      "res base: 8\n",
      "res base wo whitespace: \n",
      "res base with prefix: 8\n",
      "res base tok: ['▁', '8']\n",
      "operands_base:  ('2', '2', '2')\n",
      "base string tok list:  [450, 1121, 310, 29871, 29906, 334, 29871, 29906, 334, 29871, 29906, 353, 29871, 29947, 29889, 450, 1121, 310, 29871, 29906, 334, 29871, 29906, 334, 29871, 29906, 353, 29871]\n",
      "z_base_tok:  29906\n",
      "y_base_tok:  29906\n",
      "x_base_tok:  29906\n"
     ]
    },
    {
     "name": "stderr",
     "output_type": "stream",
     "text": [
      " 57%|█████████████████████████████████████████████████████████████████████████████████████████████████████████████████████████████▊                                                                                                | 119/210 [01:25<02:54,  1.92s/it]"
     ]
    },
    {
     "name": "stdout",
     "output_type": "stream",
     "text": [
      "res base: 8\n",
      "res base wo whitespace: \n",
      "res base with prefix: 8\n",
      "res base tok: ['▁', '8']\n",
      "operands_base:  ('2', '2', '2')\n",
      "base string tok list:  [450, 1121, 310, 29871, 29906, 334, 29871, 29906, 334, 29871, 29906, 353, 29871, 29947, 29889, 450, 1121, 310, 29871, 29906, 334, 29871, 29906, 334, 29871, 29906, 353, 29871]\n",
      "z_base_tok:  29906\n",
      "y_base_tok:  29906\n",
      "x_base_tok:  29906\n"
     ]
    },
    {
     "name": "stderr",
     "output_type": "stream",
     "text": [
      " 57%|██████████████████████████████████████████████████████████████████████████████████████████████████████████████████████████████▊                                                                                               | 120/210 [01:26<02:15,  1.51s/it]"
     ]
    },
    {
     "name": "stdout",
     "output_type": "stream",
     "text": [
      "res base: 8\n",
      "res base wo whitespace: \n",
      "res base with prefix: 8\n",
      "res base tok: ['▁', '8']\n",
      "operands_base:  ('2', '2', '2')\n",
      "base string tok list:  [450, 1121, 310, 29871, 29906, 334, 29871, 29906, 334, 29871, 29906, 353, 29871, 29947, 29889, 450, 1121, 310, 29871, 29906, 334, 29871, 29906, 334, 29871, 29906, 353, 29871]\n",
      "z_base_tok:  29906\n",
      "y_base_tok:  29906\n",
      "x_base_tok:  29906\n"
     ]
    },
    {
     "name": "stderr",
     "output_type": "stream",
     "text": [
      " 58%|███████████████████████████████████████████████████████████████████████████████████████████████████████████████████████████████▉                                                                                              | 121/210 [01:27<02:07,  1.43s/it]"
     ]
    },
    {
     "name": "stdout",
     "output_type": "stream",
     "text": [
      "res base: 8\n",
      "res base wo whitespace: \n",
      "res base with prefix: 8\n",
      "res base tok: ['▁', '8']\n",
      "operands_base:  ('2', '2', '2')\n",
      "base string tok list:  [450, 1121, 310, 29871, 29906, 3064, 29871, 29906, 3064, 29871, 29906, 353, 29871, 29947, 29889, 450, 1121, 310, 29871, 29906, 3064, 29871, 29906, 3064, 29871, 29906, 353, 29871]\n",
      "z_base_tok:  29906\n",
      "y_base_tok:  29906\n",
      "x_base_tok:  29906\n"
     ]
    },
    {
     "name": "stderr",
     "output_type": "stream",
     "text": [
      " 58%|████████████████████████████████████████████████████████████████████████████████████████████████████████████████████████████████▉                                                                                             | 122/210 [01:30<02:29,  1.70s/it]"
     ]
    },
    {
     "name": "stdout",
     "output_type": "stream",
     "text": [
      "res base: 8\n",
      "res base wo whitespace: \n",
      "res base with prefix: 8\n",
      "res base tok: ['▁', '8']\n",
      "operands_base:  ('2', '2', '2')\n",
      "base string tok list:  [450, 1121, 310, 29871, 29906, 3064, 29871, 29906, 3064, 29871, 29906, 353, 29871, 29947, 29889, 450, 1121, 310, 29871, 29906, 3064, 29871, 29906, 3064, 29871, 29906, 353, 29871]\n",
      "z_base_tok:  29906\n",
      "y_base_tok:  29906\n",
      "x_base_tok:  29906\n"
     ]
    },
    {
     "name": "stderr",
     "output_type": "stream",
     "text": [
      " 59%|██████████████████████████████████████████████████████████████████████████████████████████████████████████████████████████████████                                                                                            | 123/210 [01:32<02:38,  1.82s/it]"
     ]
    },
    {
     "name": "stdout",
     "output_type": "stream",
     "text": [
      "res base: 8\n",
      "res base wo whitespace: \n",
      "res base with prefix: 8\n",
      "res base tok: ['▁', '8']\n",
      "operands_base:  ('2', '2', '2')\n",
      "base string tok list:  [450, 1121, 310, 29871, 29906, 3064, 29871, 29906, 3064, 29871, 29906, 353, 29871, 29947, 29889, 450, 1121, 310, 29871, 29906, 3064, 29871, 29906, 3064, 29871, 29906, 353, 29871]\n",
      "z_base_tok:  29906\n",
      "y_base_tok:  29906\n",
      "x_base_tok:  29906\n"
     ]
    },
    {
     "name": "stderr",
     "output_type": "stream",
     "text": [
      " 59%|███████████████████████████████████████████████████████████████████████████████████████████████████████████████████████████████████                                                                                           | 124/210 [01:35<03:10,  2.21s/it]"
     ]
    },
    {
     "name": "stdout",
     "output_type": "stream",
     "text": [
      "res base: 8\n",
      "res base wo whitespace: \n",
      "res base with prefix: 8\n",
      "res base tok: ['▁', '8']\n",
      "operands_base:  ('2', '2', '2')\n",
      "base string tok list:  [450, 1121, 310, 29871, 29906, 3064, 29871, 29906, 3064, 29871, 29906, 353, 29871, 29947, 29889, 450, 1121, 310, 29871, 29906, 3064, 29871, 29906, 3064, 29871, 29906, 353, 29871]\n",
      "z_base_tok:  29906\n",
      "y_base_tok:  29906\n",
      "x_base_tok:  29906\n"
     ]
    },
    {
     "name": "stderr",
     "output_type": "stream",
     "text": [
      " 60%|████████████████████████████████████████████████████████████████████████████████████████████████████████████████████████████████████▏                                                                                         | 125/210 [01:38<03:23,  2.40s/it]"
     ]
    },
    {
     "name": "stdout",
     "output_type": "stream",
     "text": [
      "res base: 8\n",
      "res base wo whitespace: \n",
      "res base with prefix: 8\n",
      "res base tok: ['▁', '8']\n",
      "operands_base:  ('2', '2', '2')\n",
      "base string tok list:  [450, 1121, 310, 29871, 29906, 3064, 29871, 29906, 3064, 29871, 29906, 353, 29871, 29947, 29889, 450, 1121, 310, 29871, 29906, 3064, 29871, 29906, 3064, 29871, 29906, 353, 29871]\n",
      "z_base_tok:  29906\n",
      "y_base_tok:  29906\n",
      "x_base_tok:  29906\n"
     ]
    },
    {
     "name": "stderr",
     "output_type": "stream",
     "text": [
      " 60%|█████████████████████████████████████████████████████████████████████████████████████████████████████████████████████████████████████▏                                                                                        | 126/210 [01:41<03:41,  2.63s/it]"
     ]
    },
    {
     "name": "stdout",
     "output_type": "stream",
     "text": [
      "res base: 8\n",
      "res base wo whitespace: \n",
      "res base with prefix: 8\n",
      "res base tok: ['▁', '8']\n",
      "operands_base:  ('2', '2', '2')\n",
      "base string tok list:  [450, 1121, 310, 29871, 29906, 3064, 29871, 29906, 3064, 29871, 29906, 353, 29871, 29947, 29889, 450, 1121, 310, 29871, 29906, 3064, 29871, 29906, 3064, 29871, 29906, 353, 29871]\n",
      "z_base_tok:  29906\n",
      "y_base_tok:  29906\n",
      "x_base_tok:  29906\n"
     ]
    },
    {
     "name": "stderr",
     "output_type": "stream",
     "text": [
      " 60%|██████████████████████████████████████████████████████████████████████████████████████████████████████████████████████████████████████▎                                                                                       | 127/210 [01:41<02:50,  2.05s/it]"
     ]
    },
    {
     "name": "stdout",
     "output_type": "stream",
     "text": [
      "res base: 8\n",
      "res base wo whitespace: \n",
      "res base with prefix: 8\n",
      "res base tok: ['▁', '8']\n",
      "operands_base:  ('2', '2', '2')\n",
      "base string tok list:  [450, 1121, 310, 29871, 29906, 3064, 29871, 29906, 3064, 29871, 29906, 353, 29871, 29947, 29889, 450, 1121, 310, 29871, 29906, 3064, 29871, 29906, 3064, 29871, 29906, 353, 29871]\n",
      "z_base_tok:  29906\n",
      "y_base_tok:  29906\n",
      "x_base_tok:  29906\n"
     ]
    },
    {
     "name": "stderr",
     "output_type": "stream",
     "text": [
      " 61%|███████████████████████████████████████████████████████████████████████████████████████████████████████████████████████████████████████▎                                                                                      | 128/210 [01:46<03:39,  2.68s/it]"
     ]
    },
    {
     "name": "stdout",
     "output_type": "stream",
     "text": [
      "res base: 8\n",
      "res base wo whitespace: \n",
      "res base with prefix: 8\n",
      "res base tok: ['▁', '8']\n",
      "operands_base:  ('2', '2', '2')\n",
      "base string tok list:  [450, 1121, 310, 29871, 29906, 3064, 29871, 29906, 3064, 29871, 29906, 353, 29871, 29947, 29889, 450, 1121, 310, 29871, 29906, 3064, 29871, 29906, 3064, 29871, 29906, 353, 29871]\n",
      "z_base_tok:  29906\n",
      "y_base_tok:  29906\n",
      "x_base_tok:  29906\n"
     ]
    },
    {
     "name": "stderr",
     "output_type": "stream",
     "text": [
      " 61%|████████████████████████████████████████████████████████████████████████████████████████████████████████████████████████████████████████▎                                                                                     | 129/210 [01:47<02:55,  2.16s/it]"
     ]
    },
    {
     "name": "stdout",
     "output_type": "stream",
     "text": [
      "res base: 8\n",
      "res base wo whitespace: \n",
      "res base with prefix: 8\n",
      "res base tok: ['▁', '8']\n",
      "operands_base:  ('2', '2', '2')\n",
      "base string tok list:  [450, 1121, 310, 29871, 29906, 3064, 29871, 29906, 3064, 29871, 29906, 353, 29871, 29947, 29889, 450, 1121, 310, 29871, 29906, 3064, 29871, 29906, 3064, 29871, 29906, 353, 29871]\n",
      "z_base_tok:  29906\n",
      "y_base_tok:  29906\n",
      "x_base_tok:  29906\n"
     ]
    },
    {
     "name": "stderr",
     "output_type": "stream",
     "text": [
      " 62%|█████████████████████████████████████████████████████████████████████████████████████████████████████████████████████████████████████████▍                                                                                    | 130/210 [01:49<02:59,  2.25s/it]"
     ]
    },
    {
     "name": "stdout",
     "output_type": "stream",
     "text": [
      "res base: 8\n",
      "res base wo whitespace: \n",
      "res base with prefix: 8\n",
      "res base tok: ['▁', '8']\n",
      "operands_base:  ('2', '2', '2')\n",
      "base string tok list:  [450, 1121, 310, 29871, 29906, 3064, 29871, 29906, 3064, 29871, 29906, 353, 29871, 29947, 29889, 450, 1121, 310, 29871, 29906, 3064, 29871, 29906, 3064, 29871, 29906, 353, 29871]\n",
      "z_base_tok:  29906\n",
      "y_base_tok:  29906\n",
      "x_base_tok:  29906\n"
     ]
    },
    {
     "name": "stderr",
     "output_type": "stream",
     "text": [
      " 62%|██████████████████████████████████████████████████████████████████████████████████████████████████████████████████████████████████████████▍                                                                                   | 131/210 [01:53<03:31,  2.68s/it]"
     ]
    },
    {
     "name": "stdout",
     "output_type": "stream",
     "text": [
      "res base: 8\n",
      "res base wo whitespace: \n",
      "res base with prefix: 8\n",
      "res base tok: ['▁', '8']\n",
      "operands_base:  ('2', '2', '2')\n",
      "base string tok list:  [450, 1121, 310, 29871, 29906, 3064, 29871, 29906, 3064, 29871, 29906, 353, 29871, 29947, 29889, 450, 1121, 310, 29871, 29906, 3064, 29871, 29906, 3064, 29871, 29906, 353, 29871]\n",
      "z_base_tok:  29906\n",
      "y_base_tok:  29906\n",
      "x_base_tok:  29906\n"
     ]
    },
    {
     "name": "stderr",
     "output_type": "stream",
     "text": [
      " 63%|███████████████████████████████████████████████████████████████████████████████████████████████████████████████████████████████████████████▌                                                                                  | 132/210 [01:54<03:00,  2.32s/it]"
     ]
    },
    {
     "name": "stdout",
     "output_type": "stream",
     "text": [
      "res base: 8\n",
      "res base wo whitespace: \n",
      "res base with prefix: 8\n",
      "res base tok: ['▁', '8']\n",
      "operands_base:  ('2', '2', '2')\n",
      "base string tok list:  [450, 1121, 310, 29871, 29906, 3064, 29871, 29906, 3064, 29871, 29906, 353, 29871, 29947, 29889, 450, 1121, 310, 29871, 29906, 3064, 29871, 29906, 3064, 29871, 29906, 353, 29871]\n",
      "z_base_tok:  29906\n",
      "y_base_tok:  29906\n",
      "x_base_tok:  29906\n"
     ]
    },
    {
     "name": "stderr",
     "output_type": "stream",
     "text": [
      " 63%|████████████████████████████████████████████████████████████████████████████████████████████████████████████████████████████████████████████▌                                                                                 | 133/210 [01:59<03:51,  3.00s/it]"
     ]
    },
    {
     "name": "stdout",
     "output_type": "stream",
     "text": [
      "res base: 8\n",
      "res base wo whitespace: \n",
      "res base with prefix: 8\n",
      "res base tok: ['▁', '8']\n",
      "operands_base:  ('2', '2', '2')\n",
      "base string tok list:  [450, 1121, 310, 29871, 29906, 3064, 29871, 29906, 3064, 29871, 29906, 353, 29871, 29947, 29889, 450, 1121, 310, 29871, 29906, 3064, 29871, 29906, 3064, 29871, 29906, 353, 29871]\n",
      "z_base_tok:  29906\n",
      "y_base_tok:  29906\n",
      "x_base_tok:  29906\n"
     ]
    },
    {
     "name": "stderr",
     "output_type": "stream",
     "text": [
      " 64%|█████████████████████████████████████████████████████████████████████████████████████████████████████████████████████████████████████████████▋                                                                                | 134/210 [01:59<02:49,  2.23s/it]"
     ]
    },
    {
     "name": "stdout",
     "output_type": "stream",
     "text": [
      "res base: 8\n",
      "res base wo whitespace: \n",
      "res base with prefix: 8\n",
      "res base tok: ['▁', '8']\n",
      "operands_base:  ('2', '2', '2')\n",
      "base string tok list:  [450, 1121, 310, 29871, 29906, 3064, 29871, 29906, 3064, 29871, 29906, 353, 29871, 29947, 29889, 450, 1121, 310, 29871, 29906, 3064, 29871, 29906, 3064, 29871, 29906, 353, 29871]\n",
      "z_base_tok:  29906\n",
      "y_base_tok:  29906\n",
      "x_base_tok:  29906\n"
     ]
    },
    {
     "name": "stderr",
     "output_type": "stream",
     "text": [
      " 64%|██████████████████████████████████████████████████████████████████████████████████████████████████████████████████████████████████████████████▋                                                                               | 135/210 [02:00<02:07,  1.70s/it]"
     ]
    },
    {
     "name": "stdout",
     "output_type": "stream",
     "text": [
      "res base: 8\n",
      "res base wo whitespace: \n",
      "res base with prefix: 8\n",
      "res base tok: ['▁', '8']\n",
      "operands_base:  ('2', '2', '2')\n",
      "base string tok list:  [450, 1121, 310, 29871, 29906, 3064, 29871, 29906, 3064, 29871, 29906, 353, 29871, 29947, 29889, 450, 1121, 310, 29871, 29906, 3064, 29871, 29906, 3064, 29871, 29906, 353, 29871]\n",
      "z_base_tok:  29906\n",
      "y_base_tok:  29906\n",
      "x_base_tok:  29906\n"
     ]
    },
    {
     "name": "stderr",
     "output_type": "stream",
     "text": [
      " 65%|███████████████████████████████████████████████████████████████████████████████████████████████████████████████████████████████████████████████▊                                                                              | 136/210 [02:06<03:59,  3.24s/it]"
     ]
    },
    {
     "name": "stdout",
     "output_type": "stream",
     "text": [
      "res base: 8\n",
      "res base wo whitespace: \n",
      "res base with prefix: 8\n",
      "res base tok: ['▁', '8']\n",
      "operands_base:  ('2', '2', '2')\n",
      "base string tok list:  [450, 1121, 310, 29871, 29906, 3064, 29871, 29906, 3064, 29871, 29906, 353, 29871, 29947, 29889, 450, 1121, 310, 29871, 29906, 3064, 29871, 29906, 3064, 29871, 29906, 353, 29871]\n",
      "z_base_tok:  29906\n",
      "y_base_tok:  29906\n",
      "x_base_tok:  29906\n"
     ]
    },
    {
     "name": "stderr",
     "output_type": "stream",
     "text": [
      " 65%|████████████████████████████████████████████████████████████████████████████████████████████████████████████████████████████████████████████████▊                                                                             | 137/210 [02:08<03:28,  2.86s/it]"
     ]
    },
    {
     "name": "stdout",
     "output_type": "stream",
     "text": [
      "res base: 8\n",
      "res base wo whitespace: \n",
      "res base with prefix: 8\n",
      "res base tok: ['▁', '8']\n",
      "operands_base:  ('2', '2', '2')\n",
      "base string tok list:  [450, 1121, 310, 29871, 29906, 3064, 29871, 29906, 3064, 29871, 29906, 353, 29871, 29947, 29889, 450, 1121, 310, 29871, 29906, 3064, 29871, 29906, 3064, 29871, 29906, 353, 29871]\n",
      "z_base_tok:  29906\n",
      "y_base_tok:  29906\n",
      "x_base_tok:  29906\n"
     ]
    },
    {
     "name": "stderr",
     "output_type": "stream",
     "text": [
      " 66%|█████████████████████████████████████████████████████████████████████████████████████████████████████████████████████████████████████████████████▉                                                                            | 138/210 [02:10<02:56,  2.46s/it]"
     ]
    },
    {
     "name": "stdout",
     "output_type": "stream",
     "text": [
      "res base: 8\n",
      "res base wo whitespace: \n",
      "res base with prefix: 8\n",
      "res base tok: ['▁', '8']\n",
      "operands_base:  ('2', '2', '2')\n",
      "base string tok list:  [450, 1121, 310, 29871, 29906, 3064, 29871, 29906, 3064, 29871, 29906, 353, 29871, 29947, 29889, 450, 1121, 310, 29871, 29906, 3064, 29871, 29906, 3064, 29871, 29906, 353, 29871]\n",
      "z_base_tok:  29906\n",
      "y_base_tok:  29906\n",
      "x_base_tok:  29906\n"
     ]
    },
    {
     "name": "stderr",
     "output_type": "stream",
     "text": [
      " 66%|██████████████████████████████████████████████████████████████████████████████████████████████████████████████████████████████████████████████████▉                                                                           | 139/210 [02:15<03:44,  3.16s/it]"
     ]
    },
    {
     "name": "stdout",
     "output_type": "stream",
     "text": [
      "res base: 8\n",
      "res base wo whitespace: \n",
      "res base with prefix: 8\n",
      "res base tok: ['▁', '8']\n",
      "operands_base:  ('2', '2', '2')\n",
      "base string tok list:  [450, 1121, 310, 29871, 29906, 3064, 29871, 29906, 3064, 29871, 29906, 353, 29871, 29947, 29889, 450, 1121, 310, 29871, 29906, 3064, 29871, 29906, 3064, 29871, 29906, 353, 29871]\n",
      "z_base_tok:  29906\n",
      "y_base_tok:  29906\n",
      "x_base_tok:  29906\n"
     ]
    },
    {
     "name": "stderr",
     "output_type": "stream",
     "text": [
      " 67%|████████████████████████████████████████████████████████████████████████████████████████████████████████████████████████████████████████████████████                                                                          | 140/210 [02:18<03:35,  3.07s/it]"
     ]
    },
    {
     "name": "stdout",
     "output_type": "stream",
     "text": [
      "res base: 8\n",
      "res base wo whitespace: \n",
      "res base with prefix: 8\n",
      "res base tok: ['▁', '8']\n",
      "operands_base:  ('2', '2', '2')\n",
      "base string tok list:  [450, 1121, 310, 29871, 29906, 3064, 29871, 29906, 3064, 29871, 29906, 353, 29871, 29947, 29889, 450, 1121, 310, 29871, 29906, 3064, 29871, 29906, 3064, 29871, 29906, 353, 29871]\n",
      "z_base_tok:  29906\n",
      "y_base_tok:  29906\n",
      "x_base_tok:  29906\n"
     ]
    },
    {
     "name": "stderr",
     "output_type": "stream",
     "text": [
      " 67%|█████████████████████████████████████████████████████████████████████████████████████████████████████████████████████████████████████████████████████                                                                         | 141/210 [02:20<03:09,  2.74s/it]"
     ]
    },
    {
     "name": "stdout",
     "output_type": "stream",
     "text": [
      "res base: 8\n",
      "res base wo whitespace: \n",
      "res base with prefix: 8\n",
      "res base tok: ['▁', '8']\n",
      "operands_base:  ('2', '2', '2')\n",
      "base string tok list:  [450, 1121, 310, 29871, 29906, 3064, 29871, 29906, 3064, 29871, 29906, 353, 29871, 29947, 29889, 450, 1121, 310, 29871, 29906, 3064, 29871, 29906, 3064, 29871, 29906, 353, 29871]\n",
      "z_base_tok:  29906\n",
      "y_base_tok:  29906\n",
      "x_base_tok:  29906\n"
     ]
    },
    {
     "name": "stderr",
     "output_type": "stream",
     "text": [
      " 68%|██████████████████████████████████████████████████████████████████████████████████████████████████████████████████████████████████████████████████████                                                                        | 142/210 [02:20<02:28,  2.18s/it]"
     ]
    },
    {
     "name": "stdout",
     "output_type": "stream",
     "text": [
      "res base: 8\n",
      "res base wo whitespace: \n",
      "res base with prefix: 8\n",
      "res base tok: ['▁', '8']\n",
      "operands_base:  ('2', '2', '2')\n",
      "base string tok list:  [450, 1121, 310, 29871, 29906, 3064, 29871, 29906, 3064, 29871, 29906, 353, 29871, 29947, 29889, 450, 1121, 310, 29871, 29906, 3064, 29871, 29906, 3064, 29871, 29906, 353, 29871]\n",
      "z_base_tok:  29906\n",
      "y_base_tok:  29906\n",
      "x_base_tok:  29906\n"
     ]
    },
    {
     "name": "stderr",
     "output_type": "stream",
     "text": [
      " 68%|███████████████████████████████████████████████████████████████████████████████████████████████████████████████████████████████████████████████████████▏                                                                      | 143/210 [02:22<02:05,  1.87s/it]"
     ]
    },
    {
     "name": "stdout",
     "output_type": "stream",
     "text": [
      "res base: 8\n",
      "res base wo whitespace: \n",
      "res base with prefix: 8\n",
      "res base tok: ['▁', '8']\n",
      "operands_base:  ('2', '2', '2')\n",
      "base string tok list:  [450, 1121, 310, 29871, 29906, 3064, 29871, 29906, 3064, 29871, 29906, 353, 29871, 29947, 29889, 450, 1121, 310, 29871, 29906, 3064, 29871, 29906, 3064, 29871, 29906, 353, 29871]\n",
      "z_base_tok:  29906\n",
      "y_base_tok:  29906\n",
      "x_base_tok:  29906\n"
     ]
    },
    {
     "name": "stderr",
     "output_type": "stream",
     "text": [
      " 69%|████████████████████████████████████████████████████████████████████████████████████████████████████████████████████████████████████████████████████████▏                                                                     | 144/210 [02:22<01:40,  1.53s/it]"
     ]
    },
    {
     "name": "stdout",
     "output_type": "stream",
     "text": [
      "res base: 8\n",
      "res base wo whitespace: \n",
      "res base with prefix: 8\n",
      "res base tok: ['▁', '8']\n",
      "operands_base:  ('2', '2', '2')\n",
      "base string tok list:  [450, 1121, 310, 29871, 29906, 3064, 29871, 29906, 3064, 29871, 29906, 353, 29871, 29947, 29889, 450, 1121, 310, 29871, 29906, 3064, 29871, 29906, 3064, 29871, 29906, 353, 29871]\n",
      "z_base_tok:  29906\n",
      "y_base_tok:  29906\n",
      "x_base_tok:  29906\n"
     ]
    },
    {
     "name": "stderr",
     "output_type": "stream",
     "text": [
      " 69%|█████████████████████████████████████████████████████████████████████████████████████████████████████████████████████████████████████████████████████████▎                                                                    | 145/210 [02:24<01:48,  1.67s/it]"
     ]
    },
    {
     "name": "stdout",
     "output_type": "stream",
     "text": [
      "res base: 8\n",
      "res base wo whitespace: \n",
      "res base with prefix: 8\n",
      "res base tok: ['▁', '8']\n",
      "operands_base:  ('2', '2', '2')\n",
      "base string tok list:  [450, 1121, 310, 29871, 29906, 3064, 29871, 29906, 3064, 29871, 29906, 353, 29871, 29947, 29889, 450, 1121, 310, 29871, 29906, 3064, 29871, 29906, 3064, 29871, 29906, 353, 29871]\n",
      "z_base_tok:  29906\n",
      "y_base_tok:  29906\n",
      "x_base_tok:  29906\n"
     ]
    },
    {
     "name": "stderr",
     "output_type": "stream",
     "text": [
      " 70%|██████████████████████████████████████████████████████████████████████████████████████████████████████████████████████████████████████████████████████████▎                                                                   | 146/210 [02:28<02:28,  2.32s/it]"
     ]
    },
    {
     "name": "stdout",
     "output_type": "stream",
     "text": [
      "res base: 8\n",
      "res base wo whitespace: \n",
      "res base with prefix: 8\n",
      "res base tok: ['▁', '8']\n",
      "operands_base:  ('2', '2', '2')\n",
      "base string tok list:  [450, 1121, 310, 29871, 29906, 3064, 29871, 29906, 3064, 29871, 29906, 353, 29871, 29947, 29889, 450, 1121, 310, 29871, 29906, 3064, 29871, 29906, 3064, 29871, 29906, 353, 29871]\n",
      "z_base_tok:  29906\n",
      "y_base_tok:  29906\n",
      "x_base_tok:  29906\n"
     ]
    },
    {
     "name": "stderr",
     "output_type": "stream",
     "text": [
      " 70%|███████████████████████████████████████████████████████████████████████████████████████████████████████████████████████████████████████████████████████████▍                                                                  | 147/210 [02:31<02:40,  2.54s/it]"
     ]
    },
    {
     "name": "stdout",
     "output_type": "stream",
     "text": [
      "res base: 8\n",
      "res base wo whitespace: \n",
      "res base with prefix: 8\n",
      "res base tok: ['▁', '8']\n",
      "operands_base:  ('2', '2', '2')\n",
      "base string tok list:  [450, 1121, 310, 29871, 29906, 3064, 29871, 29906, 3064, 29871, 29906, 353, 29871, 29947, 29889, 450, 1121, 310, 29871, 29906, 3064, 29871, 29906, 3064, 29871, 29906, 353, 29871]\n",
      "z_base_tok:  29906\n",
      "y_base_tok:  29906\n",
      "x_base_tok:  29906\n"
     ]
    },
    {
     "name": "stderr",
     "output_type": "stream",
     "text": [
      " 70%|████████████████████████████████████████████████████████████████████████████████████████████████████████████████████████████████████████████████████████████▍                                                                 | 148/210 [02:34<02:32,  2.46s/it]"
     ]
    },
    {
     "name": "stdout",
     "output_type": "stream",
     "text": [
      "res base: 8\n",
      "res base wo whitespace: \n",
      "res base with prefix: 8\n",
      "res base tok: ['▁', '8']\n",
      "operands_base:  ('2', '2', '2')\n",
      "base string tok list:  [450, 1121, 310, 29871, 29906, 3064, 29871, 29906, 3064, 29871, 29906, 353, 29871, 29947, 29889, 450, 1121, 310, 29871, 29906, 3064, 29871, 29906, 3064, 29871, 29906, 353, 29871]\n",
      "z_base_tok:  29906\n",
      "y_base_tok:  29906\n",
      "x_base_tok:  29906\n"
     ]
    },
    {
     "name": "stderr",
     "output_type": "stream",
     "text": [
      " 71%|█████████████████████████████████████████████████████████████████████████████████████████████████████████████████████████████████████████████████████████████▌                                                                | 149/210 [02:34<01:52,  1.84s/it]"
     ]
    },
    {
     "name": "stdout",
     "output_type": "stream",
     "text": [
      "res base: 8\n",
      "res base wo whitespace: \n",
      "res base with prefix: 8\n",
      "res base tok: ['▁', '8']\n",
      "operands_base:  ('2', '2', '2')\n",
      "base string tok list:  [450, 1121, 310, 29871, 29906, 3064, 29871, 29906, 3064, 29871, 29906, 353, 29871, 29947, 29889, 450, 1121, 310, 29871, 29906, 3064, 29871, 29906, 3064, 29871, 29906, 353, 29871]\n",
      "z_base_tok:  29906\n",
      "y_base_tok:  29906\n",
      "x_base_tok:  29906\n"
     ]
    },
    {
     "name": "stderr",
     "output_type": "stream",
     "text": [
      " 71%|██████████████████████████████████████████████████████████████████████████████████████████████████████████████████████████████████████████████████████████████▌                                                               | 150/210 [02:35<01:28,  1.48s/it]"
     ]
    },
    {
     "name": "stdout",
     "output_type": "stream",
     "text": [
      "res base: 8\n",
      "res base wo whitespace: \n",
      "res base with prefix: 8\n",
      "res base tok: ['▁', '8']\n",
      "operands_base:  ('2', '2', '2')\n",
      "base string tok list:  [450, 1121, 310, 29871, 29906, 3064, 29871, 29906, 3064, 29871, 29906, 353, 29871, 29947, 29889, 450, 1121, 310, 29871, 29906, 3064, 29871, 29906, 3064, 29871, 29906, 353, 29871]\n",
      "z_base_tok:  29906\n",
      "y_base_tok:  29906\n",
      "x_base_tok:  29906\n"
     ]
    },
    {
     "name": "stderr",
     "output_type": "stream",
     "text": [
      " 72%|███████████████████████████████████████████████████████████████████████████████████████████████████████████████████████████████████████████████████████████████▋                                                              | 151/210 [02:35<01:17,  1.31s/it]"
     ]
    },
    {
     "name": "stdout",
     "output_type": "stream",
     "text": [
      "res base: 8\n",
      "res base wo whitespace: \n",
      "res base with prefix: 8\n",
      "res base tok: ['▁', '8']\n",
      "operands_base:  ('2', '2', '2')\n",
      "base string tok list:  [29871, 29906, 334, 29871, 29906, 334, 29871, 29906, 353, 29871, 29947, 29889, 29871, 29906, 334, 29871, 29906, 334, 29871, 29906, 353, 29871]\n",
      "z_base_tok:  29906\n",
      "y_base_tok:  29906\n",
      "x_base_tok:  29906\n"
     ]
    },
    {
     "name": "stderr",
     "output_type": "stream",
     "text": [
      " 72%|████████████████████████████████████████████████████████████████████████████████████████████████████████████████████████████████████████████████████████████████▋                                                             | 152/210 [02:36<01:11,  1.22s/it]"
     ]
    },
    {
     "name": "stdout",
     "output_type": "stream",
     "text": [
      "res base: 8\n",
      "res base wo whitespace: \n",
      "res base with prefix: 8\n",
      "res base tok: ['▁', '8']\n",
      "operands_base:  ('2', '2', '2')\n",
      "base string tok list:  [29871, 29906, 334, 29871, 29906, 334, 29871, 29906, 353, 29871, 29947, 29889, 29871, 29906, 334, 29871, 29906, 334, 29871, 29906, 353, 29871]\n",
      "z_base_tok:  29906\n",
      "y_base_tok:  29906\n",
      "x_base_tok:  29906\n"
     ]
    },
    {
     "name": "stderr",
     "output_type": "stream",
     "text": [
      " 73%|█████████████████████████████████████████████████████████████████████████████████████████████████████████████████████████████████████████████████████████████████▋                                                            | 153/210 [02:38<01:13,  1.29s/it]"
     ]
    },
    {
     "name": "stdout",
     "output_type": "stream",
     "text": [
      "res base: 8\n",
      "res base wo whitespace: \n",
      "res base with prefix: 8\n",
      "res base tok: ['▁', '8']\n",
      "operands_base:  ('2', '2', '2')\n",
      "base string tok list:  [29871, 29906, 334, 29871, 29906, 334, 29871, 29906, 353, 29871, 29947, 29889, 29871, 29906, 334, 29871, 29906, 334, 29871, 29906, 353, 29871]\n",
      "z_base_tok:  29906\n",
      "y_base_tok:  29906\n",
      "x_base_tok:  29906\n"
     ]
    },
    {
     "name": "stderr",
     "output_type": "stream",
     "text": [
      " 73%|██████████████████████████████████████████████████████████████████████████████████████████████████████████████████████████████████████████████████████████████████▊                                                           | 154/210 [02:39<01:03,  1.14s/it]"
     ]
    },
    {
     "name": "stdout",
     "output_type": "stream",
     "text": [
      "res base: 8\n",
      "res base wo whitespace: \n",
      "res base with prefix: 8\n",
      "res base tok: ['▁', '8']\n",
      "operands_base:  ('2', '2', '2')\n",
      "base string tok list:  [29871, 29906, 334, 29871, 29906, 334, 29871, 29906, 353, 29871, 29947, 29889, 29871, 29906, 334, 29871, 29906, 334, 29871, 29906, 353, 29871]\n",
      "z_base_tok:  29906\n",
      "y_base_tok:  29906\n",
      "x_base_tok:  29906\n"
     ]
    },
    {
     "name": "stderr",
     "output_type": "stream",
     "text": [
      " 74%|███████████████████████████████████████████████████████████████████████████████████████████████████████████████████████████████████████████████████████████████████▊                                                          | 155/210 [02:41<01:25,  1.56s/it]"
     ]
    },
    {
     "name": "stdout",
     "output_type": "stream",
     "text": [
      "res base: 8\n",
      "res base wo whitespace: \n",
      "res base with prefix: 8\n",
      "res base tok: ['▁', '8']\n",
      "operands_base:  ('2', '2', '2')\n",
      "base string tok list:  [29871, 29906, 334, 29871, 29906, 334, 29871, 29906, 353, 29871, 29947, 29889, 29871, 29906, 334, 29871, 29906, 334, 29871, 29906, 353, 29871]\n",
      "z_base_tok:  29906\n",
      "y_base_tok:  29906\n",
      "x_base_tok:  29906\n"
     ]
    },
    {
     "name": "stderr",
     "output_type": "stream",
     "text": [
      " 74%|████████████████████████████████████████████████████████████████████████████████████████████████████████████████████████████████████████████████████████████████████▉                                                         | 156/210 [02:45<02:00,  2.22s/it]"
     ]
    },
    {
     "name": "stdout",
     "output_type": "stream",
     "text": [
      "res base: 8\n",
      "res base wo whitespace: \n",
      "res base with prefix: 8\n",
      "res base tok: ['▁', '8']\n",
      "operands_base:  ('2', '2', '2')\n",
      "base string tok list:  [29871, 29906, 334, 29871, 29906, 334, 29871, 29906, 353, 29871, 29947, 29889, 29871, 29906, 334, 29871, 29906, 334, 29871, 29906, 353, 29871]\n",
      "z_base_tok:  29906\n",
      "y_base_tok:  29906\n",
      "x_base_tok:  29906\n"
     ]
    },
    {
     "name": "stderr",
     "output_type": "stream",
     "text": [
      " 75%|█████████████████████████████████████████████████████████████████████████████████████████████████████████████████████████████████████████████████████████████████████▉                                                        | 157/210 [02:50<02:35,  2.93s/it]"
     ]
    },
    {
     "name": "stdout",
     "output_type": "stream",
     "text": [
      "res base: 8\n",
      "res base wo whitespace: \n",
      "res base with prefix: 8\n",
      "res base tok: ['▁', '8']\n",
      "operands_base:  ('2', '2', '2')\n",
      "base string tok list:  [29871, 29906, 334, 29871, 29906, 334, 29871, 29906, 353, 29871, 29947, 29889, 29871, 29906, 334, 29871, 29906, 334, 29871, 29906, 353, 29871]\n",
      "z_base_tok:  29906\n",
      "y_base_tok:  29906\n",
      "x_base_tok:  29906\n"
     ]
    },
    {
     "name": "stderr",
     "output_type": "stream",
     "text": [
      " 75%|███████████████████████████████████████████████████████████████████████████████████████████████████████████████████████████████████████████████████████████████████████                                                       | 158/210 [02:51<02:09,  2.48s/it]"
     ]
    },
    {
     "name": "stdout",
     "output_type": "stream",
     "text": [
      "res base: 8\n",
      "res base wo whitespace: \n",
      "res base with prefix: 8\n",
      "res base tok: ['▁', '8']\n",
      "operands_base:  ('2', '2', '2')\n",
      "base string tok list:  [29871, 29906, 334, 29871, 29906, 334, 29871, 29906, 353, 29871, 29947, 29889, 29871, 29906, 334, 29871, 29906, 334, 29871, 29906, 353, 29871]\n",
      "z_base_tok:  29906\n",
      "y_base_tok:  29906\n",
      "x_base_tok:  29906\n"
     ]
    },
    {
     "name": "stderr",
     "output_type": "stream",
     "text": [
      " 76%|████████████████████████████████████████████████████████████████████████████████████████████████████████████████████████████████████████████████████████████████████████                                                      | 159/210 [02:52<01:41,  1.99s/it]"
     ]
    },
    {
     "name": "stdout",
     "output_type": "stream",
     "text": [
      "res base: 8\n",
      "res base wo whitespace: \n",
      "res base with prefix: 8\n",
      "res base tok: ['▁', '8']\n",
      "operands_base:  ('2', '2', '2')\n",
      "base string tok list:  [29871, 29906, 334, 29871, 29906, 334, 29871, 29906, 353, 29871, 29947, 29889, 29871, 29906, 334, 29871, 29906, 334, 29871, 29906, 353, 29871]\n",
      "z_base_tok:  29906\n",
      "y_base_tok:  29906\n",
      "x_base_tok:  29906\n"
     ]
    },
    {
     "name": "stderr",
     "output_type": "stream",
     "text": [
      " 76%|█████████████████████████████████████████████████████████████████████████████████████████████████████████████████████████████████████████████████████████████████████████▏                                                    | 160/210 [02:54<01:43,  2.07s/it]"
     ]
    },
    {
     "name": "stdout",
     "output_type": "stream",
     "text": [
      "res base: 8\n",
      "res base wo whitespace: \n",
      "res base with prefix: 8\n",
      "res base tok: ['▁', '8']\n",
      "operands_base:  ('2', '2', '2')\n",
      "base string tok list:  [29871, 29906, 334, 29871, 29906, 334, 29871, 29906, 353, 29871, 29947, 29889, 29871, 29906, 334, 29871, 29906, 334, 29871, 29906, 353, 29871]\n",
      "z_base_tok:  29906\n",
      "y_base_tok:  29906\n",
      "x_base_tok:  29906\n"
     ]
    },
    {
     "name": "stderr",
     "output_type": "stream",
     "text": [
      " 77%|██████████████████████████████████████████████████████████████████████████████████████████████████████████████████████████████████████████████████████████████████████████▏                                                   | 161/210 [02:57<01:53,  2.33s/it]"
     ]
    },
    {
     "name": "stdout",
     "output_type": "stream",
     "text": [
      "res base: 8\n",
      "res base wo whitespace: \n",
      "res base with prefix: 8\n",
      "res base tok: ['▁', '8']\n",
      "operands_base:  ('2', '2', '2')\n",
      "base string tok list:  [29871, 29906, 334, 29871, 29906, 334, 29871, 29906, 353, 29871, 29947, 29889, 29871, 29906, 334, 29871, 29906, 334, 29871, 29906, 353, 29871]\n",
      "z_base_tok:  29906\n",
      "y_base_tok:  29906\n",
      "x_base_tok:  29906\n"
     ]
    },
    {
     "name": "stderr",
     "output_type": "stream",
     "text": [
      " 77%|███████████████████████████████████████████████████████████████████████████████████████████████████████████████████████████████████████████████████████████████████████████▎                                                  | 162/210 [02:58<01:37,  2.04s/it]"
     ]
    },
    {
     "name": "stdout",
     "output_type": "stream",
     "text": [
      "res base: 8\n",
      "res base wo whitespace: \n",
      "res base with prefix: 8\n",
      "res base tok: ['▁', '8']\n",
      "operands_base:  ('2', '2', '2')\n",
      "base string tok list:  [29871, 29906, 334, 29871, 29906, 334, 29871, 29906, 353, 29871, 29947, 29889, 29871, 29906, 334, 29871, 29906, 334, 29871, 29906, 353, 29871]\n",
      "z_base_tok:  29906\n",
      "y_base_tok:  29906\n",
      "x_base_tok:  29906\n"
     ]
    },
    {
     "name": "stderr",
     "output_type": "stream",
     "text": [
      " 78%|████████████████████████████████████████████████████████████████████████████████████████████████████████████████████████████████████████████████████████████████████████████▎                                                 | 163/210 [03:02<01:53,  2.42s/it]"
     ]
    },
    {
     "name": "stdout",
     "output_type": "stream",
     "text": [
      "res base: 8\n",
      "res base wo whitespace: \n",
      "res base with prefix: 8\n",
      "res base tok: ['▁', '8']\n",
      "operands_base:  ('2', '2', '2')\n",
      "base string tok list:  [29871, 29906, 334, 29871, 29906, 334, 29871, 29906, 353, 29871, 29947, 29889, 29871, 29906, 334, 29871, 29906, 334, 29871, 29906, 353, 29871]\n",
      "z_base_tok:  29906\n",
      "y_base_tok:  29906\n",
      "x_base_tok:  29906\n"
     ]
    },
    {
     "name": "stderr",
     "output_type": "stream",
     "text": [
      " 78%|█████████████████████████████████████████████████████████████████████████████████████████████████████████████████████████████████████████████████████████████████████████████▎                                                | 164/210 [03:05<01:57,  2.55s/it]"
     ]
    },
    {
     "name": "stdout",
     "output_type": "stream",
     "text": [
      "res base: 8\n",
      "res base wo whitespace: \n",
      "res base with prefix: 8\n",
      "res base tok: ['▁', '8']\n",
      "operands_base:  ('2', '2', '2')\n",
      "base string tok list:  [29871, 29906, 334, 29871, 29906, 334, 29871, 29906, 353, 29871, 29947, 29889, 29871, 29906, 334, 29871, 29906, 334, 29871, 29906, 353, 29871]\n",
      "z_base_tok:  29906\n",
      "y_base_tok:  29906\n",
      "x_base_tok:  29906\n"
     ]
    },
    {
     "name": "stderr",
     "output_type": "stream",
     "text": [
      " 79%|██████████████████████████████████████████████████████████████████████████████████████████████████████████████████████████████████████████████████████████████████████████████▍                                               | 165/210 [03:06<01:42,  2.29s/it]"
     ]
    },
    {
     "name": "stdout",
     "output_type": "stream",
     "text": [
      "res base: 8\n",
      "res base wo whitespace: \n",
      "res base with prefix: 8\n",
      "res base tok: ['▁', '8']\n",
      "operands_base:  ('2', '2', '2')\n",
      "base string tok list:  [29871, 29906, 334, 29871, 29906, 334, 29871, 29906, 353, 29871, 29947, 29889, 29871, 29906, 334, 29871, 29906, 334, 29871, 29906, 353, 29871]\n",
      "z_base_tok:  29906\n",
      "y_base_tok:  29906\n",
      "x_base_tok:  29906\n"
     ]
    },
    {
     "name": "stderr",
     "output_type": "stream",
     "text": [
      " 79%|███████████████████████████████████████████████████████████████████████████████████████████████████████████████████████████████████████████████████████████████████████████████▍                                              | 166/210 [03:08<01:33,  2.13s/it]"
     ]
    },
    {
     "name": "stdout",
     "output_type": "stream",
     "text": [
      "res base: 8\n",
      "res base wo whitespace: \n",
      "res base with prefix: 8\n",
      "res base tok: ['▁', '8']\n",
      "operands_base:  ('2', '2', '2')\n",
      "base string tok list:  [29871, 29906, 334, 29871, 29906, 334, 29871, 29906, 353, 29871, 29947, 29889, 29871, 29906, 334, 29871, 29906, 334, 29871, 29906, 353, 29871]\n",
      "z_base_tok:  29906\n",
      "y_base_tok:  29906\n",
      "x_base_tok:  29906\n"
     ]
    },
    {
     "name": "stderr",
     "output_type": "stream",
     "text": [
      " 80%|████████████████████████████████████████████████████████████████████████████████████████████████████████████████████████████████████████████████████████████████████████████████▌                                             | 167/210 [03:10<01:24,  1.97s/it]"
     ]
    },
    {
     "name": "stdout",
     "output_type": "stream",
     "text": [
      "res base: 8\n",
      "res base wo whitespace: \n",
      "res base with prefix: 8\n",
      "res base tok: ['▁', '8']\n",
      "operands_base:  ('2', '2', '2')\n",
      "base string tok list:  [29871, 29906, 334, 29871, 29906, 334, 29871, 29906, 353, 29871, 29947, 29889, 29871, 29906, 334, 29871, 29906, 334, 29871, 29906, 353, 29871]\n",
      "z_base_tok:  29906\n",
      "y_base_tok:  29906\n",
      "x_base_tok:  29906\n"
     ]
    },
    {
     "name": "stderr",
     "output_type": "stream",
     "text": [
      " 80%|█████████████████████████████████████████████████████████████████████████████████████████████████████████████████████████████████████████████████████████████████████████████████▌                                            | 168/210 [03:12<01:27,  2.09s/it]"
     ]
    },
    {
     "name": "stdout",
     "output_type": "stream",
     "text": [
      "res base: 8\n",
      "res base wo whitespace: \n",
      "res base with prefix: 8\n",
      "res base tok: ['▁', '8']\n",
      "operands_base:  ('2', '2', '2')\n",
      "base string tok list:  [29871, 29906, 334, 29871, 29906, 334, 29871, 29906, 353, 29871, 29947, 29889, 29871, 29906, 334, 29871, 29906, 334, 29871, 29906, 353, 29871]\n",
      "z_base_tok:  29906\n",
      "y_base_tok:  29906\n",
      "x_base_tok:  29906\n"
     ]
    },
    {
     "name": "stderr",
     "output_type": "stream",
     "text": [
      " 80%|██████████████████████████████████████████████████████████████████████████████████████████████████████████████████████████████████████████████████████████████████████████████████▋                                           | 169/210 [03:16<01:53,  2.78s/it]"
     ]
    },
    {
     "name": "stdout",
     "output_type": "stream",
     "text": [
      "res base: 8\n",
      "res base wo whitespace: \n",
      "res base with prefix: 8\n",
      "res base tok: ['▁', '8']\n",
      "operands_base:  ('2', '2', '2')\n",
      "base string tok list:  [29871, 29906, 334, 29871, 29906, 334, 29871, 29906, 353, 29871, 29947, 29889, 29871, 29906, 334, 29871, 29906, 334, 29871, 29906, 353, 29871]\n",
      "z_base_tok:  29906\n",
      "y_base_tok:  29906\n",
      "x_base_tok:  29906\n"
     ]
    },
    {
     "name": "stderr",
     "output_type": "stream",
     "text": [
      " 81%|███████████████████████████████████████████████████████████████████████████████████████████████████████████████████████████████████████████████████████████████████████████████████▋                                          | 170/210 [03:19<01:54,  2.85s/it]"
     ]
    },
    {
     "name": "stdout",
     "output_type": "stream",
     "text": [
      "res base: 8\n",
      "res base wo whitespace: \n",
      "res base with prefix: 8\n",
      "res base tok: ['▁', '8']\n",
      "operands_base:  ('2', '2', '2')\n",
      "base string tok list:  [29871, 29906, 334, 29871, 29906, 334, 29871, 29906, 353, 29871, 29947, 29889, 29871, 29906, 334, 29871, 29906, 334, 29871, 29906, 353, 29871]\n",
      "z_base_tok:  29906\n",
      "y_base_tok:  29906\n",
      "x_base_tok:  29906\n"
     ]
    },
    {
     "name": "stderr",
     "output_type": "stream",
     "text": [
      " 81%|████████████████████████████████████████████████████████████████████████████████████████████████████████████████████████████████████████████████████████████████████████████████████▊                                         | 171/210 [03:21<01:36,  2.47s/it]"
     ]
    },
    {
     "name": "stdout",
     "output_type": "stream",
     "text": [
      "res base: 8\n",
      "res base wo whitespace: \n",
      "res base with prefix: 8\n",
      "res base tok: ['▁', '8']\n",
      "operands_base:  ('2', '2', '2')\n",
      "base string tok list:  [29871, 29906, 334, 29871, 29906, 334, 29871, 29906, 353, 29871, 29947, 29889, 29871, 29906, 334, 29871, 29906, 334, 29871, 29906, 353, 29871]\n",
      "z_base_tok:  29906\n",
      "y_base_tok:  29906\n",
      "x_base_tok:  29906\n"
     ]
    },
    {
     "name": "stderr",
     "output_type": "stream",
     "text": [
      " 82%|█████████████████████████████████████████████████████████████████████████████████████████████████████████████████████████████████████████████████████████████████████████████████████▊                                        | 172/210 [03:23<01:27,  2.31s/it]"
     ]
    },
    {
     "name": "stdout",
     "output_type": "stream",
     "text": [
      "res base: 8\n",
      "res base wo whitespace: \n",
      "res base with prefix: 8\n",
      "res base tok: ['▁', '8']\n",
      "operands_base:  ('2', '2', '2')\n",
      "base string tok list:  [29871, 29906, 334, 29871, 29906, 334, 29871, 29906, 353, 29871, 29947, 29889, 29871, 29906, 334, 29871, 29906, 334, 29871, 29906, 353, 29871]\n",
      "z_base_tok:  29906\n",
      "y_base_tok:  29906\n",
      "x_base_tok:  29906\n"
     ]
    },
    {
     "name": "stderr",
     "output_type": "stream",
     "text": [
      " 82%|██████████████████████████████████████████████████████████████████████████████████████████████████████████████████████████████████████████████████████████████████████████████████████▉                                       | 173/210 [03:25<01:24,  2.29s/it]"
     ]
    },
    {
     "name": "stdout",
     "output_type": "stream",
     "text": [
      "res base: 8\n",
      "res base wo whitespace: \n",
      "res base with prefix: 8\n",
      "res base tok: ['▁', '8']\n",
      "operands_base:  ('2', '2', '2')\n",
      "base string tok list:  [29871, 29906, 334, 29871, 29906, 334, 29871, 29906, 353, 29871, 29947, 29889, 29871, 29906, 334, 29871, 29906, 334, 29871, 29906, 353, 29871]\n",
      "z_base_tok:  29906\n",
      "y_base_tok:  29906\n",
      "x_base_tok:  29906\n"
     ]
    },
    {
     "name": "stderr",
     "output_type": "stream",
     "text": [
      " 83%|███████████████████████████████████████████████████████████████████████████████████████████████████████████████████████████████████████████████████████████████████████████████████████▉                                      | 174/210 [03:27<01:19,  2.21s/it]"
     ]
    },
    {
     "name": "stdout",
     "output_type": "stream",
     "text": [
      "res base: 8\n",
      "res base wo whitespace: \n",
      "res base with prefix: 8\n",
      "res base tok: ['▁', '8']\n",
      "operands_base:  ('2', '2', '2')\n",
      "base string tok list:  [29871, 29906, 334, 29871, 29906, 334, 29871, 29906, 353, 29871, 29947, 29889, 29871, 29906, 334, 29871, 29906, 334, 29871, 29906, 353, 29871]\n",
      "z_base_tok:  29906\n",
      "y_base_tok:  29906\n",
      "x_base_tok:  29906\n"
     ]
    },
    {
     "name": "stderr",
     "output_type": "stream",
     "text": [
      " 83%|█████████████████████████████████████████████████████████████████████████████████████████████████████████████████████████████████████████████████████████████████████████████████████████                                     | 175/210 [03:28<01:02,  1.77s/it]"
     ]
    },
    {
     "name": "stdout",
     "output_type": "stream",
     "text": [
      "res base: 8\n",
      "res base wo whitespace: \n",
      "res base with prefix: 8\n",
      "res base tok: ['▁', '8']\n",
      "operands_base:  ('2', '2', '2')\n",
      "base string tok list:  [29871, 29906, 334, 29871, 29906, 334, 29871, 29906, 353, 29871, 29947, 29889, 29871, 29906, 334, 29871, 29906, 334, 29871, 29906, 353, 29871]\n",
      "z_base_tok:  29906\n",
      "y_base_tok:  29906\n",
      "x_base_tok:  29906\n"
     ]
    },
    {
     "name": "stderr",
     "output_type": "stream",
     "text": [
      " 84%|██████████████████████████████████████████████████████████████████████████████████████████████████████████████████████████████████████████████████████████████████████████████████████████                                    | 176/210 [03:32<01:27,  2.59s/it]"
     ]
    },
    {
     "name": "stdout",
     "output_type": "stream",
     "text": [
      "res base: 8\n",
      "res base wo whitespace: \n",
      "res base with prefix: 8\n",
      "res base tok: ['▁', '8']\n",
      "operands_base:  ('2', '2', '2')\n",
      "base string tok list:  [29871, 29906, 334, 29871, 29906, 334, 29871, 29906, 353, 29871, 29947, 29889, 29871, 29906, 334, 29871, 29906, 334, 29871, 29906, 353, 29871]\n",
      "z_base_tok:  29906\n",
      "y_base_tok:  29906\n",
      "x_base_tok:  29906\n"
     ]
    },
    {
     "name": "stderr",
     "output_type": "stream",
     "text": [
      " 84%|███████████████████████████████████████████████████████████████████████████████████████████████████████████████████████████████████████████████████████████████████████████████████████████                                   | 177/210 [03:33<01:08,  2.09s/it]"
     ]
    },
    {
     "name": "stdout",
     "output_type": "stream",
     "text": [
      "res base: 8\n",
      "res base wo whitespace: \n",
      "res base with prefix: 8\n",
      "res base tok: ['▁', '8']\n",
      "operands_base:  ('2', '2', '2')\n",
      "base string tok list:  [29871, 29906, 334, 29871, 29906, 334, 29871, 29906, 353, 29871, 29947, 29889, 29871, 29906, 334, 29871, 29906, 334, 29871, 29906, 353, 29871]\n",
      "z_base_tok:  29906\n",
      "y_base_tok:  29906\n",
      "x_base_tok:  29906\n"
     ]
    },
    {
     "name": "stderr",
     "output_type": "stream",
     "text": [
      " 85%|████████████████████████████████████████████████████████████████████████████████████████████████████████████████████████████████████████████████████████████████████████████████████████████▏                                 | 178/210 [03:34<00:53,  1.69s/it]"
     ]
    },
    {
     "name": "stdout",
     "output_type": "stream",
     "text": [
      "res base: 8\n",
      "res base wo whitespace: \n",
      "res base with prefix: 8\n",
      "res base tok: ['▁', '8']\n",
      "operands_base:  ('2', '2', '2')\n",
      "base string tok list:  [29871, 29906, 334, 29871, 29906, 334, 29871, 29906, 353, 29871, 29947, 29889, 29871, 29906, 334, 29871, 29906, 334, 29871, 29906, 353, 29871]\n",
      "z_base_tok:  29906\n",
      "y_base_tok:  29906\n",
      "x_base_tok:  29906\n"
     ]
    },
    {
     "name": "stderr",
     "output_type": "stream",
     "text": [
      " 85%|█████████████████████████████████████████████████████████████████████████████████████████████████████████████████████████████████████████████████████████████████████████████████████████████▏                                | 179/210 [03:43<02:01,  3.93s/it]"
     ]
    },
    {
     "name": "stdout",
     "output_type": "stream",
     "text": [
      "res base: 8\n",
      "res base wo whitespace: \n",
      "res base with prefix: 8\n",
      "res base tok: ['▁', '8']\n",
      "operands_base:  ('2', '2', '2')\n",
      "base string tok list:  [29871, 29906, 334, 29871, 29906, 334, 29871, 29906, 353, 29871, 29947, 29889, 29871, 29906, 334, 29871, 29906, 334, 29871, 29906, 353, 29871]\n",
      "z_base_tok:  29906\n",
      "y_base_tok:  29906\n",
      "x_base_tok:  29906\n"
     ]
    },
    {
     "name": "stderr",
     "output_type": "stream",
     "text": [
      " 90%|██████████████████████████████████████████████████████████████████████████████████████████████████████████████████████████████████████████████████████████████████████████████████████████████████████▋                       | 188/210 [03:46<00:17,  1.28it/s]"
     ]
    },
    {
     "name": "stdout",
     "output_type": "stream",
     "text": [
      "res base: 8\n",
      "res base wo whitespace: \n",
      "res base with prefix: 8\n",
      "res base tok: ['▁', '8']\n",
      "operands_base:  ('2', '2', '2')\n",
      "base string tok list:  [29871, 29906, 334, 29871, 29906, 334, 29871, 29906, 353, 29871, 29947, 29889, 29871, 29906, 334, 29871, 29906, 334, 29871, 29906, 353, 29871]\n",
      "z_base_tok:  29906\n",
      "y_base_tok:  29906\n",
      "x_base_tok:  29906\n",
      "res base: 8\n",
      "res base wo whitespace: \n",
      "res base with prefix: 8\n",
      "res base tok: ['▁', '8']\n",
      "operands_base:  ('30', '26', '2')\n",
      "base string tok list:  [450, 1121, 310, 313, 29871, 29941, 29941, 448, 29871, 29941, 29906, 1723, 334, 29871, 29947, 353, 29871, 29947, 29889, 450, 1121, 310, 313, 29871, 29941, 29900, 448, 29871, 29906, 29953, 1723, 334, 29871, 29906, 353, 29871]\n",
      "z_base_tok:  29906\n",
      "y_base_tok:  29953\n",
      "x_base_tok:  29900\n",
      "res base: 4\n",
      "res base wo whitespace: \n",
      "res base with prefix: 4\n",
      "res base tok: ['▁', '4']\n",
      "operands_base:  ('20', '19', '4')\n",
      "base string tok list:  [450, 1121, 310, 313, 29871, 29941, 29896, 448, 29871, 29906, 29929, 1723, 334, 29871, 29946, 353, 29871, 29947, 29889, 450, 1121, 310, 313, 29871, 29906, 29900, 448, 29871, 29896, 29929, 1723, 334, 29871, 29946, 353, 29871]\n",
      "z_base_tok:  29946\n",
      "y_base_tok:  29929\n",
      "x_base_tok:  29900\n",
      "res base: 6\n",
      "res base wo whitespace: \n",
      "res base with prefix: 6\n",
      "res base tok: ['▁', '6']\n",
      "operands_base:  ('32', '31', '6')\n",
      "base string tok list:  [450, 1121, 310, 313, 29871, 29896, 29941, 448, 29871, 29896, 29900, 1723, 334, 29871, 29906, 353, 29871, 29953, 29889, 450, 1121, 310, 313, 29871, 29941, 29906, 448, 29871, 29941, 29896, 1723, 334, 29871, 29953, 353, 29871]\n",
      "z_base_tok:  29953\n",
      "y_base_tok:  29896\n",
      "x_base_tok:  29906\n",
      "res base: 8\n",
      "res base wo whitespace: \n",
      "res base with prefix: 8\n",
      "res base tok: ['▁', '8']\n",
      "operands_base:  ('11', '9', '4')\n",
      "base string tok list:  [450, 1121, 310, 313, 29871, 29941, 448, 29871, 29906, 1723, 334, 29871, 29953, 353, 29871, 29953, 29889, 450, 1121, 310, 313, 29871, 29896, 29896, 448, 29871, 29929, 1723, 334, 29871, 29946, 353, 29871]\n",
      "z_base_tok:  29946\n",
      "y_base_tok:  29929\n",
      "x_base_tok:  29896\n",
      "res base: 4\n",
      "res base wo whitespace: \n",
      "res base with prefix: 4\n",
      "res base tok: ['▁', '4']\n",
      "operands_base:  ('50', '48', '2')\n",
      "base string tok list:  [450, 1121, 310, 313, 29871, 29896, 29900, 448, 29871, 29929, 1723, 334, 29871, 29955, 353, 29871, 29955, 29889, 450, 1121, 310, 313, 29871, 29945, 29900, 448, 29871, 29946, 29947, 1723, 334, 29871, 29906, 353, 29871]\n",
      "z_base_tok:  29906\n",
      "y_base_tok:  29947\n",
      "x_base_tok:  29900\n",
      "res base: 8\n",
      "res base wo whitespace: \n",
      "res base with prefix: 8\n",
      "res base tok: ['▁', '8']\n",
      "operands_base:  ('43', '39', '2')\n",
      "base string tok list:  [450, 1121, 310, 313, 29871, 29896, 29953, 448, 29871, 29896, 29906, 1723, 334, 29871, 29906, 353, 29871, 29947, 29889, 450, 1121, 310, 313, 29871, 29946, 29941, 448, 29871, 29941, 29929, 1723, 334, 29871, 29906, 353, 29871]\n",
      "z_base_tok:  29906\n",
      "y_base_tok:  29929\n",
      "x_base_tok:  29941\n",
      "res base: 8\n",
      "res base wo whitespace: \n",
      "res base with prefix: 8\n",
      "res base tok: ['▁', '8']\n",
      "operands_base:  ('49', '45', '2')\n",
      "base string tok list:  [450, 1121, 310, 313, 29871, 29906, 29941, 448, 29871, 29906, 29906, 1723, 334, 29871, 29946, 353, 29871, 29946, 29889, 450, 1121, 310, 313, 29871, 29946, 29929, 448, 29871, 29946, 29945, 1723, 334, 29871, 29906, 353, 29871]\n",
      "z_base_tok:  29906\n",
      "y_base_tok:  29945\n",
      "x_base_tok:  29929\n",
      "res base: 8\n",
      "res base wo whitespace: \n",
      "res base with prefix: 8\n",
      "res base tok: ['▁', '8']\n",
      "operands_base:  ('43', '39', '2')\n",
      "base string tok list:  [450, 1121, 310, 313, 29871, 29941, 448, 29871, 29906, 1723, 334, 29871, 29906, 353, 29871, 29906, 29889, 450, 1121, 310, 313, 29871, 29946, 29941, 448, 29871, 29941, 29929, 1723, 334, 29871, 29906, 353, 29871]\n",
      "z_base_tok:  29906\n",
      "y_base_tok:  29929\n",
      "x_base_tok:  29941\n",
      "res base: 7\n",
      "res base wo whitespace: \n",
      "res base with prefix: 7\n",
      "res base tok: ['▁', '7']\n",
      "operands_base:  ('26', '25', '7')\n",
      "base string tok list:  [450, 1121, 310, 313, 29871, 29946, 29906, 448, 29871, 29941, 29947, 1723, 334, 29871, 29906, 353, 29871, 29947, 29889, 450, 1121, 310, 313, 29871, 29906, 29953, 448, 29871, 29906, 29945, 1723, 334, 29871, 29955, 353, 29871]\n",
      "z_base_tok:  29955\n",
      "y_base_tok:  29945\n",
      "x_base_tok:  29953\n",
      "res base: 4\n",
      "res base wo whitespace: \n",
      "res base with prefix: 4\n",
      "res base tok: ['▁', '4']\n",
      "operands_base:  ('31', '30', '4')\n",
      "base string tok list:  [450, 1121, 310, 313, 29871, 29946, 29945, 448, 29871, 29946, 29941, 1723, 334, 29871, 29906, 353, 29871, 29946, 29889, 450, 1121, 310, 313, 29871, 29941, 29896, 448, 29871, 29941, 29900, 1723, 334, 29871, 29946, 353, 29871]\n",
      "z_base_tok:  29946\n",
      "y_base_tok:  29900\n",
      "x_base_tok:  29896\n",
      "res base: 7\n",
      "res base wo whitespace: \n",
      "res base with prefix: 7\n",
      "res base tok: ['▁', '7']\n",
      "operands_base:  ('4', '3', '7')\n",
      "base string tok list:  [450, 1121, 310, 313, 29871, 29906, 29953, 448, 29871, 29906, 29906, 1723, 334, 29871, 29906, 353, 29871, 29947, 29889, 450, 1121, 310, 313, 29871, 29946, 448, 29871, 29941, 1723, 334, 29871, 29955, 353, 29871]\n",
      "z_base_tok:  29955\n",
      "y_base_tok:  29941\n",
      "x_base_tok:  29946\n",
      "res base: 2\n",
      "res base wo whitespace: \n",
      "res base with prefix: 2\n",
      "res base tok: ['▁', '2']\n",
      "operands_base:  ('16', '15', '2')\n",
      "base string tok list:  [450, 1121, 310, 313, 29871, 29941, 29947, 448, 29871, 29941, 29955, 1723, 334, 29871, 29946, 353, 29871, 29946, 29889, 450, 1121, 310, 313, 29871, 29896, 29953, 448, 29871, 29896, 29945, 1723, 334, 29871, 29906, 353, 29871]\n",
      "z_base_tok:  29906\n",
      "y_base_tok:  29945\n",
      "x_base_tok:  29953\n",
      "res base: 3\n",
      "res base wo whitespace: \n",
      "res base with prefix: 3\n",
      "res base tok: ['▁', '3']\n",
      "operands_base:  ('7', '6', '3')\n",
      "base string tok list:  [450, 1121, 310, 313, 29871, 29906, 29900, 448, 29871, 29896, 29947, 1723, 334, 29871, 29906, 353, 29871, 29946, 29889, 450, 1121, 310, 313, 29871, 29955, 448, 29871, 29953, 1723, 334, 29871, 29941, 353, 29871]\n",
      "z_base_tok:  29941\n",
      "y_base_tok:  29953\n",
      "x_base_tok:  29955\n",
      "res base: 5\n",
      "res base wo whitespace: \n",
      "res base with prefix: 5\n",
      "res base tok: ['▁', '5']\n",
      "operands_base:  ('33', '32', '5')\n",
      "base string tok list:  [450, 1121, 310, 313, 29871, 29946, 29955, 448, 29871, 29946, 29941, 1723, 334, 29871, 29906, 353, 29871, 29947, 29889, 450, 1121, 310, 313, 29871, 29941, 29941, 448, 29871, 29941, 29906, 1723, 334, 29871, 29945, 353, 29871]\n",
      "z_base_tok:  29945\n",
      "y_base_tok:  29906\n",
      "x_base_tok:  29941\n"
     ]
    },
    {
     "name": "stderr",
     "output_type": "stream",
     "text": [
      "100%|██████████████████████████████████████████████████████████████████████████████████████████████████████████████████████████████████████████████████████████████████████████████████████████████████████████████████████████████| 210/210 [03:46<00:00,  1.08s/it]"
     ]
    },
    {
     "name": "stdout",
     "output_type": "stream",
     "text": [
      "res base: 6\n",
      "res base wo whitespace: \n",
      "res base with prefix: 6\n",
      "res base tok: ['▁', '6']\n",
      "operands_base:  ('47', '45', '3')\n",
      "base string tok list:  [450, 1121, 310, 313, 29871, 29906, 29900, 448, 29871, 29896, 29955, 1723, 334, 29871, 29906, 353, 29871, 29953, 29889, 450, 1121, 310, 313, 29871, 29946, 29955, 448, 29871, 29946, 29945, 1723, 334, 29871, 29941, 353, 29871]\n",
      "z_base_tok:  29941\n",
      "y_base_tok:  29945\n",
      "x_base_tok:  29955\n",
      "res base: 4\n",
      "res base wo whitespace: \n",
      "res base with prefix: 4\n",
      "res base tok: ['▁', '4']\n",
      "operands_base:  ('23', '21', '2')\n",
      "base string tok list:  [450, 1121, 310, 313, 29871, 29941, 29955, 448, 29871, 29941, 29953, 1723, 334, 29871, 29953, 353, 29871, 29953, 29889, 450, 1121, 310, 313, 29871, 29906, 29941, 448, 29871, 29906, 29896, 1723, 334, 29871, 29906, 353, 29871]\n",
      "z_base_tok:  29906\n",
      "y_base_tok:  29896\n",
      "x_base_tok:  29941\n",
      "res base: 8\n",
      "res base wo whitespace: \n",
      "res base with prefix: 8\n",
      "res base tok: ['▁', '8']\n",
      "operands_base:  ('15', '14', '8')\n",
      "base string tok list:  [450, 1121, 310, 313, 29871, 29941, 29946, 448, 29871, 29941, 29900, 1723, 334, 29871, 29906, 353, 29871, 29947, 29889, 450, 1121, 310, 313, 29871, 29896, 29945, 448, 29871, 29896, 29946, 1723, 334, 29871, 29947, 353, 29871]\n",
      "z_base_tok:  29947\n",
      "y_base_tok:  29946\n",
      "x_base_tok:  29945\n",
      "res base: 8\n",
      "res base wo whitespace: \n",
      "res base with prefix: 8\n",
      "res base tok: ['▁', '8']\n",
      "operands_base:  ('33', '31', '4')\n",
      "base string tok list:  [450, 1121, 310, 313, 29871, 29946, 29906, 448, 29871, 29946, 29900, 1723, 334, 29871, 29906, 353, 29871, 29946, 29889, 450, 1121, 310, 313, 29871, 29941, 29941, 448, 29871, 29941, 29896, 1723, 334, 29871, 29946, 353, 29871]\n",
      "z_base_tok:  29946\n",
      "y_base_tok:  29896\n",
      "x_base_tok:  29941\n",
      "res base: 6\n",
      "res base wo whitespace: \n",
      "res base with prefix: 6\n",
      "res base tok: ['▁', '6']\n",
      "operands_base:  ('27', '24', '2')\n",
      "base string tok list:  [450, 1121, 310, 313, 29871, 29941, 29945, 448, 29871, 29941, 29946, 1723, 334, 29871, 29945, 353, 29871, 29945, 29889, 450, 1121, 310, 313, 29871, 29906, 29955, 448, 29871, 29906, 29946, 1723, 334, 29871, 29906, 353, 29871]\n",
      "z_base_tok:  29906\n",
      "y_base_tok:  29946\n",
      "x_base_tok:  29955\n",
      "res base: 5\n",
      "res base wo whitespace: \n",
      "res base with prefix: 5\n",
      "res base tok: ['▁', '5']\n",
      "operands_base:  ('50', '49', '5')\n",
      "base string tok list:  [450, 1121, 310, 313, 29871, 29906, 29900, 448, 29871, 29896, 29947, 1723, 334, 29871, 29906, 353, 29871, 29946, 29889, 450, 1121, 310, 313, 29871, 29945, 29900, 448, 29871, 29946, 29929, 1723, 334, 29871, 29945, 353, 29871]\n",
      "z_base_tok:  29945\n",
      "y_base_tok:  29929\n",
      "x_base_tok:  29900\n",
      "res base: 4\n",
      "res base wo whitespace: \n",
      "res base with prefix: 4\n",
      "res base tok: ['▁', '4']\n",
      "operands_base:  ('45', '44', '4')\n",
      "base string tok list:  [450, 1121, 310, 313, 29871, 29953, 448, 29871, 29941, 1723, 334, 29871, 29906, 353, 29871, 29953, 29889, 450, 1121, 310, 313, 29871, 29946, 29945, 448, 29871, 29946, 29946, 1723, 334, 29871, 29946, 353, 29871]\n",
      "z_base_tok:  29946\n",
      "y_base_tok:  29946\n",
      "x_base_tok:  29945\n",
      "res base: 4\n",
      "res base wo whitespace: \n",
      "res base with prefix: 4\n",
      "res base tok: ['▁', '4']\n",
      "operands_base:  ('27', '25', '2')\n",
      "base string tok list:  [450, 1121, 310, 313, 29871, 29896, 29906, 448, 29871, 29896, 29896, 1723, 334, 29871, 29941, 353, 29871, 29941, 29889, 450, 1121, 310, 313, 29871, 29906, 29955, 448, 29871, 29906, 29945, 1723, 334, 29871, 29906, 353, 29871]\n",
      "z_base_tok:  29906\n",
      "y_base_tok:  29945\n",
      "x_base_tok:  29955\n",
      "res base: 8\n",
      "res base wo whitespace: \n",
      "res base with prefix: 8\n",
      "res base tok: ['▁', '8']\n",
      "operands_base:  ('26', '25', '8')\n",
      "base string tok list:  [450, 1121, 310, 313, 29871, 29941, 29955, 448, 29871, 29941, 29953, 1723, 334, 29871, 29953, 353, 29871, 29953, 29889, 450, 1121, 310, 313, 29871, 29906, 29953, 448, 29871, 29906, 29945, 1723, 334, 29871, 29947, 353, 29871]\n",
      "z_base_tok:  29947\n",
      "y_base_tok:  29945\n",
      "x_base_tok:  29953\n",
      "res base: 2\n",
      "res base wo whitespace: \n",
      "res base with prefix: 2\n",
      "res base tok: ['▁', '2']\n",
      "operands_base:  ('37', '36', '2')\n",
      "base string tok list:  [450, 1121, 310, 313, 29871, 29896, 29955, 448, 29871, 29896, 29953, 1723, 334, 29871, 29945, 353, 29871, 29945, 29889, 450, 1121, 310, 313, 29871, 29941, 29955, 448, 29871, 29941, 29953, 1723, 334, 29871, 29906, 353, 29871]\n",
      "z_base_tok:  29906\n",
      "y_base_tok:  29953\n",
      "x_base_tok:  29955\n",
      "res base: 4\n",
      "res base wo whitespace: \n",
      "res base with prefix: 4\n",
      "res base tok: ['▁', '4']\n",
      "operands_base:  ('45', '44', '4')\n",
      "base string tok list:  [450, 1121, 310, 313, 29871, 29906, 29906, 448, 29871, 29906, 29896, 1723, 334, 29871, 29947, 353, 29871, 29947, 29889, 450, 1121, 310, 313, 29871, 29946, 29945, 448, 29871, 29946, 29946, 1723, 334, 29871, 29946, 353, 29871]\n",
      "z_base_tok:  29946\n",
      "y_base_tok:  29946\n",
      "x_base_tok:  29945\n",
      "res base: 6\n",
      "res base wo whitespace: \n",
      "res base with prefix: 6\n",
      "res base tok: ['▁', '6']\n",
      "operands_base:  ('42', '39', '2')\n",
      "base string tok list:  [450, 1121, 310, 313, 29871, 29929, 448, 29871, 29947, 1723, 334, 29871, 29945, 353, 29871, 29945, 29889, 450, 1121, 310, 313, 29871, 29946, 29906, 448, 29871, 29941, 29929, 1723, 334, 29871, 29906, 353, 29871]\n",
      "z_base_tok:  29906\n",
      "y_base_tok:  29929\n",
      "x_base_tok:  29906\n",
      "res base: 8\n",
      "res base wo whitespace: \n",
      "res base with prefix: 8\n",
      "res base tok: ['▁', '8']\n",
      "operands_base:  ('8', '7', '8')\n",
      "base string tok list:  [450, 1121, 310, 313, 29871, 29945, 448, 29871, 29906, 1723, 334, 29871, 29906, 353, 29871, 29953, 29889, 450, 1121, 310, 313, 29871, 29947, 448, 29871, 29955, 1723, 334, 29871, 29947, 353, 29871]\n",
      "z_base_tok:  29947\n",
      "y_base_tok:  29955\n",
      "x_base_tok:  29947\n",
      "res base: 6\n",
      "res base wo whitespace: \n",
      "res base with prefix: 6\n",
      "res base tok: ['▁', '6']\n",
      "operands_base:  ('41', '40', '6')\n",
      "base string tok list:  [450, 1121, 310, 313, 29871, 29906, 29955, 448, 29871, 29906, 29953, 1723, 334, 29871, 29906, 353, 29871, 29906, 29889, 450, 1121, 310, 313, 29871, 29946, 29896, 448, 29871, 29946, 29900, 1723, 334, 29871, 29953, 353, 29871]\n",
      "z_base_tok:  29953\n",
      "y_base_tok:  29900\n",
      "x_base_tok:  29896\n",
      "res base: 6\n",
      "res base wo whitespace: \n",
      "res base with prefix: 6\n",
      "res base tok: ['▁', '6']\n",
      "operands_base:  ('10', '8', '3')\n",
      "base string tok list:  [450, 1121, 310, 313, 29871, 29946, 29929, 448, 29871, 29946, 29955, 1723, 334, 29871, 29906, 353, 29871, 29946, 29889, 450, 1121, 310, 313, 29871, 29896, 29900, 448, 29871, 29947, 1723, 334, 29871, 29941, 353, 29871]\n",
      "z_base_tok:  29941\n",
      "y_base_tok:  29947\n",
      "x_base_tok:  29900\n",
      "res base: 6\n",
      "res base wo whitespace: \n",
      "res base with prefix: 6\n",
      "res base tok: ['▁', '6']\n",
      "operands_base:  ('42', '41', '6')\n",
      "base string tok list:  [450, 1121, 310, 313, 29871, 29945, 29900, 448, 29871, 29946, 29947, 1723, 334, 29871, 29946, 353, 29871, 29947, 29889, 450, 1121, 310, 313, 29871, 29946, 29906, 448, 29871, 29946, 29896, 1723, 334, 29871, 29953, 353, 29871]\n",
      "z_base_tok:  29953\n",
      "y_base_tok:  29896\n",
      "x_base_tok:  29906\n"
     ]
    },
    {
     "name": "stderr",
     "output_type": "stream",
     "text": [
      "\n"
     ]
    }
   ],
   "source": [
    "conf = OmegaConf.load('conf/config.yaml')\n",
    "conf.model = 'meta-llama/Llama-2-7b-hf'\n",
    "conf.max_n = 9\n",
    "intervention_list = three_operands.get_arithmetic_data_three_operands(tokenizer_llama_2, conf)"
   ]
  },
  {
   "cell_type": "code",
   "execution_count": null,
   "metadata": {},
   "outputs": [],
   "source": [
    "for item in intervention_list:\n",
    "    print(item.few_shot + item.)"
   ]
  },
  {
   "cell_type": "code",
   "execution_count": 24,
   "metadata": {},
   "outputs": [
    {
     "name": "stderr",
     "output_type": "stream",
     "text": [
      "\n",
      "\u001b[A\n",
      "\u001b[A"
     ]
    },
    {
     "name": "stdout",
     "output_type": "stream",
     "text": [
      "res base: 11\n",
      "res base wo whitespace: 1\n",
      "res base with prefix: a 11\n",
      "res base tok: ['a', 'Ġ11']\n",
      "operands_base:  ('6', '2', '3')\n",
      "base string tok list:  [466, 2055, 132, 2055, 132, 5457, 508, 4, 231, 2055, 132, 2055, 155, 5457]\n",
      "z_base_tok:  155\n",
      "y_base_tok:  132\n",
      "x_base_tok:  231\n",
      "res base: 17\n",
      "res base wo whitespace: 7\n",
      "res base with prefix: a 17\n",
      "res base tok: ['a', 'Ġ17']\n",
      "operands_base:  ('2', '9', '6')\n",
      "base string tok list:  [306, 2055, 231, 2055, 290, 5457, 504, 4, 132, 2055, 361, 2055, 231, 5457]\n",
      "z_base_tok:  231\n",
      "y_base_tok:  361\n",
      "x_base_tok:  132\n",
      "res base: 18\n",
      "res base wo whitespace: 8\n",
      "res base with prefix: a 18\n",
      "res base tok: ['a', 'Ġ18']\n",
      "operands_base:  ('5', '10', '3')\n",
      "base string tok list:  [246, 2055, 231, 2055, 132, 5457, 365, 4, 195, 2055, 158, 2055, 155, 5457]\n",
      "z_base_tok:  155\n",
      "y_base_tok:  158\n",
      "x_base_tok:  195\n",
      "res base: 18\n",
      "res base wo whitespace: 8\n",
      "res base with prefix: a 18\n",
      "res base tok: ['a', 'Ġ18']\n",
      "operands_base:  ('4', '9', '5')\n",
      "base string tok list:  [246, 2055, 155, 2055, 262, 5457, 508, 4, 204, 2055, 361, 2055, 195, 5457]\n",
      "z_base_tok:  195\n",
      "y_base_tok:  361\n",
      "x_base_tok:  204\n",
      "res base: 14\n",
      "res base wo whitespace: 4\n",
      "res base with prefix: a 14\n",
      "res base tok: ['a', 'Ġ14']\n",
      "operands_base:  ('2', '9', '3')\n",
      "base string tok list:  [245, 2055, 195, 2055, 262, 5457, 601, 4, 132, 2055, 361, 2055, 155, 5457]\n",
      "z_base_tok:  155\n",
      "y_base_tok:  361\n",
      "x_base_tok:  132\n",
      "res base: 15\n",
      "res base wo whitespace: 5\n",
      "res base with prefix: a 15\n",
      "res base tok: ['a', 'Ġ15']\n",
      "operands_base:  ('2', '10', '3')\n",
      "base string tok list:  [466, 2055, 132, 2055, 262, 5457, 504, 4, 132, 2055, 158, 2055, 155, 5457]\n",
      "z_base_tok:  155\n",
      "y_base_tok:  158\n",
      "x_base_tok:  132\n",
      "res base: 18\n",
      "res base wo whitespace: 8\n",
      "res base with prefix: a 18\n",
      "res base tok: ['a', 'Ġ18']\n",
      "operands_base:  ('7', '4', '7')\n",
      "base string tok list:  [406, 2055, 132, 2055, 231, 5457, 379, 4, 262, 2055, 204, 2055, 262, 5457]\n",
      "z_base_tok:  262\n",
      "y_base_tok:  204\n",
      "x_base_tok:  262\n",
      "res base: 14\n",
      "res base wo whitespace: 4\n",
      "res base with prefix: a 14\n",
      "res base tok: ['a', 'Ġ14']\n",
      "operands_base:  ('2', '4', '8')\n",
      "base string tok list:  [306, 2055, 365, 2055, 132, 5457, 601, 4, 132, 2055, 204, 2055, 290, 5457]\n",
      "z_base_tok:  290\n",
      "y_base_tok:  204\n",
      "x_base_tok:  132\n",
      "res base: 12\n",
      "res base wo whitespace: 2\n",
      "res base with prefix: a 12\n",
      "res base tok: ['a', 'Ġ12']\n",
      "operands_base:  ('5', '5', '2')\n",
      "base string tok list:  [1092, 2055, 132, 2055, 204, 5457, 504, 4, 195, 2055, 195, 2055, 132, 5457]\n",
      "z_base_tok:  132\n",
      "y_base_tok:  195\n",
      "x_base_tok:  195\n",
      "res base: 16\n",
      "res base wo whitespace: 6\n",
      "res base with prefix: a 16\n",
      "res base tok: ['a', 'Ġ16']\n",
      "operands_base:  ('2', '2', '12')\n",
      "base string tok list:  [246, 2055, 132, 2055, 501, 5457, 753, 4, 132, 2055, 132, 2055, 316, 5457]\n",
      "z_base_tok:  316\n",
      "y_base_tok:  132\n",
      "x_base_tok:  132\n",
      "res base: 14\n",
      "res base wo whitespace: 4\n",
      "res base with prefix: a 14\n",
      "res base tok: ['a', 'Ġ14']\n",
      "operands_base:  ('6', '6', '2')\n",
      "base string tok list:  [401, 2055, 231, 2055, 195, 5457, 601, 4, 231, 2055, 231, 2055, 132, 5457]\n",
      "z_base_tok:  132\n",
      "y_base_tok:  231\n",
      "x_base_tok:  231\n",
      "res base: 19\n",
      "res base wo whitespace: 9\n",
      "res base with prefix: a 19\n",
      "res base tok: ['a', 'Ġ19']\n",
      "operands_base:  ('4', '4', '11')\n",
      "base string tok list:  [245, 2055, 231, 2055, 155, 5457, 501, 4, 204, 2055, 204, 2055, 365, 5457]\n",
      "z_base_tok:  365\n",
      "y_base_tok:  204\n",
      "x_base_tok:  204\n",
      "res base: 14\n",
      "res base wo whitespace: 4\n",
      "res base with prefix: a 14\n",
      "res base tok: ['a', 'Ġ14']\n",
      "operands_base:  ('2', '6', '6')\n",
      "base string tok list:  [176, 2055, 231, 2055, 195, 5457, 508, 4, 132, 2055, 231, 2055, 231, 5457]\n",
      "z_base_tok:  231\n",
      "y_base_tok:  231\n",
      "x_base_tok:  132\n",
      "res base: 19\n",
      "res base wo whitespace: 9\n",
      "res base with prefix: a 19\n",
      "res base tok: ['a', 'Ġ19']\n",
      "operands_base:  ('3', '2', '14')\n",
      "base string tok list:  [246, 2055, 155, 2055, 231, 5457, 316, 4, 155, 2055, 132, 2055, 501, 5457]\n",
      "z_base_tok:  501\n",
      "y_base_tok:  132\n",
      "x_base_tok:  155\n",
      "res base: 16\n",
      "res base wo whitespace: 6\n",
      "res base with prefix: a 16\n",
      "res base tok: ['a', 'Ġ16']\n",
      "operands_base:  ('11', '3', '2')\n",
      "base string tok list:  [401, 2055, 132, 2055, 195, 5457, 508, 4, 365, 2055, 155, 2055, 132, 5457]\n",
      "z_base_tok:  132\n",
      "y_base_tok:  155\n",
      "x_base_tok:  365\n",
      "res base: 19\n",
      "res base wo whitespace: 9\n",
      "res base with prefix: a 19\n",
      "res base tok: ['a', 'Ġ19']\n",
      "operands_base:  ('11', '2', '6')\n",
      "base string tok list:  [245, 2055, 262, 2055, 231, 5457, 504, 4, 365, 2055, 132, 2055, 231, 5457]\n",
      "z_base_tok:  231\n",
      "y_base_tok:  132\n",
      "x_base_tok:  365\n",
      "res base: 11\n",
      "res base wo whitespace: 1\n",
      "res base with prefix: a 11\n",
      "res base tok: ['a', 'Ġ11']\n",
      "operands_base:  ('3', '2', '6')\n",
      "base string tok list:  [176, 2055, 132, 2055, 262, 5457, 365, 4, 155, 2055, 132, 2055, 231, 5457]\n",
      "z_base_tok:  231\n",
      "y_base_tok:  132\n",
      "x_base_tok:  155\n",
      "res base: 16\n",
      "res base wo whitespace: 6\n",
      "res base with prefix: a 16\n",
      "res base tok: ['a', 'Ġ16']\n",
      "operands_base:  ('4', '6', '6')\n",
      "base string tok list:  [245, 2055, 316, 2055, 132, 5457, 753, 4, 204, 2055, 231, 2055, 231, 5457]\n",
      "z_base_tok:  231\n",
      "y_base_tok:  231\n",
      "x_base_tok:  204\n",
      "res base: 19\n",
      "res base wo whitespace: 9\n",
      "res base with prefix: a 19\n",
      "res base tok: ['a', 'Ġ19']\n",
      "operands_base:  ('8', '7', '4')\n",
      "base string tok list:  [306, 2055, 204, 2055, 204, 5457, 316, 4, 290, 2055, 262, 2055, 204, 5457]\n",
      "z_base_tok:  204\n",
      "y_base_tok:  262\n",
      "x_base_tok:  290\n",
      "res base: 18\n",
      "res base wo whitespace: 8\n",
      "res base with prefix: a 18\n",
      "res base tok: ['a', 'Ġ18']\n",
      "operands_base:  ('6', '6', '6')\n",
      "base string tok list:  [398, 2055, 155, 2055, 290, 5457, 753, 4, 231, 2055, 231, 2055, 231, 5457]\n",
      "z_base_tok:  231\n",
      "y_base_tok:  231\n",
      "x_base_tok:  231\n",
      "res base: 12\n",
      "res base wo whitespace: 2\n",
      "res base with prefix: a 12\n",
      "res base tok: ['a', 'Ġ12']\n",
      "operands_base:  ('6', '2', '4')\n",
      "base string tok list:  [406, 2055, 132, 2055, 158, 5457, 753, 4, 231, 2055, 132, 2055, 204, 5457]\n",
      "z_base_tok:  204\n",
      "y_base_tok:  132\n",
      "x_base_tok:  231\n",
      "res base: 15\n",
      "res base wo whitespace: 5\n",
      "res base with prefix: a 15\n",
      "res base tok: ['a', 'Ġ15']\n",
      "operands_base:  ('5', '7', '3')\n",
      "base string tok list:  [176, 2055, 195, 2055, 316, 5457, 753, 4, 195, 2055, 262, 2055, 155, 5457]\n",
      "z_base_tok:  155\n",
      "y_base_tok:  262\n",
      "x_base_tok:  195\n",
      "res base: 16\n",
      "res base wo whitespace: 6\n",
      "res base with prefix: a 16\n",
      "res base tok: ['a', 'Ġ16']\n",
      "operands_base:  ('11', '3', '2')\n",
      "base string tok list:  [406, 2055, 195, 2055, 195, 5457, 601, 4, 365, 2055, 155, 2055, 132, 5457]\n",
      "z_base_tok:  132\n",
      "y_base_tok:  155\n",
      "x_base_tok:  365\n",
      "res base: 18\n",
      "res base wo whitespace: 8\n",
      "res base with prefix: a 18\n",
      "res base tok: ['a', 'Ġ18']\n",
      "operands_base:  ('6', '7', '5')\n",
      "base string tok list:  [306, 2055, 195, 2055, 290, 5457, 601, 4, 231, 2055, 262, 2055, 195, 5457]\n",
      "z_base_tok:  195\n",
      "y_base_tok:  262\n",
      "x_base_tok:  231\n",
      "res base: 16\n",
      "res base wo whitespace: 6\n",
      "res base with prefix: a 16\n",
      "res base tok: ['a', 'Ġ16']\n",
      "operands_base:  ('4', '10', '2')\n",
      "base string tok list:  [698, 2055, 132, 2055, 132, 5457, 501, 4, 204, 2055, 158, 2055, 132, 5457]\n",
      "z_base_tok:  132\n",
      "y_base_tok:  158\n",
      "x_base_tok:  204\n",
      "res base: 19\n",
      "res base wo whitespace: 9\n",
      "res base with prefix: a 19\n",
      "res base tok: ['a', 'Ġ19']\n",
      "operands_base:  ('7', '4', '8')\n",
      "base string tok list:  [698, 2055, 195, 2055, 155, 5457, 504, 4, 262, 2055, 204, 2055, 290, 5457]\n",
      "z_base_tok:  290\n",
      "y_base_tok:  204\n",
      "x_base_tok:  262\n",
      "res base: 15\n",
      "res base wo whitespace: 5\n",
      "res base with prefix: a 15\n",
      "res base tok: ['a', 'Ġ15']\n",
      "operands_base:  ('8', '4', '3')\n",
      "base string tok list:  [466, 2055, 204, 2055, 231, 5457, 753, 4, 290, 2055, 204, 2055, 155, 5457]\n",
      "z_base_tok:  155\n",
      "y_base_tok:  204\n",
      "x_base_tok:  290\n",
      "res base: 15\n",
      "res base wo whitespace: 5\n",
      "res base with prefix: a 15\n",
      "res base tok: ['a', 'Ġ15']\n",
      "operands_base:  ('2', '7', '6')\n",
      "base string tok list:  [406, 2055, 195, 2055, 155, 5457, 379, 4, 132, 2055, 262, 2055, 231, 5457]\n",
      "z_base_tok:  231\n",
      "y_base_tok:  262\n",
      "x_base_tok:  132\n",
      "res base: 9\n",
      "res base wo whitespace: \n",
      "res base with prefix: a 9\n",
      "res base tok: ['a', 'Ġ9']\n",
      "operands_base:  ('4', '2', '3')\n",
      "base string tok list:  [406, 2055, 204, 2055, 204, 5457, 379, 4, 204, 2055, 132, 2055, 155, 5457]\n",
      "z_base_tok:  155\n",
      "y_base_tok:  132\n",
      "x_base_tok:  204\n",
      "res base: 19\n",
      "res base wo whitespace: 9\n",
      "res base with prefix: a 19\n",
      "res base tok: ['a', 'Ġ19']\n",
      "operands_base:  ('8', '3', '8')\n",
      "base string tok list:  [246, 2055, 204, 2055, 231, 5457, 508, 4, 290, 2055, 155, 2055, 290, 5457]\n",
      "z_base_tok:  290\n",
      "y_base_tok:  155\n",
      "x_base_tok:  290\n",
      "res base: 11\n",
      "res base wo whitespace: 1\n",
      "res base with prefix: a 11\n",
      "res base tok: ['a', 'Ġ11']\n",
      "operands_base:  ('2', '7', '2')\n",
      "base string tok list:  [133, 898, 9, 195, 2055, 316, 2055, 132, 5457, 753, 4, 20, 898, 9, 132, 2055, 262, 2055, 132, 5457]\n",
      "z_base_tok:  132\n",
      "y_base_tok:  262\n",
      "x_base_tok:  132\n",
      "res base: 18\n",
      "res base wo whitespace: 8\n",
      "res base with prefix: a 18\n",
      "res base tok: ['a', 'Ġ18']\n",
      "operands_base:  ('6', '10', '2')\n",
      "base string tok list:  [133, 898, 9, 195, 2055, 231, 2055, 155, 5457, 501, 4, 20, 898, 9, 231, 2055, 158, 2055, 132, 5457]\n",
      "z_base_tok:  132\n",
      "y_base_tok:  158\n",
      "x_base_tok:  231\n",
      "res base: 10\n",
      "res base wo whitespace: 0\n",
      "res base with prefix: a 10\n",
      "res base tok: ['a', 'Ġ10']\n",
      "operands_base:  ('3', '4', '3')\n",
      "base string tok list:  [133, 898, 9, 262, 2055, 155, 2055, 195, 5457, 379, 4, 20, 898, 9, 155, 2055, 204, 2055, 155, 5457]\n",
      "z_base_tok:  155\n",
      "y_base_tok:  204\n",
      "x_base_tok:  155\n",
      "res base: 17\n",
      "res base wo whitespace: 7\n",
      "res base with prefix: a 17\n",
      "res base tok: ['a', 'Ġ17']\n",
      "operands_base:  ('5', '7', '5')\n",
      "base string tok list:  [133, 898, 9, 132, 2055, 508, 2055, 155, 5457, 504, 4, 20, 898, 9, 195, 2055, 262, 2055, 195, 5457]\n",
      "z_base_tok:  195\n",
      "y_base_tok:  262\n",
      "x_base_tok:  195\n",
      "res base: 17\n",
      "res base wo whitespace: 7\n",
      "res base with prefix: a 17\n",
      "res base tok: ['a', 'Ġ17']\n",
      "operands_base:  ('9', '6', '2')\n",
      "base string tok list:  [133, 898, 9, 195, 2055, 262, 2055, 195, 5457, 601, 4, 20, 898, 9, 361, 2055, 231, 2055, 132, 5457]\n",
      "z_base_tok:  132\n",
      "y_base_tok:  231\n",
      "x_base_tok:  361\n",
      "res base: 16\n",
      "res base wo whitespace: 6\n",
      "res base with prefix: a 16\n",
      "res base tok: ['a', 'Ġ16']\n",
      "operands_base:  ('3', '4', '9')\n",
      "base string tok list:  [133, 898, 9, 195, 2055, 195, 2055, 231, 5457, 545, 4, 20, 898, 9, 155, 2055, 204, 2055, 361, 5457]\n",
      "z_base_tok:  361\n",
      "y_base_tok:  204\n",
      "x_base_tok:  155\n",
      "res base: 9\n",
      "res base wo whitespace: \n",
      "res base with prefix: a 9\n",
      "res base tok: ['a', 'Ġ9']\n",
      "operands_base:  ('3', '3', '3')\n",
      "base string tok list:  [133, 898, 9, 262, 2055, 231, 2055, 132, 5457, 379, 4, 20, 898, 9, 155, 2055, 155, 2055, 155, 5457]\n",
      "z_base_tok:  155\n",
      "y_base_tok:  155\n",
      "x_base_tok:  155\n",
      "res base: 10\n",
      "res base wo whitespace: 0\n",
      "res base with prefix: a 10\n",
      "res base tok: ['a', 'Ġ10']\n",
      "operands_base:  ('4', '3', '3')\n",
      "base string tok list:  [133, 898, 9, 132, 2055, 158, 2055, 231, 5457, 504, 4, 20, 898, 9, 204, 2055, 155, 2055, 155, 5457]\n",
      "z_base_tok:  155\n",
      "y_base_tok:  155\n",
      "x_base_tok:  204\n",
      "res base: 18\n",
      "res base wo whitespace: 8\n",
      "res base with prefix: a 18\n",
      "res base tok: ['a', 'Ġ18']\n",
      "operands_base:  ('10', '2', '6')\n",
      "base string tok list:  [133, 898, 9, 195, 2055, 262, 2055, 155, 5457, 379, 4, 20, 898, 9, 158, 2055, 132, 2055, 231, 5457]\n",
      "z_base_tok:  231\n",
      "y_base_tok:  132\n",
      "x_base_tok:  158\n",
      "res base: 17\n",
      "res base wo whitespace: 7\n",
      "res base with prefix: a 17\n",
      "res base tok: ['a', 'Ġ17']\n",
      "operands_base:  ('2', '12', '3')\n",
      "base string tok list:  [133, 898, 9, 195, 2055, 132, 2055, 231, 5457, 508, 4, 20, 898, 9, 132, 2055, 316, 2055, 155, 5457]\n",
      "z_base_tok:  155\n",
      "y_base_tok:  316\n",
      "x_base_tok:  132\n",
      "res base: 18\n",
      "res base wo whitespace: 8\n",
      "res base with prefix: a 18\n",
      "res base tok: ['a', 'Ġ18']\n",
      "operands_base:  ('4', '12', '2')\n",
      "base string tok list:  [133, 898, 9, 361, 2055, 155, 2055, 155, 5457, 379, 4, 20, 898, 9, 204, 2055, 316, 2055, 132, 5457]\n",
      "z_base_tok:  132\n",
      "y_base_tok:  316\n",
      "x_base_tok:  204\n",
      "res base: 13\n",
      "res base wo whitespace: 3\n",
      "res base with prefix: a 13\n",
      "res base tok: ['a', 'Ġ13']\n",
      "operands_base:  ('8', '2', '3')\n",
      "base string tok list:  [133, 898, 9, 204, 2055, 290, 2055, 262, 5457, 753, 4, 20, 898, 9, 290, 2055, 132, 2055, 155, 5457]\n",
      "z_base_tok:  155\n",
      "y_base_tok:  132\n",
      "x_base_tok:  290\n",
      "res base: 17\n",
      "res base wo whitespace: 7\n",
      "res base with prefix: a 17\n",
      "res base tok: ['a', 'Ġ17']\n",
      "operands_base:  ('10', '3', '4')\n",
      "base string tok list:  [133, 898, 9, 204, 2055, 158, 2055, 155, 5457, 601, 4, 20, 898, 9, 158, 2055, 155, 2055, 204, 5457]\n",
      "z_base_tok:  204\n",
      "y_base_tok:  155\n",
      "x_base_tok:  158\n",
      "res base: 12\n",
      "res base wo whitespace: 2\n",
      "res base with prefix: a 12\n",
      "res base tok: ['a', 'Ġ12']\n",
      "operands_base:  ('5', '3', '4')\n",
      "base string tok list:  [133, 898, 9, 155, 2055, 195, 2055, 195, 5457, 508, 4, 20, 898, 9, 195, 2055, 155, 2055, 204, 5457]\n",
      "z_base_tok:  204\n",
      "y_base_tok:  155\n",
      "x_base_tok:  195\n",
      "res base: 16\n",
      "res base wo whitespace: 6\n",
      "res base with prefix: a 16\n",
      "res base tok: ['a', 'Ġ16']\n",
      "operands_base:  ('10', '4', '2')\n",
      "base string tok list:  [133, 898, 9, 155, 2055, 195, 2055, 231, 5457, 501, 4, 20, 898, 9, 158, 2055, 204, 2055, 132, 5457]\n",
      "z_base_tok:  132\n",
      "y_base_tok:  204\n",
      "x_base_tok:  158\n",
      "res base: 19\n",
      "res base wo whitespace: 9\n",
      "res base with prefix: a 19\n",
      "res base tok: ['a', 'Ġ19']\n",
      "operands_base:  ('11', '6', '2')\n",
      "base string tok list:  [133, 898, 9, 204, 2055, 204, 2055, 204, 5457, 316, 4, 20, 898, 9, 365, 2055, 231, 2055, 132, 5457]\n",
      "z_base_tok:  132\n",
      "y_base_tok:  231\n",
      "x_base_tok:  365\n",
      "res base: 18\n",
      "res base wo whitespace: 8\n",
      "res base with prefix: a 18\n",
      "res base tok: ['a', 'Ġ18']\n",
      "operands_base:  ('2', '9', '7')\n",
      "base string tok list:  [133, 898, 9, 262, 2055, 132, 2055, 132, 5457, 365, 4, 20, 898, 9, 132, 2055, 361, 2055, 262, 5457]\n",
      "z_base_tok:  262\n",
      "y_base_tok:  361\n",
      "x_base_tok:  132\n",
      "res base: 15\n",
      "res base wo whitespace: 5\n",
      "res base with prefix: a 15\n",
      "res base tok: ['a', 'Ġ15']\n",
      "operands_base:  ('3', '2', '10')\n",
      "base string tok list:  [133, 898, 9, 155, 2055, 204, 2055, 204, 5457, 365, 4, 20, 898, 9, 155, 2055, 132, 2055, 158, 5457]\n",
      "z_base_tok:  158\n",
      "y_base_tok:  132\n",
      "x_base_tok:  155\n",
      "res base: 16\n",
      "res base wo whitespace: 6\n",
      "res base with prefix: a 16\n",
      "res base tok: ['a', 'Ġ16']\n",
      "operands_base:  ('5', '3', '8')\n",
      "base string tok list:  [133, 898, 9, 195, 2055, 204, 2055, 155, 5457, 316, 4, 20, 898, 9, 195, 2055, 155, 2055, 290, 5457]\n",
      "z_base_tok:  290\n",
      "y_base_tok:  155\n",
      "x_base_tok:  195\n",
      "res base: 18\n",
      "res base wo whitespace: 8\n",
      "res base with prefix: a 18\n",
      "res base tok: ['a', 'Ġ18']\n",
      "operands_base:  ('9', '7', '2')\n",
      "base string tok list:  [133, 898, 9, 155, 2055, 231, 2055, 204, 5457, 508, 4, 20, 898, 9, 361, 2055, 262, 2055, 132, 5457]\n",
      "z_base_tok:  132\n",
      "y_base_tok:  262\n",
      "x_base_tok:  361\n",
      "res base: 14\n",
      "res base wo whitespace: 4\n",
      "res base with prefix: a 14\n",
      "res base tok: ['a', 'Ġ14']\n",
      "operands_base:  ('3', '2', '9')\n",
      "base string tok list:  [133, 898, 9, 204, 2055, 262, 2055, 155, 5457, 501, 4, 20, 898, 9, 155, 2055, 132, 2055, 361, 5457]\n",
      "z_base_tok:  361\n",
      "y_base_tok:  132\n",
      "x_base_tok:  155\n",
      "res base: 13\n",
      "res base wo whitespace: 3\n",
      "res base with prefix: a 13\n",
      "res base tok: ['a', 'Ġ13']\n",
      "operands_base:  ('2', '9', '2')\n",
      "base string tok list:  [133, 898, 9, 195, 2055, 204, 2055, 361, 5457, 504, 4, 20, 898, 9, 132, 2055, 361, 2055, 132, 5457]\n",
      "z_base_tok:  132\n",
      "y_base_tok:  361\n",
      "x_base_tok:  132\n",
      "res base: 8\n",
      "res base wo whitespace: \n",
      "res base with prefix: a 8\n",
      "res base tok: ['a', 'Ġ8']\n",
      "operands_base:  ('3', '3', '2')\n",
      "base string tok list:  [133, 898, 9, 155, 2055, 195, 2055, 195, 5457, 508, 4, 20, 898, 9, 155, 2055, 155, 2055, 132, 5457]\n",
      "z_base_tok:  132\n",
      "y_base_tok:  155\n",
      "x_base_tok:  155\n",
      "res base: 18\n",
      "res base wo whitespace: 8\n",
      "res base with prefix: a 18\n",
      "res base tok: ['a', 'Ġ18']\n",
      "operands_base:  ('8', '2', '8')\n",
      "base string tok list:  [133, 898, 9, 155, 2055, 132, 2055, 231, 5457, 365, 4, 20, 898, 9, 290, 2055, 132, 2055, 290, 5457]\n",
      "z_base_tok:  290\n",
      "y_base_tok:  132\n",
      "x_base_tok:  290\n",
      "res base: 19\n",
      "res base wo whitespace: 9\n",
      "res base with prefix: a 19\n",
      "res base tok: ['a', 'Ġ19']\n",
      "operands_base:  ('9', '6', '4')\n",
      "base string tok list:  [133, 898, 9, 158, 2055, 155, 2055, 155, 5457, 545, 4, 20, 898, 9, 361, 2055, 231, 2055, 204, 5457]\n",
      "z_base_tok:  204\n",
      "y_base_tok:  231\n",
      "x_base_tok:  361\n",
      "res base: 17\n",
      "res base wo whitespace: 7\n",
      "res base with prefix: a 17\n",
      "res base tok: ['a', 'Ġ17']\n",
      "operands_base:  ('9', '2', '6')\n",
      "base string tok list:  [133, 898, 9, 155, 2055, 132, 2055, 158, 5457, 379, 4, 20, 898, 9, 361, 2055, 132, 2055, 231, 5457]\n",
      "z_base_tok:  231\n",
      "y_base_tok:  132\n",
      "x_base_tok:  361\n",
      "res base: 18\n",
      "res base wo whitespace: 8\n",
      "res base with prefix: a 18\n",
      "res base tok: ['a', 'Ġ18']\n",
      "operands_base:  ('5', '5', '8')\n",
      "base string tok list:  [133, 898, 9, 155, 2055, 132, 2055, 508, 5457, 504, 4, 20, 898, 9, 195, 2055, 195, 2055, 290, 5457]\n",
      "z_base_tok:  290\n",
      "y_base_tok:  195\n",
      "x_base_tok:  195\n",
      "res base: 11\n",
      "res base wo whitespace: 1\n",
      "res base with prefix: a 11\n",
      "res base tok: ['a', 'Ġ11']\n",
      "operands_base:  ('3', '4', '4')\n",
      "base string tok list:  [133, 898, 9, 262, 2055, 290, 2055, 132, 5457, 601, 4, 20, 898, 9, 155, 2055, 204, 2055, 204, 5457]\n",
      "z_base_tok:  204\n",
      "y_base_tok:  204\n",
      "x_base_tok:  155\n",
      "res base: 19\n",
      "res base wo whitespace: 9\n",
      "res base with prefix: a 19\n",
      "res base tok: ['a', 'Ġ19']\n",
      "operands_base:  ('13', '3', '3')\n",
      "base string tok list:  [133, 898, 9, 365, 2055, 132, 2055, 132, 5457, 379, 4, 20, 898, 9, 508, 2055, 155, 2055, 155, 5457]\n",
      "z_base_tok:  155\n",
      "y_base_tok:  155\n",
      "x_base_tok:  508\n",
      "res base: 18\n",
      "res base wo whitespace: 8\n",
      "res base with prefix: a 18\n",
      "res base tok: ['a', 'Ġ18']\n",
      "operands_base:  ('11', '5', '2')\n",
      "base string tok list:  [133, 898, 9, 158, 2055, 204, 2055, 132, 5457, 545, 4, 20, 898, 9, 365, 2055, 195, 2055, 132, 5457]\n",
      "z_base_tok:  132\n",
      "y_base_tok:  195\n",
      "x_base_tok:  365\n",
      "res base: 5\n",
      "res base wo whitespace: \n",
      "res base with prefix: a 5\n",
      "res base tok: ['a', 'Ġ5']\n",
      "operands_base:  ('17', '8', '4')\n",
      "base string tok list:  [133, 898, 9, 753, 10877, 132, 10877, 290, 16, 361, 4, 20, 898, 9, 601, 10877, 290, 10877, 204, 16]\n",
      "z_base_tok:  204\n",
      "y_base_tok:  290\n",
      "x_base_tok:  601\n",
      "res base: 3\n",
      "res base wo whitespace: \n",
      "res base with prefix: a 3\n",
      "res base tok: ['a', 'Ġ3']\n",
      "operands_base:  ('20', '11', '6')\n",
      "base string tok list:  [133, 898, 9, 601, 10877, 155, 10877, 132, 16, 316, 4, 20, 898, 9, 291, 10877, 365, 10877, 231, 16]\n",
      "z_base_tok:  231\n",
      "y_base_tok:  365\n",
      "x_base_tok:  291\n",
      "res base: 4\n",
      "res base wo whitespace: \n",
      "res base with prefix: a 4\n",
      "res base tok: ['a', 'Ġ4']\n",
      "operands_base:  ('12', '2', '6')\n",
      "base string tok list:  [133, 898, 9, 753, 10877, 231, 10877, 262, 16, 231, 4, 20, 898, 9, 316, 10877, 132, 10877, 231, 16]\n",
      "z_base_tok:  231\n",
      "y_base_tok:  132\n",
      "x_base_tok:  316\n",
      "res base: 4\n",
      "res base wo whitespace: \n",
      "res base with prefix: a 4\n",
      "res base tok: ['a', 'Ġ4']\n",
      "operands_base:  ('17', '3', '10')\n",
      "base string tok list:  [133, 898, 9, 753, 10877, 501, 10877, 155, 16, 132, 4, 20, 898, 9, 601, 10877, 155, 10877, 158, 16]\n",
      "z_base_tok:  158\n",
      "y_base_tok:  155\n",
      "x_base_tok:  601\n",
      "res base: 3\n",
      "res base wo whitespace: \n",
      "res base with prefix: a 3\n",
      "res base tok: ['a', 'Ġ3']\n",
      "operands_base:  ('20', '15', '2')\n",
      "base string tok list:  [133, 898, 9, 504, 10877, 204, 10877, 508, 16, 112, 4, 20, 898, 9, 291, 10877, 379, 10877, 132, 16]\n",
      "z_base_tok:  132\n",
      "y_base_tok:  379\n",
      "x_base_tok:  291\n",
      "res base: 3\n",
      "res base wo whitespace: \n",
      "res base with prefix: a 3\n",
      "res base tok: ['a', 'Ġ3']\n",
      "operands_base:  ('17', '12', '2')\n",
      "base string tok list:  [133, 898, 9, 316, 10877, 132, 10877, 132, 16, 290, 4, 20, 898, 9, 601, 10877, 316, 10877, 132, 16]\n",
      "z_base_tok:  132\n",
      "y_base_tok:  316\n",
      "x_base_tok:  601\n",
      "res base: 2\n",
      "res base wo whitespace: \n",
      "res base with prefix: a 2\n",
      "res base tok: ['a', 'Ġ2']\n",
      "operands_base:  ('15', '3', '10')\n",
      "base string tok list:  [133, 898, 9, 501, 10877, 290, 10877, 155, 16, 155, 4, 20, 898, 9, 379, 10877, 155, 10877, 158, 16]\n",
      "z_base_tok:  158\n",
      "y_base_tok:  155\n",
      "x_base_tok:  379\n",
      "res base: 5\n",
      "res base wo whitespace: \n",
      "res base with prefix: a 5\n",
      "res base tok: ['a', 'Ġ5']\n",
      "operands_base:  ('19', '5', '9')\n",
      "base string tok list:  [133, 898, 9, 501, 10877, 155, 10877, 231, 16, 195, 4, 20, 898, 9, 753, 10877, 195, 10877, 361, 16]\n",
      "z_base_tok:  361\n",
      "y_base_tok:  195\n",
      "x_base_tok:  753\n",
      "res base: 3\n",
      "res base wo whitespace: \n",
      "res base with prefix: a 3\n",
      "res base tok: ['a', 'Ġ3']\n",
      "operands_base:  ('9', '2', '4')\n",
      "base string tok list:  [133, 898, 9, 501, 10877, 195, 10877, 132, 16, 262, 4, 20, 898, 9, 361, 10877, 132, 10877, 204, 16]\n",
      "z_base_tok:  204\n",
      "y_base_tok:  132\n",
      "x_base_tok:  361\n",
      "res base: 14\n",
      "res base wo whitespace: 4\n",
      "res base with prefix: a 14\n",
      "res base tok: ['a', 'Ġ14']\n",
      "operands_base:  ('20', '2', '4')\n",
      "base string tok list:  [133, 898, 9, 316, 10877, 290, 10877, 132, 16, 132, 4, 20, 898, 9, 291, 10877, 132, 10877, 204, 16]\n",
      "z_base_tok:  204\n",
      "y_base_tok:  132\n",
      "x_base_tok:  291\n",
      "res base: 3\n",
      "res base wo whitespace: \n",
      "res base with prefix: a 3\n",
      "res base tok: ['a', 'Ġ3']\n",
      "operands_base:  ('18', '3', '12')\n",
      "base string tok list:  [133, 898, 9, 753, 10877, 316, 10877, 195, 16, 132, 4, 20, 898, 9, 504, 10877, 155, 10877, 316, 16]\n",
      "z_base_tok:  316\n",
      "y_base_tok:  155\n",
      "x_base_tok:  504\n",
      "res base: 13\n",
      "res base wo whitespace: 3\n",
      "res base with prefix: a 13\n",
      "res base tok: ['a', 'Ġ13']\n",
      "operands_base:  ('19', '3', '3')\n",
      "base string tok list:  [133, 898, 9, 291, 10877, 231, 10877, 262, 16, 262, 4, 20, 898, 9, 753, 10877, 155, 10877, 155, 16]\n",
      "z_base_tok:  155\n",
      "y_base_tok:  155\n",
      "x_base_tok:  753\n",
      "res base: 8\n",
      "res base wo whitespace: \n",
      "res base with prefix: a 8\n",
      "res base tok: ['a', 'Ġ8']\n",
      "operands_base:  ('17', '2', '7')\n",
      "base string tok list:  [133, 898, 9, 508, 10877, 155, 10877, 231, 16, 204, 4, 20, 898, 9, 601, 10877, 132, 10877, 262, 16]\n",
      "z_base_tok:  262\n",
      "y_base_tok:  132\n",
      "x_base_tok:  601\n",
      "res base: 8\n",
      "res base wo whitespace: \n",
      "res base with prefix: a 8\n",
      "res base tok: ['a', 'Ġ8']\n",
      "operands_base:  ('15', '5', '2')\n",
      "base string tok list:  [133, 898, 9, 379, 10877, 155, 10877, 365, 16, 112, 4, 20, 898, 9, 379, 10877, 195, 10877, 132, 16]\n",
      "z_base_tok:  132\n",
      "y_base_tok:  195\n",
      "x_base_tok:  379\n",
      "res base: 2\n",
      "res base wo whitespace: \n",
      "res base with prefix: a 2\n",
      "res base tok: ['a', 'Ġ2']\n",
      "operands_base:  ('12', '3', '7')\n",
      "base string tok list:  [133, 898, 9, 601, 10877, 204, 10877, 231, 16, 262, 4, 20, 898, 9, 316, 10877, 155, 10877, 262, 16]\n",
      "z_base_tok:  262\n",
      "y_base_tok:  155\n",
      "x_base_tok:  316\n",
      "res base: 5\n",
      "res base wo whitespace: \n",
      "res base with prefix: a 5\n",
      "res base tok: ['a', 'Ġ5']\n",
      "operands_base:  ('20', '5', '10')\n",
      "base string tok list:  [133, 898, 9, 379, 10877, 316, 10877, 132, 16, 112, 4, 20, 898, 9, 291, 10877, 195, 10877, 158, 16]\n",
      "z_base_tok:  158\n",
      "y_base_tok:  195\n",
      "x_base_tok:  291\n",
      "res base: 11\n",
      "res base wo whitespace: 1\n",
      "res base with prefix: a 11\n",
      "res base tok: ['a', 'Ġ11']\n",
      "operands_base:  ('20', '4', '5')\n",
      "base string tok list:  [133, 898, 9, 291, 10877, 155, 10877, 361, 16, 290, 4, 20, 898, 9, 291, 10877, 204, 10877, 195, 16]\n",
      "z_base_tok:  195\n",
      "y_base_tok:  204\n",
      "x_base_tok:  291\n",
      "res base: 1\n",
      "res base wo whitespace: \n",
      "res base with prefix: a 1\n",
      "res base tok: ['a', 'Ġ1']\n",
      "operands_base:  ('9', '3', '5')\n",
      "base string tok list:  [133, 898, 9, 753, 10877, 361, 10877, 361, 16, 112, 4, 20, 898, 9, 361, 10877, 155, 10877, 195, 16]\n",
      "z_base_tok:  195\n",
      "y_base_tok:  155\n",
      "x_base_tok:  361\n",
      "res base: 3\n",
      "res base wo whitespace: \n",
      "res base with prefix: a 3\n",
      "res base tok: ['a', 'Ġ3']\n",
      "operands_base:  ('11', '4', '4')\n",
      "base string tok list:  [133, 898, 9, 158, 10877, 204, 10877, 132, 16, 204, 4, 20, 898, 9, 365, 10877, 204, 10877, 204, 16]\n",
      "z_base_tok:  204\n",
      "y_base_tok:  204\n",
      "x_base_tok:  365\n",
      "res base: 13\n",
      "res base wo whitespace: 3\n",
      "res base with prefix: a 13\n",
      "res base tok: ['a', 'Ġ13']\n",
      "operands_base:  ('20', '5', '2')\n",
      "base string tok list:  [133, 898, 9, 379, 10877, 155, 10877, 204, 16, 290, 4, 20, 898, 9, 291, 10877, 195, 10877, 132, 16]\n",
      "z_base_tok:  132\n",
      "y_base_tok:  195\n",
      "x_base_tok:  291\n",
      "res base: 5\n",
      "res base wo whitespace: \n",
      "res base with prefix: a 5\n",
      "res base tok: ['a', 'Ġ5']\n",
      "operands_base:  ('20', '11', '4')\n",
      "base string tok list:  [133, 898, 9, 545, 10877, 155, 10877, 155, 16, 158, 4, 20, 898, 9, 291, 10877, 365, 10877, 204, 16]\n",
      "z_base_tok:  204\n",
      "y_base_tok:  365\n",
      "x_base_tok:  291\n",
      "res base: 3\n",
      "res base wo whitespace: \n",
      "res base with prefix: a 3\n",
      "res base tok: ['a', 'Ġ3']\n",
      "operands_base:  ('11', '6', '2')\n",
      "base string tok list:  [133, 898, 9, 753, 10877, 158, 10877, 290, 16, 112, 4, 20, 898, 9, 365, 10877, 231, 10877, 132, 16]\n",
      "z_base_tok:  132\n",
      "y_base_tok:  231\n",
      "x_base_tok:  365\n",
      "res base: 6\n",
      "res base wo whitespace: \n",
      "res base with prefix: a 6\n",
      "res base tok: ['a', 'Ġ6']\n",
      "operands_base:  ('13', '5', '2')\n",
      "base string tok list:  [133, 898, 9, 504, 10877, 204, 10877, 231, 16, 290, 4, 20, 898, 9, 508, 10877, 195, 10877, 132, 16]\n",
      "z_base_tok:  132\n",
      "y_base_tok:  195\n",
      "x_base_tok:  508\n",
      "res base: 3\n",
      "res base wo whitespace: \n",
      "res base with prefix: a 3\n",
      "res base tok: ['a', 'Ġ3']\n",
      "operands_base:  ('15', '5', '7')\n",
      "base string tok list:  [133, 898, 9, 601, 10877, 204, 10877, 231, 16, 262, 4, 20, 898, 9, 379, 10877, 195, 10877, 262, 16]\n",
      "z_base_tok:  262\n",
      "y_base_tok:  195\n",
      "x_base_tok:  379\n",
      "res base: 3\n",
      "res base wo whitespace: \n",
      "res base with prefix: a 3\n",
      "res base tok: ['a', 'Ġ3']\n",
      "operands_base:  ('20', '11', '6')\n",
      "base string tok list:  [133, 898, 9, 504, 10877, 290, 10877, 290, 16, 132, 4, 20, 898, 9, 291, 10877, 365, 10877, 231, 16]\n",
      "z_base_tok:  231\n",
      "y_base_tok:  365\n",
      "x_base_tok:  291\n",
      "res base: 6\n",
      "res base wo whitespace: \n",
      "res base with prefix: a 6\n",
      "res base tok: ['a', 'Ġ6']\n",
      "operands_base:  ('19', '6', '7')\n",
      "base string tok list:  [133, 898, 9, 365, 10877, 132, 10877, 155, 16, 231, 4, 20, 898, 9, 753, 10877, 231, 10877, 262, 16]\n",
      "z_base_tok:  262\n",
      "y_base_tok:  231\n",
      "x_base_tok:  753\n",
      "res base: 2\n",
      "res base wo whitespace: \n",
      "res base with prefix: a 2\n",
      "res base tok: ['a', 'Ġ2']\n",
      "operands_base:  ('18', '4', '12')\n",
      "base string tok list:  [133, 898, 9, 291, 10877, 132, 10877, 132, 16, 545, 4, 20, 898, 9, 504, 10877, 204, 10877, 316, 16]\n",
      "z_base_tok:  316\n",
      "y_base_tok:  204\n",
      "x_base_tok:  504\n",
      "res base: 2\n",
      "res base wo whitespace: \n",
      "res base with prefix: a 2\n",
      "res base tok: ['a', 'Ġ2']\n",
      "operands_base:  ('11', '5', '4')\n",
      "base string tok list:  [133, 898, 9, 545, 10877, 195, 10877, 262, 16, 204, 4, 20, 898, 9, 365, 10877, 195, 10877, 204, 16]\n",
      "z_base_tok:  204\n",
      "y_base_tok:  195\n",
      "x_base_tok:  365\n",
      "res base: 1\n",
      "res base wo whitespace: \n",
      "res base with prefix: a 1\n",
      "res base tok: ['a', 'Ġ1']\n",
      "operands_base:  ('20', '15', '4')\n",
      "base string tok list:  [133, 898, 9, 508, 10877, 132, 10877, 158, 16, 112, 4, 20, 898, 9, 291, 10877, 379, 10877, 204, 16]\n",
      "z_base_tok:  204\n",
      "y_base_tok:  379\n",
      "x_base_tok:  291\n",
      "res base: 5\n",
      "res base wo whitespace: \n",
      "res base with prefix: a 5\n",
      "res base tok: ['a', 'Ġ5']\n",
      "operands_base:  ('14', '7', '2')\n",
      "base string tok list:  [133, 898, 9, 501, 10877, 155, 10877, 195, 16, 231, 4, 20, 898, 9, 501, 10877, 262, 10877, 132, 16]\n",
      "z_base_tok:  132\n",
      "y_base_tok:  262\n",
      "x_base_tok:  501\n",
      "res base: 18\n",
      "res base wo whitespace: 8\n",
      "res base with prefix: a 18\n",
      "res base tok: ['a', 'Ġ18']\n",
      "operands_base:  ('3', '3', '2')\n",
      "base string tok list:  [133, 898, 9, 132, 1009, 132, 1009, 204, 5457, 545, 4, 20, 898, 9, 155, 1009, 155, 1009, 132, 5457]\n",
      "z_base_tok:  132\n",
      "y_base_tok:  155\n",
      "x_base_tok:  155\n",
      "res base: 16\n",
      "res base wo whitespace: 6\n",
      "res base with prefix: a 16\n",
      "res base tok: ['a', 'Ġ16']\n",
      "operands_base:  ('4', '2', '2')\n",
      "base string tok list:  [133, 898, 9, 132, 1009, 132, 1009, 155, 5457, 316, 4, 20, 898, 9, 204, 1009, 132, 1009, 132, 5457]\n",
      "z_base_tok:  132\n",
      "y_base_tok:  132\n",
      "x_base_tok:  204\n",
      "res base: 12\n",
      "res base wo whitespace: 2\n",
      "res base with prefix: a 12\n",
      "res base tok: ['a', 'Ġ12']\n",
      "operands_base:  ('2', '2', '3')\n",
      "base string tok list:  [133, 898, 9, 155, 1009, 132, 1009, 155, 5457, 504, 4, 20, 898, 9, 132, 1009, 132, 1009, 155, 5457]\n",
      "z_base_tok:  155\n",
      "y_base_tok:  132\n",
      "x_base_tok:  132\n",
      "res base: 8\n",
      "res base wo whitespace: \n",
      "res base with prefix: a 8\n",
      "res base tok: ['a', 'Ġ8']\n",
      "operands_base:  ('2', '2', '2')\n",
      "base string tok list:  [133, 898, 9, 155, 1009, 132, 1009, 132, 5457, 316, 4, 20, 898, 9, 132, 1009, 132, 1009, 132, 5457]\n",
      "z_base_tok:  132\n",
      "y_base_tok:  132\n",
      "x_base_tok:  132\n",
      "res base: 12\n",
      "res base wo whitespace: 2\n",
      "res base with prefix: a 12\n",
      "res base tok: ['a', 'Ġ12']\n",
      "operands_base:  ('2', '2', '3')\n",
      "base string tok list:  [133, 898, 9, 132, 1009, 155, 1009, 132, 5457, 316, 4, 20, 898, 9, 132, 1009, 132, 1009, 155, 5457]\n",
      "z_base_tok:  155\n",
      "y_base_tok:  132\n",
      "x_base_tok:  132\n",
      "res base: 12\n",
      "res base wo whitespace: 2\n",
      "res base with prefix: a 12\n",
      "res base tok: ['a', 'Ġ12']\n",
      "operands_base:  ('3', '2', '2')\n",
      "base string tok list:  [133, 898, 9, 155, 1009, 155, 1009, 132, 5457, 504, 4, 20, 898, 9, 155, 1009, 132, 1009, 132, 5457]\n",
      "z_base_tok:  132\n",
      "y_base_tok:  132\n",
      "x_base_tok:  155\n",
      "res base: 18\n",
      "res base wo whitespace: 8\n",
      "res base with prefix: a 18\n",
      "res base tok: ['a', 'Ġ18']\n",
      "operands_base:  ('3', '3', '2')\n",
      "base string tok list:  [133, 898, 9, 155, 1009, 132, 1009, 155, 5457, 504, 4, 20, 898, 9, 155, 1009, 155, 1009, 132, 5457]\n",
      "z_base_tok:  132\n",
      "y_base_tok:  155\n",
      "x_base_tok:  155\n",
      "res base: 18\n",
      "res base wo whitespace: 8\n",
      "res base with prefix: a 18\n",
      "res base tok: ['a', 'Ġ18']\n",
      "operands_base:  ('2', '3', '3')\n",
      "base string tok list:  [133, 898, 9, 132, 1009, 155, 1009, 132, 5457, 316, 4, 20, 898, 9, 132, 1009, 155, 1009, 155, 5457]\n",
      "z_base_tok:  155\n",
      "y_base_tok:  155\n",
      "x_base_tok:  132\n",
      "res base: 12\n",
      "res base wo whitespace: 2\n",
      "res base with prefix: a 12\n",
      "res base tok: ['a', 'Ġ12']\n",
      "operands_base:  ('2', '2', '3')\n",
      "base string tok list:  [133, 898, 9, 204, 1009, 132, 1009, 132, 5457, 545, 4, 20, 898, 9, 132, 1009, 132, 1009, 155, 5457]\n",
      "z_base_tok:  155\n",
      "y_base_tok:  132\n",
      "x_base_tok:  132\n",
      "res base: 12\n",
      "res base wo whitespace: 2\n",
      "res base with prefix: a 12\n",
      "res base tok: ['a', 'Ġ12']\n",
      "operands_base:  ('2', '2', '3')\n",
      "base string tok list:  [133, 898, 9, 155, 1009, 155, 1009, 132, 5457, 504, 4, 20, 898, 9, 132, 1009, 132, 1009, 155, 5457]\n",
      "z_base_tok:  155\n",
      "y_base_tok:  132\n",
      "x_base_tok:  132\n",
      "res base: 18\n",
      "res base wo whitespace: 8\n",
      "res base with prefix: a 18\n",
      "res base tok: ['a', 'Ġ18']\n",
      "operands_base:  ('3', '3', '2')\n",
      "base string tok list:  [133, 898, 9, 132, 1009, 132, 1009, 204, 5457, 545, 4, 20, 898, 9, 155, 1009, 155, 1009, 132, 5457]\n",
      "z_base_tok:  132\n",
      "y_base_tok:  155\n",
      "x_base_tok:  155\n",
      "res base: 16\n",
      "res base wo whitespace: 6\n",
      "res base with prefix: a 16\n",
      "res base tok: ['a', 'Ġ16']\n",
      "operands_base:  ('2', '2', '4')\n",
      "base string tok list:  [133, 898, 9, 132, 1009, 155, 1009, 155, 5457, 504, 4, 20, 898, 9, 132, 1009, 132, 1009, 204, 5457]\n",
      "z_base_tok:  204\n",
      "y_base_tok:  132\n",
      "x_base_tok:  132\n",
      "res base: 12\n",
      "res base wo whitespace: 2\n",
      "res base with prefix: a 12\n",
      "res base tok: ['a', 'Ġ12']\n",
      "operands_base:  ('2', '2', '3')\n",
      "base string tok list:  [133, 898, 9, 132, 1009, 155, 1009, 132, 5457, 316, 4, 20, 898, 9, 132, 1009, 132, 1009, 155, 5457]\n",
      "z_base_tok:  155\n",
      "y_base_tok:  132\n",
      "x_base_tok:  132\n",
      "res base: 18\n",
      "res base wo whitespace: 8\n",
      "res base with prefix: a 18\n",
      "res base tok: ['a', 'Ġ18']\n",
      "operands_base:  ('3', '3', '2')\n",
      "base string tok list:  [133, 898, 9, 155, 1009, 155, 1009, 132, 5457, 504, 4, 20, 898, 9, 155, 1009, 155, 1009, 132, 5457]\n",
      "z_base_tok:  132\n",
      "y_base_tok:  155\n",
      "x_base_tok:  155\n",
      "res base: 18\n",
      "res base wo whitespace: 8\n",
      "res base with prefix: a 18\n",
      "res base tok: ['a', 'Ġ18']\n",
      "operands_base:  ('3', '2', '3')\n",
      "base string tok list:  [133, 898, 9, 132, 1009, 132, 1009, 204, 5457, 545, 4, 20, 898, 9, 155, 1009, 132, 1009, 155, 5457]\n",
      "z_base_tok:  155\n",
      "y_base_tok:  132\n",
      "x_base_tok:  155\n",
      "res base: 18\n",
      "res base wo whitespace: 8\n",
      "res base with prefix: a 18\n",
      "res base tok: ['a', 'Ġ18']\n",
      "operands_base:  ('3', '3', '2')\n",
      "base string tok list:  [133, 898, 9, 155, 1009, 155, 1009, 132, 5457, 504, 4, 20, 898, 9, 155, 1009, 155, 1009, 132, 5457]\n",
      "z_base_tok:  132\n",
      "y_base_tok:  155\n",
      "x_base_tok:  155\n",
      "res base: 12\n",
      "res base wo whitespace: 2\n",
      "res base with prefix: a 12\n",
      "res base tok: ['a', 'Ġ12']\n",
      "operands_base:  ('2', '3', '2')\n",
      "base string tok list:  [133, 898, 9, 204, 1009, 132, 1009, 132, 5457, 545, 4, 20, 898, 9, 132, 1009, 155, 1009, 132, 5457]\n",
      "z_base_tok:  132\n",
      "y_base_tok:  155\n",
      "x_base_tok:  132\n",
      "res base: 12\n",
      "res base wo whitespace: 2\n",
      "res base with prefix: a 12\n",
      "res base tok: ['a', 'Ġ12']\n",
      "operands_base:  ('3', '2', '2')\n",
      "base string tok list:  [133, 898, 9, 132, 1009, 132, 1009, 155, 5457, 316, 4, 20, 898, 9, 155, 1009, 132, 1009, 132, 5457]\n",
      "z_base_tok:  132\n",
      "y_base_tok:  132\n",
      "x_base_tok:  155\n",
      "res base: 18\n",
      "res base wo whitespace: 8\n",
      "res base with prefix: a 18\n",
      "res base tok: ['a', 'Ġ18']\n",
      "operands_base:  ('3', '3', '2')\n",
      "base string tok list:  [133, 898, 9, 204, 1009, 132, 1009, 132, 5457, 545, 4, 20, 898, 9, 155, 1009, 155, 1009, 132, 5457]\n",
      "z_base_tok:  132\n",
      "y_base_tok:  155\n",
      "x_base_tok:  155\n",
      "res base: 12\n",
      "res base wo whitespace: 2\n",
      "res base with prefix: a 12\n",
      "res base tok: ['a', 'Ġ12']\n",
      "operands_base:  ('2', '2', '3')\n",
      "base string tok list:  [133, 898, 9, 132, 1009, 204, 1009, 132, 5457, 545, 4, 20, 898, 9, 132, 1009, 132, 1009, 155, 5457]\n",
      "z_base_tok:  155\n",
      "y_base_tok:  132\n",
      "x_base_tok:  132\n",
      "res base: 16\n",
      "res base wo whitespace: 6\n",
      "res base with prefix: a 16\n",
      "res base tok: ['a', 'Ġ16']\n",
      "operands_base:  ('4', '2', '2')\n",
      "base string tok list:  [133, 898, 9, 155, 1009, 132, 1009, 155, 5457, 504, 4, 20, 898, 9, 204, 1009, 132, 1009, 132, 5457]\n",
      "z_base_tok:  132\n",
      "y_base_tok:  132\n",
      "x_base_tok:  204\n",
      "res base: 12\n",
      "res base wo whitespace: 2\n",
      "res base with prefix: a 12\n",
      "res base tok: ['a', 'Ġ12']\n",
      "operands_base:  ('3', '2', '2')\n",
      "base string tok list:  [133, 898, 9, 132, 1009, 132, 1009, 155, 5457, 316, 4, 20, 898, 9, 155, 1009, 132, 1009, 132, 5457]\n",
      "z_base_tok:  132\n",
      "y_base_tok:  132\n",
      "x_base_tok:  155\n",
      "res base: 12\n",
      "res base wo whitespace: 2\n",
      "res base with prefix: a 12\n",
      "res base tok: ['a', 'Ġ12']\n",
      "operands_base:  ('2', '2', '3')\n",
      "base string tok list:  [133, 898, 9, 132, 1009, 132, 1009, 204, 5457, 545, 4, 20, 898, 9, 132, 1009, 132, 1009, 155, 5457]\n",
      "z_base_tok:  155\n",
      "y_base_tok:  132\n",
      "x_base_tok:  132\n",
      "res base: 16\n",
      "res base wo whitespace: 6\n",
      "res base with prefix: a 16\n",
      "res base tok: ['a', 'Ġ16']\n",
      "operands_base:  ('2', '2', '4')\n",
      "base string tok list:  [133, 898, 9, 132, 1009, 155, 1009, 132, 5457, 316, 4, 20, 898, 9, 132, 1009, 132, 1009, 204, 5457]\n",
      "z_base_tok:  204\n",
      "y_base_tok:  132\n",
      "x_base_tok:  132\n",
      "res base: 18\n",
      "res base wo whitespace: 8\n",
      "res base with prefix: a 18\n",
      "res base tok: ['a', 'Ġ18']\n",
      "operands_base:  ('3', '3', '2')\n",
      "base string tok list:  [133, 898, 9, 132, 1009, 155, 1009, 132, 5457, 316, 4, 20, 898, 9, 155, 1009, 155, 1009, 132, 5457]\n",
      "z_base_tok:  132\n",
      "y_base_tok:  155\n",
      "x_base_tok:  155\n",
      "res base: 18\n",
      "res base wo whitespace: 8\n",
      "res base with prefix: a 18\n",
      "res base tok: ['a', 'Ġ18']\n",
      "operands_base:  ('2', '3', '3')\n",
      "base string tok list:  [133, 898, 9, 155, 1009, 155, 1009, 132, 5457, 504, 4, 20, 898, 9, 132, 1009, 155, 1009, 155, 5457]\n",
      "z_base_tok:  155\n",
      "y_base_tok:  155\n",
      "x_base_tok:  132\n",
      "res base: 8\n",
      "res base wo whitespace: \n",
      "res base with prefix: a 8\n",
      "res base tok: ['a', 'Ġ8']\n",
      "operands_base:  ('2', '2', '2')\n",
      "base string tok list:  [133, 898, 9, 204, 1009, 132, 1009, 132, 5457, 545, 4, 20, 898, 9, 132, 1009, 132, 1009, 132, 5457]\n",
      "z_base_tok:  132\n",
      "y_base_tok:  132\n",
      "x_base_tok:  132\n",
      "res base: 18\n",
      "res base wo whitespace: 8\n",
      "res base with prefix: a 18\n",
      "res base tok: ['a', 'Ġ18']\n",
      "operands_base:  ('3', '2', '3')\n",
      "base string tok list:  [133, 898, 9, 204, 1009, 132, 1009, 132, 5457, 545, 4, 20, 898, 9, 155, 1009, 132, 1009, 155, 5457]\n",
      "z_base_tok:  155\n",
      "y_base_tok:  132\n",
      "x_base_tok:  155\n",
      "res base: 12\n",
      "res base wo whitespace: 2\n",
      "res base with prefix: a 12\n",
      "res base tok: ['a', 'Ġ12']\n",
      "operands_base:  ('2', '3', '2')\n",
      "base string tok list:  [133, 898, 9, 132, 1009, 155, 1009, 155, 5457, 504, 4, 20, 898, 9, 132, 1009, 155, 1009, 132, 5457]\n",
      "z_base_tok:  132\n",
      "y_base_tok:  155\n",
      "x_base_tok:  132\n",
      "res base: 8\n",
      "res base wo whitespace: \n",
      "res base with prefix: a 8\n",
      "res base tok: ['a', 'Ġ8']\n",
      "operands_base:  ('2', '2', '2')\n",
      "base string tok list:  [133, 898, 9, 132, 1009, 155, 1009, 132, 5457, 316, 4, 20, 898, 9, 132, 1009, 132, 1009, 132, 5457]\n",
      "z_base_tok:  132\n",
      "y_base_tok:  132\n",
      "x_base_tok:  132\n",
      "res base: 18\n",
      "res base wo whitespace: 8\n",
      "res base with prefix: a 18\n",
      "res base tok: ['a', 'Ġ18']\n",
      "operands_base:  ('2', '3', '3')\n",
      "base string tok list:  [133, 898, 9, 155, 498, 155, 498, 132, 5457, 504, 4, 20, 898, 9, 132, 498, 155, 498, 155, 5457]\n",
      "z_base_tok:  155\n",
      "y_base_tok:  155\n",
      "x_base_tok:  132\n",
      "res base: 16\n",
      "res base wo whitespace: 6\n",
      "res base with prefix: a 16\n",
      "res base tok: ['a', 'Ġ16']\n",
      "operands_base:  ('2', '4', '2')\n",
      "base string tok list:  [133, 898, 9, 155, 498, 155, 498, 132, 5457, 504, 4, 20, 898, 9, 132, 498, 204, 498, 132, 5457]\n",
      "z_base_tok:  132\n",
      "y_base_tok:  204\n",
      "x_base_tok:  132\n",
      "res base: 16\n",
      "res base wo whitespace: 6\n",
      "res base with prefix: a 16\n",
      "res base tok: ['a', 'Ġ16']\n",
      "operands_base:  ('4', '2', '2')\n",
      "base string tok list:  [133, 898, 9, 155, 498, 155, 498, 132, 5457, 504, 4, 20, 898, 9, 204, 498, 132, 498, 132, 5457]\n",
      "z_base_tok:  132\n",
      "y_base_tok:  132\n",
      "x_base_tok:  204\n",
      "res base: 18\n",
      "res base wo whitespace: 8\n",
      "res base with prefix: a 18\n",
      "res base tok: ['a', 'Ġ18']\n",
      "operands_base:  ('3', '3', '2')\n",
      "base string tok list:  [133, 898, 9, 132, 498, 155, 498, 155, 5457, 504, 4, 20, 898, 9, 155, 498, 155, 498, 132, 5457]\n",
      "z_base_tok:  132\n",
      "y_base_tok:  155\n",
      "x_base_tok:  155\n",
      "res base: 12\n",
      "res base wo whitespace: 2\n",
      "res base with prefix: a 12\n",
      "res base tok: ['a', 'Ġ12']\n",
      "operands_base:  ('2', '2', '3')\n",
      "base string tok list:  [133, 898, 9, 132, 498, 204, 498, 132, 5457, 545, 4, 20, 898, 9, 132, 498, 132, 498, 155, 5457]\n",
      "z_base_tok:  155\n",
      "y_base_tok:  132\n",
      "x_base_tok:  132\n",
      "res base: 12\n",
      "res base wo whitespace: 2\n",
      "res base with prefix: a 12\n",
      "res base tok: ['a', 'Ġ12']\n",
      "operands_base:  ('2', '3', '2')\n",
      "base string tok list:  [133, 898, 9, 132, 498, 132, 498, 204, 5457, 545, 4, 20, 898, 9, 132, 498, 155, 498, 132, 5457]\n",
      "z_base_tok:  132\n",
      "y_base_tok:  155\n",
      "x_base_tok:  132\n",
      "res base: 12\n",
      "res base wo whitespace: 2\n",
      "res base with prefix: a 12\n",
      "res base tok: ['a', 'Ġ12']\n",
      "operands_base:  ('2', '3', '2')\n",
      "base string tok list:  [133, 898, 9, 132, 498, 132, 498, 132, 5457, 290, 4, 20, 898, 9, 132, 498, 155, 498, 132, 5457]\n",
      "z_base_tok:  132\n",
      "y_base_tok:  155\n",
      "x_base_tok:  132\n",
      "res base: 16\n",
      "res base wo whitespace: 6\n",
      "res base with prefix: a 16\n",
      "res base tok: ['a', 'Ġ16']\n",
      "operands_base:  ('2', '4', '2')\n",
      "base string tok list:  [133, 898, 9, 155, 498, 155, 498, 132, 5457, 504, 4, 20, 898, 9, 132, 498, 204, 498, 132, 5457]\n",
      "z_base_tok:  132\n",
      "y_base_tok:  204\n",
      "x_base_tok:  132\n",
      "res base: 16\n",
      "res base wo whitespace: 6\n",
      "res base with prefix: a 16\n",
      "res base tok: ['a', 'Ġ16']\n",
      "operands_base:  ('4', '2', '2')\n",
      "base string tok list:  [133, 898, 9, 155, 498, 132, 498, 132, 5457, 316, 4, 20, 898, 9, 204, 498, 132, 498, 132, 5457]\n",
      "z_base_tok:  132\n",
      "y_base_tok:  132\n",
      "x_base_tok:  204\n",
      "res base: 18\n",
      "res base wo whitespace: 8\n",
      "res base with prefix: a 18\n",
      "res base tok: ['a', 'Ġ18']\n",
      "operands_base:  ('2', '3', '3')\n",
      "base string tok list:  [133, 898, 9, 132, 498, 155, 498, 132, 5457, 316, 4, 20, 898, 9, 132, 498, 155, 498, 155, 5457]\n",
      "z_base_tok:  155\n",
      "y_base_tok:  155\n",
      "x_base_tok:  132\n",
      "res base: 16\n",
      "res base wo whitespace: 6\n",
      "res base with prefix: a 16\n",
      "res base tok: ['a', 'Ġ16']\n",
      "operands_base:  ('2', '2', '4')\n",
      "base string tok list:  [133, 898, 9, 132, 498, 155, 498, 132, 5457, 316, 4, 20, 898, 9, 132, 498, 132, 498, 204, 5457]\n",
      "z_base_tok:  204\n",
      "y_base_tok:  132\n",
      "x_base_tok:  132\n",
      "res base: 18\n",
      "res base wo whitespace: 8\n",
      "res base with prefix: a 18\n",
      "res base tok: ['a', 'Ġ18']\n",
      "operands_base:  ('3', '2', '3')\n",
      "base string tok list:  [133, 898, 9, 132, 498, 204, 498, 132, 5457, 545, 4, 20, 898, 9, 155, 498, 132, 498, 155, 5457]\n",
      "z_base_tok:  155\n",
      "y_base_tok:  132\n",
      "x_base_tok:  155\n",
      "res base: 12\n",
      "res base wo whitespace: 2\n",
      "res base with prefix: a 12\n",
      "res base tok: ['a', 'Ġ12']\n",
      "operands_base:  ('3', '2', '2')\n",
      "base string tok list:  [133, 898, 9, 155, 498, 155, 498, 132, 5457, 504, 4, 20, 898, 9, 155, 498, 132, 498, 132, 5457]\n",
      "z_base_tok:  132\n",
      "y_base_tok:  132\n",
      "x_base_tok:  155\n",
      "res base: 16\n",
      "res base wo whitespace: 6\n",
      "res base with prefix: a 16\n",
      "res base tok: ['a', 'Ġ16']\n",
      "operands_base:  ('2', '4', '2')\n",
      "base string tok list:  [133, 898, 9, 155, 498, 132, 498, 155, 5457, 504, 4, 20, 898, 9, 132, 498, 204, 498, 132, 5457]\n",
      "z_base_tok:  132\n",
      "y_base_tok:  204\n",
      "x_base_tok:  132\n",
      "res base: 18\n",
      "res base wo whitespace: 8\n",
      "res base with prefix: a 18\n",
      "res base tok: ['a', 'Ġ18']\n",
      "operands_base:  ('3', '3', '2')\n",
      "base string tok list:  [133, 898, 9, 132, 498, 204, 498, 132, 5457, 545, 4, 20, 898, 9, 155, 498, 155, 498, 132, 5457]\n",
      "z_base_tok:  132\n",
      "y_base_tok:  155\n",
      "x_base_tok:  155\n",
      "res base: 12\n",
      "res base wo whitespace: 2\n",
      "res base with prefix: a 12\n",
      "res base tok: ['a', 'Ġ12']\n",
      "operands_base:  ('2', '3', '2')\n",
      "base string tok list:  [133, 898, 9, 132, 498, 155, 498, 155, 5457, 504, 4, 20, 898, 9, 132, 498, 155, 498, 132, 5457]\n",
      "z_base_tok:  132\n",
      "y_base_tok:  155\n",
      "x_base_tok:  132\n",
      "res base: 8\n",
      "res base wo whitespace: \n",
      "res base with prefix: a 8\n",
      "res base tok: ['a', 'Ġ8']\n",
      "operands_base:  ('2', '2', '2')\n",
      "base string tok list:  [133, 898, 9, 132, 498, 204, 498, 132, 5457, 545, 4, 20, 898, 9, 132, 498, 132, 498, 132, 5457]\n",
      "z_base_tok:  132\n",
      "y_base_tok:  132\n",
      "x_base_tok:  132\n",
      "res base: 16\n",
      "res base wo whitespace: 6\n",
      "res base with prefix: a 16\n",
      "res base tok: ['a', 'Ġ16']\n",
      "operands_base:  ('2', '2', '4')\n",
      "base string tok list:  [133, 898, 9, 132, 498, 132, 498, 132, 5457, 290, 4, 20, 898, 9, 132, 498, 132, 498, 204, 5457]\n",
      "z_base_tok:  204\n",
      "y_base_tok:  132\n",
      "x_base_tok:  132\n",
      "res base: 16\n",
      "res base wo whitespace: 6\n",
      "res base with prefix: a 16\n",
      "res base tok: ['a', 'Ġ16']\n",
      "operands_base:  ('2', '4', '2')\n",
      "base string tok list:  [133, 898, 9, 132, 498, 155, 498, 132, 5457, 316, 4, 20, 898, 9, 132, 498, 204, 498, 132, 5457]\n",
      "z_base_tok:  132\n",
      "y_base_tok:  204\n",
      "x_base_tok:  132\n",
      "res base: 16\n",
      "res base wo whitespace: 6\n",
      "res base with prefix: a 16\n",
      "res base tok: ['a', 'Ġ16']\n",
      "operands_base:  ('4', '2', '2')\n",
      "base string tok list:  [133, 898, 9, 132, 498, 132, 498, 132, 5457, 290, 4, 20, 898, 9, 204, 498, 132, 498, 132, 5457]\n",
      "z_base_tok:  132\n",
      "y_base_tok:  132\n",
      "x_base_tok:  204\n",
      "res base: 18\n",
      "res base wo whitespace: 8\n",
      "res base with prefix: a 18\n",
      "res base tok: ['a', 'Ġ18']\n",
      "operands_base:  ('3', '2', '3')\n",
      "base string tok list:  [133, 898, 9, 155, 498, 132, 498, 155, 5457, 504, 4, 20, 898, 9, 155, 498, 132, 498, 155, 5457]\n",
      "z_base_tok:  155\n",
      "y_base_tok:  132\n",
      "x_base_tok:  155\n",
      "res base: 18\n",
      "res base wo whitespace: 8\n",
      "res base with prefix: a 18\n",
      "res base tok: ['a', 'Ġ18']\n",
      "operands_base:  ('2', '3', '3')\n",
      "base string tok list:  [133, 898, 9, 132, 498, 132, 498, 155, 5457, 316, 4, 20, 898, 9, 132, 498, 155, 498, 155, 5457]\n",
      "z_base_tok:  155\n",
      "y_base_tok:  155\n",
      "x_base_tok:  132\n",
      "res base: 16\n",
      "res base wo whitespace: 6\n",
      "res base with prefix: a 16\n",
      "res base tok: ['a', 'Ġ16']\n",
      "operands_base:  ('4', '2', '2')\n",
      "base string tok list:  [133, 898, 9, 132, 498, 204, 498, 132, 5457, 545, 4, 20, 898, 9, 204, 498, 132, 498, 132, 5457]\n",
      "z_base_tok:  132\n",
      "y_base_tok:  132\n",
      "x_base_tok:  204\n",
      "res base: 16\n",
      "res base wo whitespace: 6\n",
      "res base with prefix: a 16\n",
      "res base tok: ['a', 'Ġ16']\n",
      "operands_base:  ('4', '2', '2')\n",
      "base string tok list:  [133, 898, 9, 132, 498, 132, 498, 132, 5457, 290, 4, 20, 898, 9, 204, 498, 132, 498, 132, 5457]\n",
      "z_base_tok:  132\n",
      "y_base_tok:  132\n",
      "x_base_tok:  204\n",
      "res base: 18\n",
      "res base wo whitespace: 8\n",
      "res base with prefix: a 18\n",
      "res base tok: ['a', 'Ġ18']\n",
      "operands_base:  ('2', '3', '3')\n",
      "base string tok list:  [133, 898, 9, 132, 498, 132, 498, 204, 5457, 545, 4, 20, 898, 9, 132, 498, 155, 498, 155, 5457]\n",
      "z_base_tok:  155\n",
      "y_base_tok:  155\n",
      "x_base_tok:  132\n",
      "res base: 8\n",
      "res base wo whitespace: \n",
      "res base with prefix: a 8\n",
      "res base tok: ['a', 'Ġ8']\n",
      "operands_base:  ('2', '2', '2')\n",
      "base string tok list:  [133, 898, 9, 132, 498, 132, 498, 155, 5457, 316, 4, 20, 898, 9, 132, 498, 132, 498, 132, 5457]\n",
      "z_base_tok:  132\n",
      "y_base_tok:  132\n",
      "x_base_tok:  132\n",
      "res base: 16\n",
      "res base wo whitespace: 6\n",
      "res base with prefix: a 16\n",
      "res base tok: ['a', 'Ġ16']\n",
      "operands_base:  ('2', '4', '2')\n",
      "base string tok list:  [133, 898, 9, 155, 498, 132, 498, 155, 5457, 504, 4, 20, 898, 9, 132, 498, 204, 498, 132, 5457]\n",
      "z_base_tok:  132\n",
      "y_base_tok:  204\n",
      "x_base_tok:  132\n",
      "res base: 16\n",
      "res base wo whitespace: 6\n",
      "res base with prefix: a 16\n",
      "res base tok: ['a', 'Ġ16']\n",
      "operands_base:  ('2', '4', '2')\n",
      "base string tok list:  [133, 898, 9, 132, 498, 132, 498, 155, 5457, 316, 4, 20, 898, 9, 132, 498, 204, 498, 132, 5457]\n",
      "z_base_tok:  132\n",
      "y_base_tok:  204\n",
      "x_base_tok:  132\n",
      "res base: 16\n",
      "res base wo whitespace: 6\n",
      "res base with prefix: a 16\n",
      "res base tok: ['a', 'Ġ16']\n",
      "operands_base:  ('2', '2', '4')\n",
      "base string tok list:  [133, 898, 9, 132, 498, 132, 498, 132, 5457, 290, 4, 20, 898, 9, 132, 498, 132, 498, 204, 5457]\n",
      "z_base_tok:  204\n",
      "y_base_tok:  132\n",
      "x_base_tok:  132\n",
      "res base: 18\n",
      "res base wo whitespace: 8\n",
      "res base with prefix: a 18\n",
      "res base tok: ['a', 'Ġ18']\n",
      "operands_base:  ('2', '3', '3')\n",
      "base string tok list:  [133, 898, 9, 155, 498, 132, 498, 155, 5457, 504, 4, 20, 898, 9, 132, 498, 155, 498, 155, 5457]\n",
      "z_base_tok:  155\n",
      "y_base_tok:  155\n",
      "x_base_tok:  132\n",
      "res base: 18\n",
      "res base wo whitespace: 8\n",
      "res base with prefix: a 18\n",
      "res base tok: ['a', 'Ġ18']\n",
      "operands_base:  ('2', '3', '3')\n",
      "base string tok list:  [246, 1009, 132, 1009, 132, 5457, 316, 4, 132, 1009, 155, 1009, 155, 5457]\n",
      "z_base_tok:  155\n",
      "y_base_tok:  155\n",
      "x_base_tok:  132\n",
      "res base: 12\n",
      "res base wo whitespace: 2\n",
      "res base with prefix: a 12\n",
      "res base tok: ['a', 'Ġ12']\n",
      "operands_base:  ('2', '2', '3')\n",
      "base string tok list:  [176, 1009, 132, 1009, 132, 5457, 290, 4, 132, 1009, 132, 1009, 155, 5457]\n",
      "z_base_tok:  155\n",
      "y_base_tok:  132\n",
      "x_base_tok:  132\n",
      "res base: 12\n",
      "res base wo whitespace: 2\n",
      "res base with prefix: a 12\n",
      "res base tok: ['a', 'Ġ12']\n",
      "operands_base:  ('2', '2', '3')\n",
      "base string tok list:  [176, 1009, 132, 1009, 155, 5457, 316, 4, 132, 1009, 132, 1009, 155, 5457]\n",
      "z_base_tok:  155\n",
      "y_base_tok:  132\n",
      "x_base_tok:  132\n",
      "res base: 8\n",
      "res base wo whitespace: \n",
      "res base with prefix: a 8\n",
      "res base tok: ['a', 'Ġ8']\n",
      "operands_base:  ('2', '2', '2')\n",
      "base string tok list:  [176, 1009, 132, 1009, 204, 5457, 545, 4, 132, 1009, 132, 1009, 132, 5457]\n",
      "z_base_tok:  132\n",
      "y_base_tok:  132\n",
      "x_base_tok:  132\n",
      "res base: 12\n",
      "res base wo whitespace: 2\n",
      "res base with prefix: a 12\n",
      "res base tok: ['a', 'Ġ12']\n",
      "operands_base:  ('2', '3', '2')\n",
      "base string tok list:  [176, 1009, 132, 1009, 132, 5457, 290, 4, 132, 1009, 155, 1009, 132, 5457]\n",
      "z_base_tok:  132\n",
      "y_base_tok:  155\n",
      "x_base_tok:  132\n",
      "res base: 12\n",
      "res base wo whitespace: 2\n",
      "res base with prefix: a 12\n",
      "res base tok: ['a', 'Ġ12']\n",
      "operands_base:  ('2', '3', '2')\n",
      "base string tok list:  [306, 1009, 132, 1009, 132, 5457, 545, 4, 132, 1009, 155, 1009, 132, 5457]\n",
      "z_base_tok:  132\n",
      "y_base_tok:  155\n",
      "x_base_tok:  132\n",
      "res base: 18\n",
      "res base wo whitespace: 8\n",
      "res base with prefix: a 18\n",
      "res base tok: ['a', 'Ġ18']\n",
      "operands_base:  ('2', '3', '3')\n",
      "base string tok list:  [176, 1009, 132, 1009, 132, 5457, 290, 4, 132, 1009, 155, 1009, 155, 5457]\n",
      "z_base_tok:  155\n",
      "y_base_tok:  155\n",
      "x_base_tok:  132\n",
      "res base: 18\n",
      "res base wo whitespace: 8\n",
      "res base with prefix: a 18\n",
      "res base tok: ['a', 'Ġ18']\n",
      "operands_base:  ('2', '3', '3')\n",
      "base string tok list:  [176, 1009, 132, 1009, 204, 5457, 545, 4, 132, 1009, 155, 1009, 155, 5457]\n",
      "z_base_tok:  155\n",
      "y_base_tok:  155\n",
      "x_base_tok:  132\n",
      "res base: 16\n",
      "res base wo whitespace: 6\n",
      "res base with prefix: a 16\n",
      "res base tok: ['a', 'Ġ16']\n",
      "operands_base:  ('2', '4', '2')\n",
      "base string tok list:  [176, 1009, 132, 1009, 155, 5457, 316, 4, 132, 1009, 204, 1009, 132, 5457]\n",
      "z_base_tok:  132\n",
      "y_base_tok:  204\n",
      "x_base_tok:  132\n",
      "res base: 18\n",
      "res base wo whitespace: 8\n",
      "res base with prefix: a 18\n",
      "res base tok: ['a', 'Ġ18']\n",
      "operands_base:  ('2', '3', '3')\n",
      "base string tok list:  [246, 1009, 155, 1009, 132, 5457, 504, 4, 132, 1009, 155, 1009, 155, 5457]\n",
      "z_base_tok:  155\n",
      "y_base_tok:  155\n",
      "x_base_tok:  132\n",
      "res base: 16\n",
      "res base wo whitespace: 6\n",
      "res base with prefix: a 16\n",
      "res base tok: ['a', 'Ġ16']\n",
      "operands_base:  ('2', '2', '4')\n",
      "base string tok list:  [246, 1009, 132, 1009, 132, 5457, 316, 4, 132, 1009, 132, 1009, 204, 5457]\n",
      "z_base_tok:  204\n",
      "y_base_tok:  132\n",
      "x_base_tok:  132\n",
      "res base: 12\n",
      "res base wo whitespace: 2\n",
      "res base with prefix: a 12\n",
      "res base tok: ['a', 'Ġ12']\n",
      "operands_base:  ('3', '2', '2')\n",
      "base string tok list:  [176, 1009, 155, 1009, 155, 5457, 504, 4, 155, 1009, 132, 1009, 132, 5457]\n",
      "z_base_tok:  132\n",
      "y_base_tok:  132\n",
      "x_base_tok:  155\n",
      "res base: 16\n",
      "res base wo whitespace: 6\n",
      "res base with prefix: a 16\n",
      "res base tok: ['a', 'Ġ16']\n",
      "operands_base:  ('2', '2', '4')\n",
      "base string tok list:  [176, 1009, 132, 1009, 204, 5457, 545, 4, 132, 1009, 132, 1009, 204, 5457]\n",
      "z_base_tok:  204\n",
      "y_base_tok:  132\n",
      "x_base_tok:  132\n",
      "res base: 16\n",
      "res base wo whitespace: 6\n",
      "res base with prefix: a 16\n",
      "res base tok: ['a', 'Ġ16']\n",
      "operands_base:  ('2', '2', '4')\n",
      "base string tok list:  [176, 1009, 204, 1009, 132, 5457, 545, 4, 132, 1009, 132, 1009, 204, 5457]\n",
      "z_base_tok:  204\n",
      "y_base_tok:  132\n",
      "x_base_tok:  132\n",
      "res base: 18\n",
      "res base wo whitespace: 8\n",
      "res base with prefix: a 18\n",
      "res base tok: ['a', 'Ġ18']\n",
      "operands_base:  ('3', '3', '2')\n",
      "base string tok list:  [176, 1009, 132, 1009, 132, 5457, 290, 4, 155, 1009, 155, 1009, 132, 5457]\n",
      "z_base_tok:  132\n",
      "y_base_tok:  155\n",
      "x_base_tok:  155\n"
     ]
    },
    {
     "name": "stderr",
     "output_type": "stream",
     "text": [
      "\n",
      "\u001b[A"
     ]
    },
    {
     "name": "stdout",
     "output_type": "stream",
     "text": [
      "res base: 12\n",
      "res base wo whitespace: 2\n",
      "res base with prefix: a 12\n",
      "res base tok: ['a', 'Ġ12']\n",
      "operands_base:  ('2', '2', '3')\n",
      "base string tok list:  [176, 1009, 155, 1009, 155, 5457, 504, 4, 132, 1009, 132, 1009, 155, 5457]\n",
      "z_base_tok:  155\n",
      "y_base_tok:  132\n",
      "x_base_tok:  132\n",
      "res base: 16\n",
      "res base wo whitespace: 6\n",
      "res base with prefix: a 16\n",
      "res base tok: ['a', 'Ġ16']\n",
      "operands_base:  ('2', '4', '2')\n",
      "base string tok list:  [176, 1009, 155, 1009, 155, 5457, 504, 4, 132, 1009, 204, 1009, 132, 5457]\n",
      "z_base_tok:  132\n",
      "y_base_tok:  204\n",
      "x_base_tok:  132\n",
      "res base: 18\n",
      "res base wo whitespace: 8\n",
      "res base with prefix: a 18\n",
      "res base tok: ['a', 'Ġ18']\n",
      "operands_base:  ('2', '3', '3')\n",
      "base string tok list:  [306, 1009, 132, 1009, 132, 5457, 545, 4, 132, 1009, 155, 1009, 155, 5457]\n",
      "z_base_tok:  155\n",
      "y_base_tok:  155\n",
      "x_base_tok:  132\n",
      "res base: 16\n",
      "res base wo whitespace: 6\n",
      "res base with prefix: a 16\n",
      "res base tok: ['a', 'Ġ16']\n",
      "operands_base:  ('4', '2', '2')\n",
      "base string tok list:  [176, 1009, 132, 1009, 204, 5457, 545, 4, 204, 1009, 132, 1009, 132, 5457]\n",
      "z_base_tok:  132\n",
      "y_base_tok:  132\n",
      "x_base_tok:  204\n",
      "res base: 18\n",
      "res base wo whitespace: 8\n",
      "res base with prefix: a 18\n",
      "res base tok: ['a', 'Ġ18']\n",
      "operands_base:  ('3', '2', '3')\n",
      "base string tok list:  [176, 1009, 204, 1009, 132, 5457, 545, 4, 155, 1009, 132, 1009, 155, 5457]\n",
      "z_base_tok:  155\n",
      "y_base_tok:  132\n",
      "x_base_tok:  155\n",
      "res base: 12\n",
      "res base wo whitespace: 2\n",
      "res base with prefix: a 12\n",
      "res base tok: ['a', 'Ġ12']\n",
      "operands_base:  ('2', '2', '3')\n",
      "base string tok list:  [246, 1009, 155, 1009, 132, 5457, 504, 4, 132, 1009, 132, 1009, 155, 5457]\n",
      "z_base_tok:  155\n",
      "y_base_tok:  132\n",
      "x_base_tok:  132\n",
      "res base: 12\n",
      "res base wo whitespace: 2\n",
      "res base with prefix: a 12\n",
      "res base tok: ['a', 'Ġ12']\n",
      "operands_base:  ('2', '3', '2')\n",
      "base string tok list:  [176, 1009, 132, 1009, 132, 5457, 290, 4, 132, 1009, 155, 1009, 132, 5457]\n",
      "z_base_tok:  132\n",
      "y_base_tok:  155\n",
      "x_base_tok:  132\n",
      "res base: 18\n",
      "res base wo whitespace: 8\n",
      "res base with prefix: a 18\n",
      "res base tok: ['a', 'Ġ18']\n",
      "operands_base:  ('3', '3', '2')\n",
      "base string tok list:  [176, 1009, 155, 1009, 155, 5457, 504, 4, 155, 1009, 155, 1009, 132, 5457]\n",
      "z_base_tok:  132\n",
      "y_base_tok:  155\n",
      "x_base_tok:  155\n",
      "res base: 18\n",
      "res base wo whitespace: 8\n",
      "res base with prefix: a 18\n",
      "res base tok: ['a', 'Ġ18']\n",
      "operands_base:  ('2', '3', '3')\n",
      "base string tok list:  [246, 1009, 155, 1009, 132, 5457, 504, 4, 132, 1009, 155, 1009, 155, 5457]\n",
      "z_base_tok:  155\n",
      "y_base_tok:  155\n",
      "x_base_tok:  132\n",
      "res base: 16\n",
      "res base wo whitespace: 6\n",
      "res base with prefix: a 16\n",
      "res base tok: ['a', 'Ġ16']\n",
      "operands_base:  ('4', '2', '2')\n",
      "base string tok list:  [176, 1009, 204, 1009, 132, 5457, 545, 4, 204, 1009, 132, 1009, 132, 5457]\n",
      "z_base_tok:  132\n",
      "y_base_tok:  132\n",
      "x_base_tok:  204\n",
      "res base: 18\n",
      "res base wo whitespace: 8\n",
      "res base with prefix: a 18\n",
      "res base tok: ['a', 'Ġ18']\n",
      "operands_base:  ('3', '2', '3')\n",
      "base string tok list:  [176, 1009, 132, 1009, 204, 5457, 545, 4, 155, 1009, 132, 1009, 155, 5457]\n",
      "z_base_tok:  155\n",
      "y_base_tok:  132\n",
      "x_base_tok:  155\n"
     ]
    },
    {
     "name": "stderr",
     "output_type": "stream",
     "text": [
      "\n",
      "100%|█████████████████████████████████████████████████████████████████████████████████████████████████████████████████████████████████████████████████████████████████████████████████████████████████████████████████████████████| 210/210 [00:01<00:00, 158.30it/s]"
     ]
    },
    {
     "name": "stdout",
     "output_type": "stream",
     "text": [
      "res base: 18\n",
      "res base wo whitespace: 8\n",
      "res base with prefix: a 18\n",
      "res base tok: ['a', 'Ġ18']\n",
      "operands_base:  ('2', '3', '3')\n",
      "base string tok list:  [246, 1009, 132, 1009, 132, 5457, 316, 4, 132, 1009, 155, 1009, 155, 5457]\n",
      "z_base_tok:  155\n",
      "y_base_tok:  155\n",
      "x_base_tok:  132\n",
      "res base: 12\n",
      "res base wo whitespace: 2\n",
      "res base with prefix: a 12\n",
      "res base tok: ['a', 'Ġ12']\n",
      "operands_base:  ('2', '2', '3')\n",
      "base string tok list:  [176, 1009, 132, 1009, 204, 5457, 545, 4, 132, 1009, 132, 1009, 155, 5457]\n",
      "z_base_tok:  155\n",
      "y_base_tok:  132\n",
      "x_base_tok:  132\n",
      "res base: 16\n",
      "res base wo whitespace: 6\n",
      "res base with prefix: a 16\n",
      "res base tok: ['a', 'Ġ16']\n",
      "operands_base:  ('4', '2', '2')\n",
      "base string tok list:  [176, 1009, 155, 1009, 155, 5457, 504, 4, 204, 1009, 132, 1009, 132, 5457]\n",
      "z_base_tok:  132\n",
      "y_base_tok:  132\n",
      "x_base_tok:  204\n",
      "res base: 16\n",
      "res base wo whitespace: 6\n",
      "res base with prefix: a 16\n",
      "res base tok: ['a', 'Ġ16']\n",
      "operands_base:  ('2', '4', '2')\n",
      "base string tok list:  [176, 1009, 132, 1009, 155, 5457, 316, 4, 132, 1009, 204, 1009, 132, 5457]\n",
      "z_base_tok:  132\n",
      "y_base_tok:  204\n",
      "x_base_tok:  132\n",
      "res base: 3\n",
      "res base wo whitespace: \n",
      "res base with prefix: a 3\n",
      "res base tok: ['a', 'Ġ3']\n",
      "operands_base:  ('6', '5', '3')\n",
      "base string tok list:  [133, 898, 9, 36, 504, 111, 601, 4839, 1009, 231, 5457, 231, 4, 20, 898, 9, 36, 231, 111, 195, 4839, 1009, 155, 5457]\n",
      "z_base_tok:  155\n",
      "y_base_tok:  195\n",
      "x_base_tok:  231\n",
      "res base: 3\n",
      "res base wo whitespace: \n",
      "res base with prefix: a 3\n",
      "res base tok: ['a', 'Ġ3']\n",
      "operands_base:  ('8', '7', '3')\n",
      "base string tok list:  [133, 898, 9, 36, 158, 111, 290, 4839, 1009, 155, 5457, 231, 4, 20, 898, 9, 36, 290, 111, 262, 4839, 1009, 155, 5457]\n",
      "z_base_tok:  155\n",
      "y_base_tok:  262\n",
      "x_base_tok:  290\n",
      "res base: 16\n",
      "res base wo whitespace: 6\n",
      "res base with prefix: a 16\n",
      "res base tok: ['a', 'Ġ16']\n",
      "operands_base:  ('20', '19', '16')\n",
      "base string tok list:  [133, 898, 9, 36, 155, 111, 132, 4839, 1009, 545, 5457, 545, 4, 20, 898, 9, 36, 291, 111, 753, 4839, 1009, 545, 5457]\n",
      "z_base_tok:  545\n",
      "y_base_tok:  753\n",
      "x_base_tok:  291\n",
      "res base: 10\n",
      "res base wo whitespace: 0\n",
      "res base with prefix: a 10\n",
      "res base tok: ['a', 'Ġ10']\n",
      "operands_base:  ('4', '3', '10')\n",
      "base string tok list:  [133, 898, 9, 36, 195, 111, 132, 4839, 1009, 155, 5457, 361, 4, 20, 898, 9, 36, 204, 111, 155, 4839, 1009, 158, 5457]\n",
      "z_base_tok:  158\n",
      "y_base_tok:  155\n",
      "x_base_tok:  204\n",
      "res base: 16\n",
      "res base wo whitespace: 6\n",
      "res base with prefix: a 16\n",
      "res base tok: ['a', 'Ġ16']\n",
      "operands_base:  ('18', '14', '4')\n",
      "base string tok list:  [133, 898, 9, 36, 291, 111, 379, 4839, 1009, 132, 5457, 158, 4, 20, 898, 9, 36, 504, 111, 501, 4839, 1009, 204, 5457]\n",
      "z_base_tok:  204\n",
      "y_base_tok:  501\n",
      "x_base_tok:  504\n",
      "res base: 14\n",
      "res base wo whitespace: 4\n",
      "res base with prefix: a 14\n",
      "res base tok: ['a', 'Ġ14']\n",
      "operands_base:  ('6', '5', '14')\n",
      "base string tok list:  [133, 898, 9, 36, 291, 111, 753, 4839, 1009, 231, 5457, 231, 4, 20, 898, 9, 36, 231, 111, 195, 4839, 1009, 501, 5457]\n",
      "z_base_tok:  501\n",
      "y_base_tok:  195\n",
      "x_base_tok:  231\n",
      "res base: 4\n",
      "res base wo whitespace: \n",
      "res base with prefix: a 4\n",
      "res base tok: ['a', 'Ġ4']\n",
      "operands_base:  ('10', '9', '4')\n",
      "base string tok list:  [133, 898, 9, 36, 545, 111, 508, 4839, 1009, 132, 5457, 231, 4, 20, 898, 9, 36, 158, 111, 361, 4839, 1009, 204, 5457]\n",
      "z_base_tok:  204\n",
      "y_base_tok:  361\n",
      "x_base_tok:  158\n",
      "res base: 2\n",
      "res base wo whitespace: \n",
      "res base with prefix: a 2\n",
      "res base tok: ['a', 'Ġ2']\n",
      "operands_base:  ('13', '12', '2')\n",
      "base string tok list:  [133, 898, 9, 36, 361, 111, 290, 4839, 1009, 361, 5457, 361, 4, 20, 898, 9, 36, 508, 111, 316, 4839, 1009, 132, 5457]\n",
      "z_base_tok:  132\n",
      "y_base_tok:  316\n",
      "x_base_tok:  508\n",
      "res base: 10\n",
      "res base wo whitespace: 0\n",
      "res base with prefix: a 10\n",
      "res base tok: ['a', 'Ġ10']\n",
      "operands_base:  ('19', '17', '5')\n",
      "base string tok list:  [133, 898, 9, 36, 158, 111, 361, 4839, 1009, 504, 5457, 504, 4, 20, 898, 9, 36, 753, 111, 601, 4839, 1009, 195, 5457]\n",
      "z_base_tok:  195\n",
      "y_base_tok:  601\n",
      "x_base_tok:  753\n",
      "res base: 6\n",
      "res base wo whitespace: \n",
      "res base with prefix: a 6\n",
      "res base tok: ['a', 'Ġ6']\n",
      "operands_base:  ('8', '7', '6')\n",
      "base string tok list:  [133, 898, 9, 36, 290, 111, 231, 4839, 1009, 155, 5457, 231, 4, 20, 898, 9, 36, 290, 111, 262, 4839, 1009, 231, 5457]\n",
      "z_base_tok:  231\n",
      "y_base_tok:  262\n",
      "x_base_tok:  290\n",
      "res base: 18\n",
      "res base wo whitespace: 8\n",
      "res base with prefix: a 18\n",
      "res base tok: ['a', 'Ġ18']\n",
      "operands_base:  ('3', '2', '18')\n",
      "base string tok list:  [133, 898, 9, 36, 545, 111, 501, 4839, 1009, 262, 5457, 501, 4, 20, 898, 9, 36, 155, 111, 132, 4839, 1009, 504, 5457]\n",
      "z_base_tok:  504\n",
      "y_base_tok:  132\n",
      "x_base_tok:  155\n",
      "res base: 12\n",
      "res base wo whitespace: 2\n",
      "res base with prefix: a 12\n",
      "res base tok: ['a', 'Ġ12']\n",
      "operands_base:  ('11', '9', '6')\n",
      "base string tok list:  [133, 898, 9, 36, 365, 111, 290, 4839, 1009, 195, 5457, 379, 4, 20, 898, 9, 36, 365, 111, 361, 4839, 1009, 231, 5457]\n",
      "z_base_tok:  231\n",
      "y_base_tok:  361\n",
      "x_base_tok:  365\n",
      "res base: 17\n",
      "res base wo whitespace: 7\n",
      "res base with prefix: a 17\n",
      "res base tok: ['a', 'Ġ17']\n",
      "operands_base:  ('10', '9', '17')\n",
      "base string tok list:  [133, 898, 9, 36, 545, 111, 379, 4839, 1009, 204, 5457, 204, 4, 20, 898, 9, 36, 158, 111, 361, 4839, 1009, 601, 5457]\n",
      "z_base_tok:  601\n",
      "y_base_tok:  361\n",
      "x_base_tok:  158\n",
      "res base: 12\n",
      "res base wo whitespace: 2\n",
      "res base with prefix: a 12\n",
      "res base tok: ['a', 'Ġ12']\n",
      "operands_base:  ('13', '7', '2')\n",
      "base string tok list:  [133, 898, 9, 36, 204, 111, 132, 4839, 1009, 155, 5457, 231, 4, 20, 898, 9, 36, 508, 111, 262, 4839, 1009, 132, 5457]\n",
      "z_base_tok:  132\n",
      "y_base_tok:  262\n",
      "x_base_tok:  508\n",
      "res base: 6\n",
      "res base wo whitespace: \n",
      "res base with prefix: a 6\n",
      "res base tok: ['a', 'Ġ6']\n",
      "operands_base:  ('15', '12', '2')\n",
      "base string tok list:  [133, 898, 9, 36, 508, 111, 316, 4839, 1009, 290, 5457, 290, 4, 20, 898, 9, 36, 379, 111, 316, 4839, 1009, 132, 5457]\n",
      "z_base_tok:  132\n",
      "y_base_tok:  316\n",
      "x_base_tok:  379\n",
      "res base: 6\n",
      "res base wo whitespace: \n",
      "res base with prefix: a 6\n",
      "res base tok: ['a', 'Ġ6']\n",
      "operands_base:  ('15', '14', '6')\n",
      "base string tok list:  [133, 898, 9, 36, 231, 111, 155, 4839, 1009, 155, 5457, 361, 4, 20, 898, 9, 36, 379, 111, 501, 4839, 1009, 231, 5457]\n",
      "z_base_tok:  231\n",
      "y_base_tok:  501\n",
      "x_base_tok:  379\n",
      "res base: 14\n",
      "res base wo whitespace: 4\n",
      "res base with prefix: a 14\n",
      "res base tok: ['a', 'Ġ14']\n",
      "operands_base:  ('11', '10', '14')\n",
      "base string tok list:  [133, 898, 9, 36, 365, 111, 158, 4839, 1009, 379, 5457, 379, 4, 20, 898, 9, 36, 365, 111, 158, 4839, 1009, 501, 5457]\n",
      "z_base_tok:  501\n",
      "y_base_tok:  158\n",
      "x_base_tok:  365\n",
      "res base: 12\n",
      "res base wo whitespace: 2\n",
      "res base with prefix: a 12\n",
      "res base tok: ['a', 'Ġ12']\n",
      "operands_base:  ('19', '15', '3')\n",
      "base string tok list:  [133, 898, 9, 36, 231, 111, 195, 4839, 1009, 132, 5457, 132, 4, 20, 898, 9, 36, 753, 111, 379, 4839, 1009, 155, 5457]\n",
      "z_base_tok:  155\n",
      "y_base_tok:  379\n",
      "x_base_tok:  753\n",
      "res base: 16\n",
      "res base wo whitespace: 6\n",
      "res base with prefix: a 16\n",
      "res base tok: ['a', 'Ġ16']\n",
      "operands_base:  ('11', '3', '2')\n",
      "base string tok list:  [133, 898, 9, 36, 361, 111, 290, 4839, 1009, 316, 5457, 316, 4, 20, 898, 9, 36, 365, 111, 155, 4839, 1009, 132, 5457]\n",
      "z_base_tok:  132\n",
      "y_base_tok:  155\n",
      "x_base_tok:  365\n",
      "res base: 15\n",
      "res base wo whitespace: 5\n",
      "res base with prefix: a 15\n",
      "res base tok: ['a', 'Ġ15']\n",
      "operands_base:  ('14', '11', '5')\n",
      "base string tok list:  [133, 898, 9, 36, 545, 111, 290, 4839, 1009, 132, 5457, 545, 4, 20, 898, 9, 36, 501, 111, 365, 4839, 1009, 195, 5457]\n",
      "z_base_tok:  195\n",
      "y_base_tok:  365\n",
      "x_base_tok:  501\n",
      "res base: 16\n",
      "res base wo whitespace: 6\n",
      "res base with prefix: a 16\n",
      "res base tok: ['a', 'Ġ16']\n",
      "operands_base:  ('11', '10', '16')\n",
      "base string tok list:  [133, 898, 9, 36, 316, 111, 158, 4839, 1009, 132, 5457, 204, 4, 20, 898, 9, 36, 365, 111, 158, 4839, 1009, 545, 5457]\n",
      "z_base_tok:  545\n",
      "y_base_tok:  158\n",
      "x_base_tok:  365\n",
      "res base: 4\n",
      "res base wo whitespace: \n",
      "res base with prefix: a 4\n",
      "res base tok: ['a', 'Ġ4']\n",
      "operands_base:  ('19', '17', '2')\n",
      "base string tok list:  [133, 898, 9, 36, 262, 111, 231, 4839, 1009, 365, 5457, 365, 4, 20, 898, 9, 36, 753, 111, 601, 4839, 1009, 132, 5457]\n",
      "z_base_tok:  132\n",
      "y_base_tok:  601\n",
      "x_base_tok:  753\n",
      "res base: 6\n",
      "res base wo whitespace: \n",
      "res base with prefix: a 6\n",
      "res base tok: ['a', 'Ġ6']\n",
      "operands_base:  ('9', '6', '2')\n",
      "base string tok list:  [133, 898, 9, 36, 379, 111, 508, 4839, 1009, 132, 5457, 204, 4, 20, 898, 9, 36, 361, 111, 231, 4839, 1009, 132, 5457]\n",
      "z_base_tok:  132\n",
      "y_base_tok:  231\n",
      "x_base_tok:  361\n",
      "res base: 12\n",
      "res base wo whitespace: 2\n",
      "res base with prefix: a 12\n",
      "res base tok: ['a', 'Ġ12']\n",
      "operands_base:  ('13', '9', '3')\n",
      "base string tok list:  [133, 898, 9, 36, 545, 111, 501, 4839, 1009, 361, 5457, 504, 4, 20, 898, 9, 36, 508, 111, 361, 4839, 1009, 155, 5457]\n",
      "z_base_tok:  155\n",
      "y_base_tok:  361\n",
      "x_base_tok:  508\n",
      "res base: 2\n",
      "res base wo whitespace: \n",
      "res base with prefix: a 2\n",
      "res base tok: ['a', 'Ġ2']\n",
      "operands_base:  ('9', '8', '2')\n",
      "base string tok list:  [133, 898, 9, 36, 504, 111, 158, 4839, 1009, 132, 5457, 545, 4, 20, 898, 9, 36, 361, 111, 290, 4839, 1009, 132, 5457]\n",
      "z_base_tok:  132\n",
      "y_base_tok:  290\n",
      "x_base_tok:  361\n",
      "res base: 18\n",
      "res base wo whitespace: 8\n",
      "res base with prefix: a 18\n",
      "res base tok: ['a', 'Ġ18']\n",
      "operands_base:  ('11', '5', '3')\n",
      "base string tok list:  [133, 898, 9, 36, 290, 111, 262, 4839, 1009, 158, 5457, 158, 4, 20, 898, 9, 36, 365, 111, 195, 4839, 1009, 155, 5457]\n",
      "z_base_tok:  155\n",
      "y_base_tok:  195\n",
      "x_base_tok:  365\n",
      "res base: 9\n",
      "res base wo whitespace: \n",
      "res base with prefix: a 9\n",
      "res base tok: ['a', 'Ġ9']\n",
      "operands_base:  ('16', '15', '9')\n",
      "base string tok list:  [133, 898, 9, 36, 262, 111, 204, 4839, 1009, 231, 5457, 504, 4, 20, 898, 9, 36, 545, 111, 379, 4839, 1009, 361, 5457]\n",
      "z_base_tok:  361\n",
      "y_base_tok:  379\n",
      "x_base_tok:  545\n",
      "res base: 12\n",
      "res base wo whitespace: 2\n",
      "res base with prefix: a 12\n",
      "res base tok: ['a', 'Ġ12']\n",
      "operands_base:  ('20', '18', '6')\n",
      "base string tok list:  [133, 898, 9, 36, 361, 111, 262, 4839, 1009, 195, 5457, 158, 4, 20, 898, 9, 36, 291, 111, 504, 4839, 1009, 231, 5457]\n",
      "z_base_tok:  231\n",
      "y_base_tok:  504\n",
      "x_base_tok:  291\n",
      "res base: 13\n",
      "res base wo whitespace: 3\n",
      "res base with prefix: a 13\n",
      "res base tok: ['a', 'Ġ13']\n",
      "operands_base:  ('16', '15', '13')\n",
      "base string tok list:  [133, 898, 9, 36, 545, 111, 379, 4839, 1009, 158, 5457, 158, 4, 20, 898, 9, 36, 545, 111, 379, 4839, 1009, 508, 5457]\n",
      "z_base_tok:  508\n",
      "y_base_tok:  379\n",
      "x_base_tok:  545\n",
      "res base: 4\n",
      "res base wo whitespace: \n",
      "res base with prefix: a 4\n",
      "res base tok: ['a', 'Ġ4']\n",
      "operands_base:  ('5', '3', '2')\n",
      "base string tok list:  [133, 898, 9, 36, 601, 111, 545, 4839, 1009, 158, 5457, 158, 4, 20, 898, 9, 36, 195, 111, 155, 4839, 1009, 132, 5457]\n",
      "z_base_tok:  132\n",
      "y_base_tok:  155\n",
      "x_base_tok:  195\n"
     ]
    },
    {
     "name": "stderr",
     "output_type": "stream",
     "text": [
      "\n"
     ]
    }
   ],
   "source": [
    "conf = OmegaConf.load('conf/config.yaml')\n",
    "conf.model = 'facebook/opt-6.7b'\n",
    "intervention_list = three_operands.get_arithmetic_data_three_operands(tokenizer_opt, conf)"
   ]
  },
  {
   "cell_type": "code",
   "execution_count": 11,
   "metadata": {},
   "outputs": [
    {
     "data": {
      "text/plain": [
       "'2 + 2 + 4 = 8. 2 + 2 + 3 ='"
      ]
     },
     "execution_count": 11,
     "metadata": {},
     "output_type": "execute_result"
    }
   ],
   "source": [
    "intervention_list[0].few_shots + intervention_list[0].base_string"
   ]
  },
  {
   "cell_type": "code",
   "execution_count": 12,
   "metadata": {},
   "outputs": [
    {
     "name": "stdout",
     "output_type": "stream",
     "text": [
      "2 + 2 + 4 = 8. 2 + 2 + 3 =\n",
      "3 + 3 + 2 = 8. 3 + 3 + 2 =\n",
      "2 + 2 + 2 = 6. 4 + 2 + 2 =\n",
      "2 + 2 + 2 = 6. 2 + 2 + 2 =\n",
      "2 + 3 + 2 = 7. 2 + 2 + 4 =\n",
      "3 + 2 + 3 = 8. 3 + 3 + 2 =\n",
      "2 + 2 + 3 = 7. 3 + 3 + 2 =\n",
      "4 + 2 + 2 = 8. 3 + 3 + 2 =\n",
      "3 + 2 + 3 = 8. 2 + 3 + 2 =\n",
      "4 + 2 + 2 = 8. 2 + 2 + 2 =\n",
      "2 + 2 + 2 = 6. 4 + 2 + 2 =\n",
      "2 + 2 + 4 = 8. 3 + 3 + 2 =\n",
      "3 + 2 + 3 = 8. 2 + 2 + 3 =\n",
      "2 + 4 + 2 = 8. 2 + 4 + 2 =\n",
      "3 + 2 + 3 = 8. 4 + 2 + 2 =\n",
      "2 + 2 + 3 = 7. 2 + 3 + 2 =\n",
      "3 + 2 + 3 = 8. 2 + 2 + 2 =\n",
      "4 + 2 + 2 = 8. 3 + 2 + 2 =\n",
      "2 + 2 + 3 = 7. 2 + 2 + 4 =\n",
      "3 + 2 + 3 = 8. 3 + 2 + 2 =\n",
      "3 + 2 + 3 = 8. 2 + 3 + 2 =\n",
      "2 + 2 + 4 = 8. 3 + 2 + 3 =\n",
      "3 + 2 + 3 = 8. 2 + 2 + 3 =\n",
      "2 + 3 + 2 = 7. 2 + 2 + 3 =\n",
      "2 + 4 + 2 = 8. 2 + 3 + 2 =\n",
      "4 + 2 + 2 = 8. 3 + 2 + 3 =\n",
      "2 + 2 + 3 = 7. 3 + 2 + 3 =\n",
      "2 + 2 + 2 = 6. 3 + 3 + 2 =\n",
      "3 + 2 + 2 = 7. 2 + 3 + 3 =\n",
      "2 + 4 + 2 = 8. 4 + 2 + 2 =\n",
      "The result of 3 + 2 + 3 = 8. The result of 4 + 2 + 2 =\n",
      "The result of 2 + 3 + 2 = 7. The result of 4 + 2 + 2 =\n",
      "The result of 2 + 2 + 2 = 6. The result of 2 + 2 + 4 =\n",
      "The result of 2 + 4 + 2 = 8. The result of 2 + 2 + 4 =\n",
      "The result of 3 + 3 + 2 = 8. The result of 2 + 4 + 2 =\n",
      "The result of 4 + 2 + 2 = 8. The result of 2 + 2 + 3 =\n",
      "The result of 3 + 2 + 2 = 7. The result of 3 + 3 + 2 =\n",
      "The result of 4 + 2 + 2 = 8. The result of 2 + 3 + 2 =\n",
      "The result of 2 + 4 + 2 = 8. The result of 2 + 3 + 2 =\n",
      "The result of 2 + 2 + 4 = 8. The result of 3 + 3 + 2 =\n",
      "The result of 2 + 2 + 2 = 6. The result of 2 + 4 + 2 =\n",
      "The result of 3 + 2 + 3 = 8. The result of 2 + 3 + 2 =\n",
      "The result of 3 + 2 + 3 = 8. The result of 2 + 4 + 2 =\n",
      "The result of 2 + 2 + 2 = 6. The result of 3 + 2 + 2 =\n",
      "The result of 3 + 3 + 2 = 8. The result of 2 + 4 + 2 =\n",
      "The result of 2 + 3 + 3 = 8. The result of 4 + 2 + 2 =\n",
      "The result of 2 + 4 + 2 = 8. The result of 2 + 2 + 3 =\n",
      "The result of 2 + 4 + 2 = 8. The result of 2 + 2 + 4 =\n",
      "The result of 4 + 2 + 2 = 8. The result of 2 + 2 + 4 =\n",
      "The result of 2 + 2 + 3 = 7. The result of 3 + 2 + 2 =\n",
      "The result of 4 + 2 + 2 = 8. The result of 3 + 3 + 2 =\n",
      "The result of 2 + 2 + 2 = 6. The result of 2 + 3 + 2 =\n",
      "The result of 2 + 4 + 2 = 8. The result of 3 + 2 + 2 =\n",
      "The result of 2 + 4 + 2 = 8. The result of 4 + 2 + 2 =\n",
      "The result of 3 + 2 + 3 = 8. The result of 2 + 3 + 3 =\n",
      "The result of 2 + 2 + 2 = 6. The result of 2 + 3 + 3 =\n",
      "The result of 3 + 2 + 2 = 7. The result of 2 + 2 + 4 =\n",
      "The result of 3 + 3 + 2 = 8. The result of 3 + 3 + 2 =\n",
      "The result of 2 + 3 + 2 = 7. The result of 2 + 2 + 2 =\n",
      "The result of 2 + 2 + 3 = 7. The result of 2 + 3 + 3 =\n",
      "The result of 44 minus 2 minus 34 is 8. The result of 40 minus 5 minus 28 is\n",
      "The result of 21 minus 15 minus 4 is 2. The result of 35 minus 22 minus 10 is\n",
      "The result of 40 minus 3 minus 29 is 8. The result of 29 minus 17 minus 9 is\n",
      "The result of 42 minus 33 minus 8 is 1. The result of 25 minus 13 minus 7 is\n",
      "The result of 50 minus 18 minus 26 is 6. The result of 45 minus 17 minus 25 is\n",
      "The result of 47 minus 11 minus 31 is 5. The result of 41 minus 34 minus 5 is\n",
      "The result of 38 minus 10 minus 23 is 5. The result of 34 minus 21 minus 7 is\n",
      "The result of 22 minus 9 minus 7 is 6. The result of 21 minus 10 minus 7 is\n",
      "The result of 34 minus 21 minus 12 is 1. The result of 42 minus 22 minus 15 is\n",
      "The result of 37 minus 18 minus 14 is 5. The result of 43 minus 17 minus 23 is\n",
      "The result of 44 minus 3 minus 34 is 7. The result of 34 minus 2 minus 31 is\n",
      "The result of 46 minus 21 minus 17 is 8. The result of 48 minus 37 minus 8 is\n",
      "The result of 39 minus 9 minus 28 is 2. The result of 48 minus 27 minus 19 is\n",
      "The result of 29 minus 19 minus 4 is 6. The result of 46 minus 19 minus 23 is\n",
      "The result of 41 minus 22 minus 11 is 8. The result of 32 minus 24 minus 4 is\n",
      "The result of 46 minus 41 minus 2 is 3. The result of 40 minus 24 minus 9 is\n",
      "The result of 26 minus 17 minus 4 is 5. The result of 41 minus 26 minus 10 is\n",
      "The result of 37 minus 16 minus 13 is 8. The result of 43 minus 36 minus 4 is\n",
      "The result of 20 minus 11 minus 6 is 3. The result of 35 minus 4 minus 30 is\n",
      "The result of 17 minus 4 minus 5 is 8. The result of 47 minus 34 minus 5 is\n",
      "The result of 50 minus 21 minus 28 is 1. The result of 43 minus 32 minus 6 is\n",
      "The result of 35 minus 14 minus 19 is 2. The result of 50 minus 11 minus 33 is\n",
      "The result of 38 minus 22 minus 8 is 8. The result of 49 minus 28 minus 15 is\n",
      "The result of 44 minus 18 minus 24 is 2. The result of 47 minus 17 minus 25 is\n",
      "The result of 30 minus 17 minus 5 is 8. The result of 38 minus 9 minus 28 is\n",
      "The result of 31 minus 26 minus 4 is 1. The result of 43 minus 29 minus 10 is\n",
      "The result of 16 minus 4 minus 10 is 2. The result of 44 minus 22 minus 15 is\n",
      "The result of 12 minus 3 minus 4 is 5. The result of 40 minus 11 minus 27 is\n",
      "The result of 48 minus 27 minus 16 is 5. The result of 20 minus 5 minus 12 is\n",
      "The result of 20 minus 4 minus 13 is 3. The result of 48 minus 8 minus 32 is\n",
      "The result of 2 * 2 * 2 = 8. The result of 2 * 2 * 2 =\n",
      "The result of 2 * 2 * 2 = 8. The result of 2 * 2 * 2 =\n",
      "The result of 2 * 2 * 2 = 8. The result of 2 * 2 * 2 =\n",
      "The result of 2 * 2 * 2 = 8. The result of 2 * 2 * 2 =\n",
      "The result of 2 * 2 * 2 = 8. The result of 2 * 2 * 2 =\n",
      "The result of 2 * 2 * 2 = 8. The result of 2 * 2 * 2 =\n",
      "The result of 2 * 2 * 2 = 8. The result of 2 * 2 * 2 =\n",
      "The result of 2 * 2 * 2 = 8. The result of 2 * 2 * 2 =\n",
      "The result of 2 * 2 * 2 = 8. The result of 2 * 2 * 2 =\n",
      "The result of 2 * 2 * 2 = 8. The result of 2 * 2 * 2 =\n",
      "The result of 2 * 2 * 2 = 8. The result of 2 * 2 * 2 =\n",
      "The result of 2 * 2 * 2 = 8. The result of 2 * 2 * 2 =\n",
      "The result of 2 * 2 * 2 = 8. The result of 2 * 2 * 2 =\n",
      "The result of 2 * 2 * 2 = 8. The result of 2 * 2 * 2 =\n",
      "The result of 2 * 2 * 2 = 8. The result of 2 * 2 * 2 =\n",
      "The result of 2 * 2 * 2 = 8. The result of 2 * 2 * 2 =\n",
      "The result of 2 * 2 * 2 = 8. The result of 2 * 2 * 2 =\n",
      "The result of 2 * 2 * 2 = 8. The result of 2 * 2 * 2 =\n",
      "The result of 2 * 2 * 2 = 8. The result of 2 * 2 * 2 =\n",
      "The result of 2 * 2 * 2 = 8. The result of 2 * 2 * 2 =\n",
      "The result of 2 * 2 * 2 = 8. The result of 2 * 2 * 2 =\n",
      "The result of 2 * 2 * 2 = 8. The result of 2 * 2 * 2 =\n",
      "The result of 2 * 2 * 2 = 8. The result of 2 * 2 * 2 =\n",
      "The result of 2 * 2 * 2 = 8. The result of 2 * 2 * 2 =\n",
      "The result of 2 * 2 * 2 = 8. The result of 2 * 2 * 2 =\n",
      "The result of 2 * 2 * 2 = 8. The result of 2 * 2 * 2 =\n",
      "The result of 2 * 2 * 2 = 8. The result of 2 * 2 * 2 =\n",
      "The result of 2 * 2 * 2 = 8. The result of 2 * 2 * 2 =\n",
      "The result of 2 * 2 * 2 = 8. The result of 2 * 2 * 2 =\n",
      "The result of 2 * 2 * 2 = 8. The result of 2 * 2 * 2 =\n",
      "The result of 2 times 2 times 2 = 8. The result of 2 times 2 times 2 =\n",
      "The result of 2 times 2 times 2 = 8. The result of 2 times 2 times 2 =\n",
      "The result of 2 times 2 times 2 = 8. The result of 2 times 2 times 2 =\n",
      "The result of 2 times 2 times 2 = 8. The result of 2 times 2 times 2 =\n",
      "The result of 2 times 2 times 2 = 8. The result of 2 times 2 times 2 =\n",
      "The result of 2 times 2 times 2 = 8. The result of 2 times 2 times 2 =\n",
      "The result of 2 times 2 times 2 = 8. The result of 2 times 2 times 2 =\n",
      "The result of 2 times 2 times 2 = 8. The result of 2 times 2 times 2 =\n",
      "The result of 2 times 2 times 2 = 8. The result of 2 times 2 times 2 =\n",
      "The result of 2 times 2 times 2 = 8. The result of 2 times 2 times 2 =\n",
      "The result of 2 times 2 times 2 = 8. The result of 2 times 2 times 2 =\n",
      "The result of 2 times 2 times 2 = 8. The result of 2 times 2 times 2 =\n",
      "The result of 2 times 2 times 2 = 8. The result of 2 times 2 times 2 =\n",
      "The result of 2 times 2 times 2 = 8. The result of 2 times 2 times 2 =\n",
      "The result of 2 times 2 times 2 = 8. The result of 2 times 2 times 2 =\n",
      "The result of 2 times 2 times 2 = 8. The result of 2 times 2 times 2 =\n",
      "The result of 2 times 2 times 2 = 8. The result of 2 times 2 times 2 =\n",
      "The result of 2 times 2 times 2 = 8. The result of 2 times 2 times 2 =\n",
      "The result of 2 times 2 times 2 = 8. The result of 2 times 2 times 2 =\n",
      "The result of 2 times 2 times 2 = 8. The result of 2 times 2 times 2 =\n",
      "The result of 2 times 2 times 2 = 8. The result of 2 times 2 times 2 =\n",
      "The result of 2 times 2 times 2 = 8. The result of 2 times 2 times 2 =\n",
      "The result of 2 times 2 times 2 = 8. The result of 2 times 2 times 2 =\n",
      "The result of 2 times 2 times 2 = 8. The result of 2 times 2 times 2 =\n",
      "The result of 2 times 2 times 2 = 8. The result of 2 times 2 times 2 =\n",
      "The result of 2 times 2 times 2 = 8. The result of 2 times 2 times 2 =\n",
      "The result of 2 times 2 times 2 = 8. The result of 2 times 2 times 2 =\n",
      "The result of 2 times 2 times 2 = 8. The result of 2 times 2 times 2 =\n",
      "The result of 2 times 2 times 2 = 8. The result of 2 times 2 times 2 =\n",
      "The result of 2 times 2 times 2 = 8. The result of 2 times 2 times 2 =\n",
      "2 * 2 * 2 = 8. 2 * 2 * 2 =\n",
      "2 * 2 * 2 = 8. 2 * 2 * 2 =\n",
      "2 * 2 * 2 = 8. 2 * 2 * 2 =\n",
      "2 * 2 * 2 = 8. 2 * 2 * 2 =\n",
      "2 * 2 * 2 = 8. 2 * 2 * 2 =\n",
      "2 * 2 * 2 = 8. 2 * 2 * 2 =\n",
      "2 * 2 * 2 = 8. 2 * 2 * 2 =\n",
      "2 * 2 * 2 = 8. 2 * 2 * 2 =\n",
      "2 * 2 * 2 = 8. 2 * 2 * 2 =\n",
      "2 * 2 * 2 = 8. 2 * 2 * 2 =\n",
      "2 * 2 * 2 = 8. 2 * 2 * 2 =\n",
      "2 * 2 * 2 = 8. 2 * 2 * 2 =\n",
      "2 * 2 * 2 = 8. 2 * 2 * 2 =\n",
      "2 * 2 * 2 = 8. 2 * 2 * 2 =\n",
      "2 * 2 * 2 = 8. 2 * 2 * 2 =\n",
      "2 * 2 * 2 = 8. 2 * 2 * 2 =\n",
      "2 * 2 * 2 = 8. 2 * 2 * 2 =\n",
      "2 * 2 * 2 = 8. 2 * 2 * 2 =\n",
      "2 * 2 * 2 = 8. 2 * 2 * 2 =\n",
      "2 * 2 * 2 = 8. 2 * 2 * 2 =\n",
      "2 * 2 * 2 = 8. 2 * 2 * 2 =\n",
      "2 * 2 * 2 = 8. 2 * 2 * 2 =\n",
      "2 * 2 * 2 = 8. 2 * 2 * 2 =\n",
      "2 * 2 * 2 = 8. 2 * 2 * 2 =\n",
      "2 * 2 * 2 = 8. 2 * 2 * 2 =\n",
      "2 * 2 * 2 = 8. 2 * 2 * 2 =\n",
      "2 * 2 * 2 = 8. 2 * 2 * 2 =\n",
      "2 * 2 * 2 = 8. 2 * 2 * 2 =\n",
      "2 * 2 * 2 = 8. 2 * 2 * 2 =\n",
      "2 * 2 * 2 = 8. 2 * 2 * 2 =\n",
      "The result of ( 33 - 32 ) * 8 = 8. The result of ( 30 - 26 ) * 2 =\n",
      "The result of ( 31 - 29 ) * 4 = 8. The result of ( 20 - 19 ) * 4 =\n",
      "The result of ( 13 - 10 ) * 2 = 6. The result of ( 32 - 31 ) * 6 =\n",
      "The result of ( 3 - 2 ) * 6 = 6. The result of ( 11 - 9 ) * 4 =\n",
      "The result of ( 10 - 9 ) * 7 = 7. The result of ( 50 - 48 ) * 2 =\n",
      "The result of ( 16 - 12 ) * 2 = 8. The result of ( 43 - 39 ) * 2 =\n",
      "The result of ( 23 - 22 ) * 4 = 4. The result of ( 49 - 45 ) * 2 =\n",
      "The result of ( 3 - 2 ) * 2 = 2. The result of ( 43 - 39 ) * 2 =\n",
      "The result of ( 42 - 38 ) * 2 = 8. The result of ( 26 - 25 ) * 7 =\n",
      "The result of ( 45 - 43 ) * 2 = 4. The result of ( 31 - 30 ) * 4 =\n",
      "The result of ( 26 - 22 ) * 2 = 8. The result of ( 4 - 3 ) * 7 =\n",
      "The result of ( 38 - 37 ) * 4 = 4. The result of ( 16 - 15 ) * 2 =\n",
      "The result of ( 20 - 18 ) * 2 = 4. The result of ( 7 - 6 ) * 3 =\n",
      "The result of ( 47 - 43 ) * 2 = 8. The result of ( 33 - 32 ) * 5 =\n",
      "The result of ( 20 - 17 ) * 2 = 6. The result of ( 47 - 45 ) * 3 =\n",
      "The result of ( 37 - 36 ) * 6 = 6. The result of ( 23 - 21 ) * 2 =\n",
      "The result of ( 34 - 30 ) * 2 = 8. The result of ( 15 - 14 ) * 8 =\n",
      "The result of ( 42 - 40 ) * 2 = 4. The result of ( 33 - 31 ) * 4 =\n",
      "The result of ( 35 - 34 ) * 5 = 5. The result of ( 27 - 24 ) * 2 =\n",
      "The result of ( 20 - 18 ) * 2 = 4. The result of ( 50 - 49 ) * 5 =\n",
      "The result of ( 6 - 3 ) * 2 = 6. The result of ( 45 - 44 ) * 4 =\n",
      "The result of ( 12 - 11 ) * 3 = 3. The result of ( 27 - 25 ) * 2 =\n",
      "The result of ( 37 - 36 ) * 6 = 6. The result of ( 26 - 25 ) * 8 =\n",
      "The result of ( 17 - 16 ) * 5 = 5. The result of ( 37 - 36 ) * 2 =\n",
      "The result of ( 22 - 21 ) * 8 = 8. The result of ( 45 - 44 ) * 4 =\n",
      "The result of ( 9 - 8 ) * 5 = 5. The result of ( 42 - 39 ) * 2 =\n",
      "The result of ( 5 - 2 ) * 2 = 6. The result of ( 8 - 7 ) * 8 =\n",
      "The result of ( 27 - 26 ) * 2 = 2. The result of ( 41 - 40 ) * 6 =\n",
      "The result of ( 49 - 47 ) * 2 = 4. The result of ( 10 - 8 ) * 3 =\n",
      "The result of ( 50 - 48 ) * 4 = 8. The result of ( 42 - 41 ) * 6 =\n"
     ]
    }
   ],
   "source": [
    "for item in intervention_list:\n",
    "    print(item.few_shots + item.base_string)"
   ]
  },
  {
   "cell_type": "code",
   "execution_count": 27,
   "metadata": {},
   "outputs": [
    {
     "name": "stderr",
     "output_type": "stream",
     "text": [
      "\n",
      "\u001b[A"
     ]
    },
    {
     "ename": "TypeError",
     "evalue": "an integer is required (got type NoneType)",
     "output_type": "error",
     "traceback": [
      "\u001b[0;31m---------------------------------------------------------------------------\u001b[0m",
      "\u001b[0;31mTypeError\u001b[0m                                 Traceback (most recent call last)",
      "Cell \u001b[0;32mIn[27], line 3\u001b[0m\n\u001b[1;32m      1\u001b[0m conf \u001b[38;5;241m=\u001b[39m OmegaConf\u001b[38;5;241m.\u001b[39mload(\u001b[38;5;124m'\u001b[39m\u001b[38;5;124mconf/config.yaml\u001b[39m\u001b[38;5;124m'\u001b[39m)\n\u001b[1;32m      2\u001b[0m conf\u001b[38;5;241m.\u001b[39mmodel \u001b[38;5;241m=\u001b[39m \u001b[38;5;124m'\u001b[39m\u001b[38;5;124mQwen/Qwen2-1.5B\u001b[39m\u001b[38;5;124m'\u001b[39m\n\u001b[0;32m----> 3\u001b[0m intervention_list \u001b[38;5;241m=\u001b[39m \u001b[43mthree_operands\u001b[49m\u001b[38;5;241;43m.\u001b[39;49m\u001b[43mget_arithmetic_data_three_operands\u001b[49m\u001b[43m(\u001b[49m\u001b[43mtokenizer_qwen_2\u001b[49m\u001b[43m,\u001b[49m\u001b[43m \u001b[49m\u001b[43mconf\u001b[49m\u001b[43m)\u001b[49m\n",
      "File \u001b[0;32m/mnt/qb/work/eickhoff/esx208/arithmetic-lm/interventions/three_operands.py:157\u001b[0m, in \u001b[0;36mget_arithmetic_data_three_operands\u001b[0;34m(tokenizer, args)\u001b[0m\n\u001b[1;32m    153\u001b[0m base_string \u001b[38;5;241m=\u001b[39m template\u001b[38;5;241m.\u001b[39mreplace(\u001b[38;5;124m'\u001b[39m\u001b[38;5;132;01m{x}\u001b[39;00m\u001b[38;5;124m'\u001b[39m, x_base)\u001b[38;5;241m.\u001b[39mreplace(\u001b[38;5;124m'\u001b[39m\u001b[38;5;132;01m{y}\u001b[39;00m\u001b[38;5;124m'\u001b[39m, y_base)\u001b[38;5;241m.\u001b[39mreplace(\u001b[38;5;124m'\u001b[39m\u001b[38;5;132;01m{z}\u001b[39;00m\u001b[38;5;124m'\u001b[39m, z_base)\n\u001b[1;32m    154\u001b[0m alt_string \u001b[38;5;241m=\u001b[39m template\u001b[38;5;241m.\u001b[39mreplace(\u001b[38;5;124m'\u001b[39m\u001b[38;5;132;01m{x}\u001b[39;00m\u001b[38;5;124m'\u001b[39m, x_alt)\u001b[38;5;241m.\u001b[39mreplace(\u001b[38;5;124m'\u001b[39m\u001b[38;5;132;01m{y}\u001b[39;00m\u001b[38;5;124m'\u001b[39m, y_alt)\u001b[38;5;241m.\u001b[39mreplace(\u001b[38;5;124m'\u001b[39m\u001b[38;5;132;01m{z}\u001b[39;00m\u001b[38;5;124m'\u001b[39m, z_alt)\n\u001b[0;32m--> 157\u001b[0m intervention \u001b[38;5;241m=\u001b[39m \u001b[43mIntervention\u001b[49m\u001b[43m(\u001b[49m\u001b[43mtokenizer\u001b[49m\u001b[43m,\u001b[49m\n\u001b[1;32m    158\u001b[0m \u001b[43m                            \u001b[49m\u001b[43mtemplate_type\u001b[49m\u001b[38;5;241;43m=\u001b[39;49m\u001b[38;5;124;43m'\u001b[39;49m\u001b[38;5;124;43m-\u001b[39;49m\u001b[38;5;124;43m'\u001b[39;49m\u001b[43m,\u001b[49m\n\u001b[1;32m    159\u001b[0m \u001b[43m                            \u001b[49m\u001b[43mbase_string\u001b[49m\u001b[38;5;241;43m=\u001b[39;49m\u001b[43mbase_string\u001b[49m\u001b[43m,\u001b[49m\n\u001b[1;32m    160\u001b[0m \u001b[43m                            \u001b[49m\u001b[43malt_string\u001b[49m\u001b[38;5;241;43m=\u001b[39;49m\u001b[43malt_string\u001b[49m\u001b[43m,\u001b[49m\n\u001b[1;32m    161\u001b[0m \u001b[43m                            \u001b[49m\u001b[43mequation\u001b[49m\u001b[38;5;241;43m=\u001b[39;49m\u001b[43mequation\u001b[49m\u001b[43m,\u001b[49m\n\u001b[1;32m    162\u001b[0m \u001b[43m                            \u001b[49m\u001b[43mfew_shots\u001b[49m\u001b[38;5;241;43m=\u001b[39;49m\u001b[43mfew_shots\u001b[49m\u001b[43m,\u001b[49m\n\u001b[1;32m    163\u001b[0m \u001b[43m                            \u001b[49m\u001b[43mn_vars\u001b[49m\u001b[38;5;241;43m=\u001b[39;49m\u001b[38;5;241;43m2\u001b[39;49m\u001b[43m,\u001b[49m\n\u001b[1;32m    164\u001b[0m \u001b[43m                            \u001b[49m\u001b[43mis_opt\u001b[49m\u001b[38;5;241;43m=\u001b[39;49m\u001b[43mis_opt\u001b[49m\u001b[43m,\u001b[49m\n\u001b[1;32m    165\u001b[0m \u001b[43m                            \u001b[49m\u001b[43mis_bloom\u001b[49m\u001b[38;5;241;43m=\u001b[39;49m\u001b[43mis_bloom\u001b[49m\u001b[43m,\u001b[49m\n\u001b[1;32m    166\u001b[0m \u001b[43m                            \u001b[49m\u001b[43mis_mistral\u001b[49m\u001b[38;5;241;43m=\u001b[39;49m\u001b[43mis_mistral\u001b[49m\u001b[43m,\u001b[49m\n\u001b[1;32m    167\u001b[0m \u001b[43m                            \u001b[49m\u001b[43mis_persimmon\u001b[49m\u001b[38;5;241;43m=\u001b[39;49m\u001b[43mis_persimmon\u001b[49m\u001b[43m,\u001b[49m\n\u001b[1;32m    168\u001b[0m \u001b[43m                            \u001b[49m\u001b[43mrepresentation\u001b[49m\u001b[38;5;241;43m=\u001b[39;49m\u001b[43margs\u001b[49m\u001b[38;5;241;43m.\u001b[39;49m\u001b[43mrepresentation\u001b[49m\u001b[43m,\u001b[49m\n\u001b[1;32m    169\u001b[0m \u001b[43m                            \u001b[49m\u001b[43mextended_templates\u001b[49m\u001b[38;5;241;43m=\u001b[39;49m\u001b[43margs\u001b[49m\u001b[38;5;241;43m.\u001b[39;49m\u001b[43mextended_templates\u001b[49m\u001b[43m)\u001b[49m\n\u001b[1;32m    170\u001b[0m intervention\u001b[38;5;241m.\u001b[39mset_results(res_base, res_alt)\n\u001b[1;32m    171\u001b[0m intervention\u001b[38;5;241m.\u001b[39mset_position_of_tokens_three_operands((x_base, y_base, z_base), (x_alt, y_alt, z_alt))\n",
      "File \u001b[0;32m/mnt/qb/work/eickhoff/esx208/arithmetic-lm/interventions/__init__.py:133\u001b[0m, in \u001b[0;36mIntervention.__init__\u001b[0;34m(self, tokenizer, template_type, base_string, alt_string, equation, n_vars, is_opt, is_bloom, is_mistral, is_persimmon, representation, extended_templates, few_shots, few_shots_t2, multitoken, device)\u001b[0m\n\u001b[1;32m    130\u001b[0m         \u001b[38;5;28mself\u001b[39m\u001b[38;5;241m.\u001b[39malt_string_tok_list \u001b[38;5;241m=\u001b[39m padded_tokens\n\u001b[1;32m    132\u001b[0m \u001b[38;5;28mself\u001b[39m\u001b[38;5;241m.\u001b[39mbase_string_tok \u001b[38;5;241m=\u001b[39m torch\u001b[38;5;241m.\u001b[39mLongTensor(\u001b[38;5;28mself\u001b[39m\u001b[38;5;241m.\u001b[39mbase_string_tok_list)\u001b[38;5;241m.\u001b[39mto(device)\u001b[38;5;241m.\u001b[39munsqueeze(\u001b[38;5;241m0\u001b[39m)\n\u001b[0;32m--> 133\u001b[0m \u001b[38;5;28mself\u001b[39m\u001b[38;5;241m.\u001b[39malt_string_tok \u001b[38;5;241m=\u001b[39m \u001b[43mtorch\u001b[49m\u001b[38;5;241;43m.\u001b[39;49m\u001b[43mLongTensor\u001b[49m\u001b[43m(\u001b[49m\u001b[38;5;28;43mself\u001b[39;49m\u001b[38;5;241;43m.\u001b[39;49m\u001b[43malt_string_tok_list\u001b[49m\u001b[43m)\u001b[49m\u001b[38;5;241m.\u001b[39mto(device)\u001b[38;5;241m.\u001b[39munsqueeze(\u001b[38;5;241m0\u001b[39m)\n\u001b[1;32m    135\u001b[0m \u001b[38;5;28;01massert\u001b[39;00m \u001b[38;5;28mlen\u001b[39m(\u001b[38;5;28mself\u001b[39m\u001b[38;5;241m.\u001b[39mbase_string_tok) \u001b[38;5;241m==\u001b[39m \u001b[38;5;28mlen\u001b[39m(\u001b[38;5;28mself\u001b[39m\u001b[38;5;241m.\u001b[39malt_string_tok), \u001b[38;5;124m'\u001b[39m\u001b[38;5;132;01m{}\u001b[39;00m\u001b[38;5;124m vs \u001b[39m\u001b[38;5;132;01m{}\u001b[39;00m\u001b[38;5;124m'\u001b[39m\u001b[38;5;241m.\u001b[39mformat(\n\u001b[1;32m    136\u001b[0m     \u001b[38;5;28mself\u001b[39m\u001b[38;5;241m.\u001b[39mbase_string, \u001b[38;5;28mself\u001b[39m\u001b[38;5;241m.\u001b[39malt_string)\n",
      "\u001b[0;31mTypeError\u001b[0m: an integer is required (got type NoneType)"
     ]
    }
   ],
   "source": [
    "conf = OmegaConf.load('conf/config.yaml')\n",
    "conf.model = 'Qwen/Qwen2-1.5B'\n",
    "intervention_list = three_operands.get_arithmetic_data_three_operands(tokenizer_qwen_2, conf)"
   ]
  },
  {
   "cell_type": "code",
   "execution_count": null,
   "metadata": {},
   "outputs": [],
   "source": []
  }
 ],
 "metadata": {
  "kernelspec": {
   "display_name": "Python 3 (ipykernel)",
   "language": "python",
   "name": "python3"
  },
  "language_info": {
   "codemirror_mode": {
    "name": "ipython",
    "version": 3
   },
   "file_extension": ".py",
   "mimetype": "text/x-python",
   "name": "python",
   "nbconvert_exporter": "python",
   "pygments_lexer": "ipython3",
   "version": "3.9.19"
  }
 },
 "nbformat": 4,
 "nbformat_minor": 2
}
