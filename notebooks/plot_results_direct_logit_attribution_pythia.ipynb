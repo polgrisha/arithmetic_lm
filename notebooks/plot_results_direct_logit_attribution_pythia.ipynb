{
 "cells": [
  {
   "cell_type": "code",
   "execution_count": 1,
   "metadata": {},
   "outputs": [
    {
     "name": "stderr",
     "output_type": "stream",
     "text": [
      "Matplotlib created a temporary cache directory at /tmp/matplotlib-l3josmrd because the default path (/scratch_local/eickhoff/esx208/.cache/matplotlib) is not a writable directory; it is highly recommended to set the MPLCONFIGDIR environment variable to a writable directory, in particular to speed up the import of Matplotlib and to better support multiprocessing.\n",
      "Fontconfig error: Cannot load default config file: No such file: (null)\n",
      "Fontconfig error: No writable cache directories\n",
      "Fontconfig error: No writable cache directories\n",
      "Fontconfig error: No writable cache directories\n",
      "Fontconfig error: No writable cache directories\n",
      "Fontconfig error: No writable cache directories\n",
      "Fontconfig error: No writable cache directories\n",
      "Fontconfig error: No writable cache directories\n"
     ]
    }
   ],
   "source": [
    "from transformers import AutoTokenizer, AutoModelForCausalLM\n",
    "import torch\n",
    "import random\n",
    "import yaml\n",
    "from omegaconf import DictConfig, OmegaConf\n",
    "from interventions import three_operands\n",
    "from tqdm.notebook import tqdm\n",
    "import numpy as np\n",
    "from functools import partial\n",
    "import pickle\n",
    "\n",
    "import transformer_lens.utils as utils\n",
    "from transformer_lens import ActivationCache, HookedTransformer\n",
    "import transformer_lens.patching as patching\n",
    "import seaborn as sns\n",
    "import matplotlib.pyplot as plt\n",
    "\n",
    "seed = 0"
   ]
  },
  {
   "cell_type": "code",
   "execution_count": 2,
   "metadata": {},
   "outputs": [
    {
     "data": {
      "text/plain": [
       "<torch.autograd.grad_mode.set_grad_enabled at 0x7f2ca9923df0>"
      ]
     },
     "execution_count": 2,
     "metadata": {},
     "output_type": "execute_result"
    }
   ],
   "source": [
    "random.seed(seed)\n",
    "torch.manual_seed(seed)\n",
    "torch.set_grad_enabled(False)"
   ]
  },
  {
   "cell_type": "code",
   "execution_count": 3,
   "metadata": {},
   "outputs": [
    {
     "name": "stderr",
     "output_type": "stream",
     "text": [
      "/home/scratch_local/esx208-907207/ir_mech_interp/lib/python3.9/site-packages/transformers/tokenization_utils_base.py:1601: FutureWarning: `clean_up_tokenization_spaces` was not set. It will be set to `True` by default. This behavior will be depracted in transformers v4.45, and will be then set to `False` by default. For more details check this issue: https://github.com/huggingface/transformers/issues/31884\n",
      "  warnings.warn(\n",
      "WARNING:root:float16 models may not work on CPU. Consider using a GPU or bfloat16.\n"
     ]
    },
    {
     "data": {
      "application/vnd.jupyter.widget-view+json": {
       "model_id": "7e179c6ff2074cadb8557c2888e025bd",
       "version_major": 2,
       "version_minor": 0
      },
      "text/plain": [
       "Loading checkpoint shards:   0%|          | 0/3 [00:00<?, ?it/s]"
      ]
     },
     "metadata": {},
     "output_type": "display_data"
    },
    {
     "name": "stderr",
     "output_type": "stream",
     "text": [
      "/home/scratch_local/esx208-907207/ir_mech_interp/lib/python3.9/site-packages/transformers/tokenization_utils_base.py:1601: FutureWarning: `clean_up_tokenization_spaces` was not set. It will be set to `True` by default. This behavior will be depracted in transformers v4.45, and will be then set to `False` by default. For more details check this issue: https://github.com/huggingface/transformers/issues/31884\n",
      "  warnings.warn(\n"
     ]
    },
    {
     "name": "stdout",
     "output_type": "stream",
     "text": [
      "Loaded pretrained model EleutherAI/pythia-12b-deduped-v0 into HookedTransformer\n"
     ]
    }
   ],
   "source": [
    "model_name = 'EleutherAI/pythia-12b-deduped-v0'\n",
    "model_name_lens = 'pythia-12b-deduped-v0'\n",
    "# model_name = 'EleutherAI/pythia-6.9b-deduped-v0'\n",
    "# model_name_lens = 'pythia-6.9b-deduped-v0'\n",
    "# model_name_lens = 'facebook/opt-125m'\n",
    "# model_name = 'mosaicml/mpt-7b'\n",
    "tokenizer = AutoTokenizer.from_pretrained(model_name)\n",
    "\n",
    "model = HookedTransformer.from_pretrained_no_processing(\n",
    "    model_name,\n",
    "    dtype=torch.float16\n",
    ")\n",
    "model.eval()\n",
    "conf = OmegaConf.load('conf/config.yaml')"
   ]
  },
  {
   "cell_type": "code",
   "execution_count": 4,
   "metadata": {},
   "outputs": [
    {
     "ename": "Exception",
     "evalue": "Error while attempting to unpickle Tokenizer: data did not match any variant of untagged enum ModelWrapper at line 1 column 1559948",
     "output_type": "error",
     "traceback": [
      "\u001b[0;31m---------------------------------------------------------------------------\u001b[0m",
      "\u001b[0;31mException\u001b[0m                                 Traceback (most recent call last)",
      "Cell \u001b[0;32mIn[4], line 7\u001b[0m\n\u001b[1;32m      4\u001b[0m conf\u001b[38;5;241m.\u001b[39mmax_n \u001b[38;5;241m=\u001b[39m \u001b[38;5;241m20\u001b[39m\n\u001b[1;32m      5\u001b[0m \u001b[38;5;66;03m# conf.n_shots = 1\u001b[39;00m\n\u001b[1;32m      6\u001b[0m \u001b[38;5;66;03m# intervention_list = three_operands.get_arithmetic_data_three_operands(tokenizer, conf)\u001b[39;00m\n\u001b[0;32m----> 7\u001b[0m intervention_list \u001b[38;5;241m=\u001b[39m \u001b[43mpickle\u001b[49m\u001b[38;5;241;43m.\u001b[39;49m\u001b[43mload\u001b[49m\u001b[43m(\u001b[49m\u001b[38;5;28;43mopen\u001b[39;49m\u001b[43m(\u001b[49m\u001b[38;5;124;43m'\u001b[39;49m\u001b[38;5;124;43m/mnt/qb/work/eickhoff/esx208/arithmetic-lm/data/intervention_1_shots_max_20_arabic_further_templates.pkl\u001b[39;49m\u001b[38;5;124;43m'\u001b[39;49m\u001b[43m,\u001b[49m\u001b[43m \u001b[49m\u001b[38;5;124;43m'\u001b[39;49m\u001b[38;5;124;43mrb\u001b[39;49m\u001b[38;5;124;43m'\u001b[39;49m\u001b[43m)\u001b[49m\u001b[43m)\u001b[49m\n",
      "\u001b[0;31mException\u001b[0m: Error while attempting to unpickle Tokenizer: data did not match any variant of untagged enum ModelWrapper at line 1 column 1559948"
     ]
    }
   ],
   "source": [
    "conf = OmegaConf.load('./conf/config.yaml')\n",
    "conf.model = model_name\n",
    "# conf.max_n = 9\n",
    "conf.max_n = 20\n",
    "# conf.n_shots = 1\n",
    "# intervention_list = three_operands.get_arithmetic_data_three_operands(tokenizer, conf)\n",
    "intervention_list = pickle.load(open('/mnt/qb/work/eickhoff/esx208/arithmetic-lm/data/intervention_1_shots_max_20_arabic_further_templates.pkl', 'rb'))"
   ]
  },
  {
   "cell_type": "code",
   "execution_count": 5,
   "metadata": {},
   "outputs": [],
   "source": [
    "clean_logits, clean_cache = model.run_with_cache(intervention_list[0].base_string_tok)"
   ]
  },
  {
   "cell_type": "code",
   "execution_count": 7,
   "metadata": {},
   "outputs": [
    {
     "data": {
      "text/plain": [
       "torch.Size([1, 14, 5120])"
      ]
     },
     "execution_count": 7,
     "metadata": {},
     "output_type": "execute_result"
    }
   ],
   "source": [
    "model.tokens_to_residual_directions(intervention_list[0].base_string_tok).shape"
   ]
  },
  {
   "cell_type": "code",
   "execution_count": 8,
   "metadata": {},
   "outputs": [],
   "source": [
    "from jaxtyping import Float, Int, Bool\n",
    "from typing import Literal, Callable\n",
    "from torch import Tensor\n",
    "from transformer_lens.hook_points import HookPoint\n",
    "import itertools"
   ]
  },
  {
   "cell_type": "code",
   "execution_count": null,
   "metadata": {},
   "outputs": [],
   "source": [
    "def patch_or_freeze_head_vectors(\n",
    "    orig_head_vector: Float[Tensor, \"batch pos head_index d_head\"],\n",
    "    hook: HookPoint,\n",
    "    new_cache: ActivationCache,\n",
    "    orig_cache: ActivationCache,\n",
    "    head_to_patch: tuple[int, int],\n",
    ") -> Float[Tensor, \"batch pos head_index d_head\"]:\n",
    "    '''\n",
    "    This helps implement step 2 of path patching. We freeze all head outputs (i.e. set them\n",
    "    to their values in orig_cache), except for head_to_patch (if it's in this layer) which\n",
    "    we patch with the value from new_cache.\n",
    "\n",
    "    head_to_patch: tuple of (layer, head)\n",
    "        we can use hook.layer() to check if the head to patch is in this layer\n",
    "    '''\n",
    "    # Setting using ..., otherwise changing orig_head_vector will edit cache value too\n",
    "    orig_head_vector[...] = orig_cache[hook.name][...]\n",
    "    if head_to_patch[0] == hook.layer():\n",
    "        orig_head_vector[:, :, head_to_patch[1]] = new_cache[hook.name][:, :, head_to_patch[1]]\n",
    "    return orig_head_vector\n",
    "\n",
    "def get_path_patch_head_to_final_resid_post(\n",
    "    model,\n",
    "    patching_metric,\n",
    "    interventions\n",
    "):\n",
    "    model.reset_hooks()\n",
    "    results = torch.zeros(model.cfg.n_layers, model.cfg.n_heads, device=\"cuda\", dtype=torch.float32)\n",
    "    \n",
    "    resid_post_hook_name = utils.get_act_name(\"resid_post\", model.cfg.n_layers - 1)\n",
    "    resid_post_name_filter = lambda name: name == resid_post_hook_name\n",
    "    \n",
    "    \n",
    "def get_logit_diff(logits, answer_token_indices):\n",
    "    if len(logits.shape)==3:\n",
    "        # Get final logits only\n",
    "        logits = logits[:, -1, :]\n",
    "    correct_logits = logits.gather(1, answer_token_indices[:, 0].unsqueeze(1))\n",
    "    incorrect_logits = logits.gather(1, answer_token_indices[:, 1].unsqueeze(1))\n",
    "    return (correct_logits - incorrect_logits).mean()\n",
    "    \n",
    "\n",
    "def get_path_patch_head_to_final_resid_post(\n",
    "    model: HookedTransformer,\n",
    "    interventions\n",
    ") -> Float[Tensor, \"layer head\"]:\n",
    "    # SOLUTION\n",
    "    '''\n",
    "    Performs path patching (see algorithm in appendix B of IOI paper), with:\n",
    "\n",
    "        sender head = (each head, looped through, one at a time)\n",
    "        receiver node = final value of residual stream\n",
    "\n",
    "    Returns:\n",
    "        tensor of metric values for every possible sender head\n",
    "    '''\n",
    "    \n",
    "    for intervention in interventions:\n",
    "        model.reset_hooks()\n",
    "        results = torch.zeros(model.cfg.n_layers, model.cfg.n_heads, device=\"cuda\", dtype=torch.float32)\n",
    "\n",
    "        resid_post_hook_name = utils.get_act_name(\"resid_post\", model.cfg.n_layers - 1)\n",
    "        resid_post_name_filter = lambda name: name == resid_post_hook_name\n",
    "        \n",
    "        # ========== Step 1 ==========\n",
    "        # Gather activations on x_orig and x_new\n",
    "\n",
    "        # Note the use of names_filter for the run_with_cache function. Using it means we\n",
    "        # only cache the things we need (in this case, just attn head outputs).\n",
    "        z_name_filter = lambda name: name.endswith(\"z\")\n",
    "        if new_cache is None:\n",
    "            _, new_cache = model.run_with_cache(\n",
    "                intervention.base_string_tok,\n",
    "                names_filter=z_name_filter,\n",
    "                return_type=None\n",
    "            )\n",
    "        if orig_cache is None:\n",
    "            _, orig_cache = model.run_with_cache(\n",
    "                intervention.alt_string_tok,\n",
    "                names_filter=z_name_filter,\n",
    "                return_type=None\n",
    "            )\n",
    "            \n",
    "        answer_token_indices = torch.tensor([[intervention.res_base_tok[0], intervention.pred_res_alt_tok]]).to(model.cfg.device)\n",
    "        metric = partial(get_logit_diff, answer_token_indices=answer_token_indices)\n",
    "            \n",
    "        # Looping over every possible sender head (the receiver is always the final resid_post)\n",
    "        # Note use of itertools (gives us a smoother progress bar)\n",
    "        for (sender_layer, sender_head) in tqdm(list(itertools.product(range(model.cfg.n_layers), range(model.cfg.n_heads)))):\n",
    "\n",
    "            # ========== Step 2 ==========\n",
    "            # Run on x_orig, with sender head patched from x_new, every other head frozen\n",
    "\n",
    "            hook_fn = partial(\n",
    "                patch_or_freeze_head_vectors,\n",
    "                new_cache=new_cache,\n",
    "                orig_cache=orig_cache,\n",
    "                head_to_patch=(sender_layer, sender_head),\n",
    "            )\n",
    "            model.add_hook(z_name_filter, hook_fn)\n",
    "\n",
    "            _, patched_cache = model.run_with_cache(\n",
    "                intervention.alt_string_tok,\n",
    "                names_filter=resid_post_name_filter,\n",
    "                return_type=None\n",
    "            )\n",
    "            # if (sender_layer, sender_head) == (9, 9):\n",
    "            #     return patched_cache\n",
    "            assert set(patched_cache.keys()) == {resid_post_hook_name}\n",
    "\n",
    "            # ========== Step 3 ==========\n",
    "            # Unembed the final residual stream value, to get our patched logits\n",
    "\n",
    "            patched_logits = model.unembed(model.ln_final(patched_cache[resid_post_hook_name]))\n",
    "\n",
    "            # Save the results\n",
    "            results[sender_layer, sender_head] = patching_metric(patched_logits)\n",
    "\n",
    "        return results"
   ]
  },
  {
   "cell_type": "code",
   "execution_count": 13,
   "metadata": {},
   "outputs": [
    {
     "ename": "AttributeError",
     "evalue": "'Intervention' object has no attribute 'pred_res_alt_tok'",
     "output_type": "error",
     "traceback": [
      "\u001b[0;31m---------------------------------------------------------------------------\u001b[0m",
      "\u001b[0;31mAttributeError\u001b[0m                            Traceback (most recent call last)",
      "Cell \u001b[0;32mIn[13], line 1\u001b[0m\n\u001b[0;32m----> 1\u001b[0m path_patch_head_to_final_resid_post \u001b[38;5;241m=\u001b[39m \u001b[43mget_path_patch_head_to_final_resid_post\u001b[49m\u001b[43m(\u001b[49m\u001b[43mmodel\u001b[49m\u001b[43m,\u001b[49m\u001b[43m \u001b[49m\u001b[43mintervention_list\u001b[49m\u001b[43m[\u001b[49m\u001b[43m:\u001b[49m\u001b[38;5;241;43m1\u001b[39;49m\u001b[43m]\u001b[49m\u001b[43m)\u001b[49m\n",
      "Cell \u001b[0;32mIn[12], line 65\u001b[0m, in \u001b[0;36mget_path_patch_head_to_final_resid_post\u001b[0;34m(model, interventions)\u001b[0m\n\u001b[1;32m     62\u001b[0m resid_post_hook_name \u001b[38;5;241m=\u001b[39m utils\u001b[38;5;241m.\u001b[39mget_act_name(\u001b[38;5;124m\"\u001b[39m\u001b[38;5;124mresid_post\u001b[39m\u001b[38;5;124m\"\u001b[39m, model\u001b[38;5;241m.\u001b[39mcfg\u001b[38;5;241m.\u001b[39mn_layers \u001b[38;5;241m-\u001b[39m \u001b[38;5;241m1\u001b[39m)\n\u001b[1;32m     63\u001b[0m resid_post_name_filter \u001b[38;5;241m=\u001b[39m \u001b[38;5;28;01mlambda\u001b[39;00m name: name \u001b[38;5;241m==\u001b[39m resid_post_hook_name\n\u001b[0;32m---> 65\u001b[0m answer_token_indices \u001b[38;5;241m=\u001b[39m torch\u001b[38;5;241m.\u001b[39mtensor([[intervention\u001b[38;5;241m.\u001b[39mres_base_tok[\u001b[38;5;241m0\u001b[39m], \u001b[43mintervention\u001b[49m\u001b[38;5;241;43m.\u001b[39;49m\u001b[43mpred_res_alt_tok\u001b[49m]])\u001b[38;5;241m.\u001b[39mto(model\u001b[38;5;241m.\u001b[39mcfg\u001b[38;5;241m.\u001b[39mdevice)\n\u001b[1;32m     66\u001b[0m metric \u001b[38;5;241m=\u001b[39m partial(get_logit_diff, answer_token_indices\u001b[38;5;241m=\u001b[39manswer_token_indices)\n\u001b[1;32m     68\u001b[0m \u001b[38;5;66;03m# ========== Step 1 ==========\u001b[39;00m\n\u001b[1;32m     69\u001b[0m \u001b[38;5;66;03m# Gather activations on x_orig and x_new\u001b[39;00m\n\u001b[1;32m     70\u001b[0m \n\u001b[1;32m     71\u001b[0m \u001b[38;5;66;03m# Note the use of names_filter for the run_with_cache function. Using it means we\u001b[39;00m\n\u001b[1;32m     72\u001b[0m \u001b[38;5;66;03m# only cache the things we need (in this case, just attn head outputs).\u001b[39;00m\n",
      "\u001b[0;31mAttributeError\u001b[0m: 'Intervention' object has no attribute 'pred_res_alt_tok'"
     ]
    }
   ],
   "source": [
    "path_patch_head_to_final_resid_post = get_path_patch_head_to_final_resid_post(model, intervention_list[:1])"
   ]
  },
  {
   "cell_type": "code",
   "execution_count": null,
   "metadata": {},
   "outputs": [],
   "source": []
  }
 ],
 "metadata": {
  "kernelspec": {
   "display_name": "Python 3 (ipykernel)",
   "language": "python",
   "name": "python3"
  },
  "language_info": {
   "codemirror_mode": {
    "name": "ipython",
    "version": 3
   },
   "file_extension": ".py",
   "mimetype": "text/x-python",
   "name": "python",
   "nbconvert_exporter": "python",
   "pygments_lexer": "ipython3",
   "version": "3.9.19"
  }
 },
 "nbformat": 4,
 "nbformat_minor": 2
}
